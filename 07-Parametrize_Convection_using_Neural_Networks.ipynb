{
  "nbformat": 4,
  "nbformat_minor": 0,
  "metadata": {
    "colab": {
      "name": "07-Parametrize_Convection_using_Neural_Networks.ipynb",
      "version": "0.3.2",
      "provenance": [],
      "collapsed_sections": []
    },
    "language_info": {
      "codemirror_mode": {
        "name": "ipython",
        "version": 3
      },
      "file_extension": ".py",
      "mimetype": "text/x-python",
      "name": "python",
      "nbconvert_exporter": "python",
      "pygments_lexer": "ipython3",
      "version": "3.7.3"
    },
    "kernelspec": {
      "name": "python3",
      "display_name": "Python 3"
    },
    "accelerator": "GPU"
  },
  "cells": [
    {
      "cell_type": "markdown",
      "metadata": {
        "id": "Cwpg0S7p4Qdq",
        "colab_type": "text"
      },
      "source": [
        "# Credits\n",
        "\n",
        "- The description of the Keras library was adapted from the Keras official documentation at https://keras.io/.\n",
        "\n",
        "- Gentine, P., Pritchard, M., Rasp, S., Reinaudi, G., & Yacalis, G. ( 2018). Could machine learning break the convection parameterization deadlock? Geophysical Research Letters, 45, 5742– 5751. \n",
        "https://agupubs.onlinelibrary.wiley.com/doi/epdf/10.1029/2018GL078202\n",
        "\n",
        "\n",
        "# 7 - Parametrize Convection using Neural Networks\n",
        "\n",
        "Representing unresolved moist convection in coarse‐scale climate models remains one of the main challenges of current climate simulations. The coarse resolution of these models is not sufficient to resolve the convective processes that produce rain.\n",
        "In consequence, to represent the covection models rely on a parametrization that diagnose the precipitation at the ground from the model prognostic variables (humidity, temperature, pressure, etc.).\n",
        "\n",
        "In this tutorial we will show how the convective parametrizations in a simple numerical climate model can be modeled using Neural Networks. \n",
        "The traning and testing data (model state variables and the precipitation) were created using the SPEEDY model. \n",
        "SPEEDY is a simplified GCM developed at ICTP by Franco Molteni and Fred Kucharski.  The ICTP AGCM (nicknamed SPEEDY, for \"Simplified Parameterizations, privitivE-Equation DYnamics\") is based on a spectral dynamical core developed at the Geophysical Fluid Dynamics Laboratory. It is a hydrostatic, s-coordinate, spectral-transform model in the vorticity-divergence form, with semi-implicit treatment of gravity waves.\n",
        "\n",
        "In the following sections, we will cover the Neural Network basics and then create and train a Neural Network using the Keras python library.\n"
      ]
    },
    {
      "cell_type": "markdown",
      "metadata": {
        "_cell_guid": "5798f0f0-ef68-4630-866c-c6c6cd459fa7",
        "_uuid": "20b6dcf907bd223863cbbe5f4995c284282b05d9",
        "id": "tQFMYQtI4Qdx",
        "colab_type": "text"
      },
      "source": [
        "\n",
        "## Contents  \n",
        "<br>\n",
        "\n",
        "1. [Introduction to Neural Networks](#IntroductionToNN)\n",
        "\n",
        "    1. [What are Neural Networks](#WhatAreNN)\n",
        "    1. [Neurons](#Neurons)\n",
        "    1. [Activation Functions](#ActivationFunctions)\n",
        "    1. [ForwardPropagation](#ForwardPropagation)\n",
        "    1. [Training Neural Networks](#TrainingNN)\n",
        "        1.[Getting started: 30 seconds to Keras](#GettingStartedToKeras)\n",
        "1. [Parametrize convection using Neural networks](#ParametrizeConvection)\n",
        "    1. [The climate model](#Speedy)\n",
        "    1. [Training dataset](#Dataset)\n",
        "    1. [Preparing the data](#Preprocessing)\n",
        "    1. [Train my first neural network](#MyFirstNN)\n",
        "    1. [Optimal neural network architecture and training parameters](#OptimalModel)\n",
        "    \n",
        "1. Credits\n",
        "1. License\n",
        "\n",
        "\n"
      ]
    },
    {
      "cell_type": "markdown",
      "metadata": {
        "id": "_ee_2g10XZuL",
        "colab_type": "text"
      },
      "source": [
        "# Requirements \n",
        "\n",
        "This notebook was created to be used in google Colab, reading the input data files from Google Drive. \n",
        "That means that you need a google account to follow this notebook as it is. \n",
        "\n",
        "## Google Colab users \n",
        "\n",
        "Assuming that you already have a google account, to set up the environment needed for this tutorial follow these steps:\n",
        "\n",
        "- In you google Drive, create a new directory in the root drive's root called \"Datasets\" \n",
        "- Upload the following files into that directory: https://drive.google.com/open?id=1tDGUqrkMWCSTQALJ28BdGqh70aw7i8nS\n",
        "- Go to https://colab.research.google.com/ and upload this notebook (Python3)\n",
        "\n",
        "Almost all the dependencies are already installed in the google colab environment. You are ready to go now! \n",
        "\n",
        "## Running jupyter notebook locally\n",
        "\n",
        "If you want to run this notebook in your local computer, you need to download the files in https://drive.google.com/open?id=1tDGUqrkMWCSTQALJ28BdGqh70aw7i8nS and update the paths in this notebook to point to your local directories.\n"
      ]
    },
    {
      "cell_type": "markdown",
      "metadata": {
        "_cell_guid": "b1076dfc-b9ad-4769-8c92-a6c4dae69d19",
        "_uuid": "8f2839f25d086af736a60e9eeb907d3b93b6e0e5",
        "id": "7PE6Y-GI4Qd6",
        "colab_type": "text"
      },
      "source": [
        "<a id='IntroductionToNN'></a>\n",
        "\n",
        "# Introduction to Neural Networks\n",
        "\n",
        "<a id='WhatAreNN'></a>\n",
        "## What are Neural Networks\n",
        "\n",
        "Neural networks are a type of machine learning models which are *losely inspired* in biological neurons and human nervous system. These models are used to recognize complex patterns and relationships that exists within a dataset. \n",
        "\n",
        "They have following properties:\n",
        "\n",
        "1. The core architecture of a Neural Network model consists of a large number of simple processing nodes called **Neurons** which are interconnected and organized in different layers. \n",
        "\n",
        "2. An individual node in a layer is connected to several other nodes in the previous and the next layer. The inputs form one layer are received and processed to generate the output which is passed to the next layer.\n",
        "\n",
        "3. The first layer of this architecture is often named as input layer which accepts the inputs, the last layer is named as the output layer which produces the output and every other layer between input and output layer is named is hidden layers. \n",
        "\n",
        "\n",
        "<img src=\"./fig/Neural_network_bottleneck_achitecture.svg\" alt=\"https://upload.wikimedia.org/wikipedia/commons/8/8b/Neural_network_bottleneck_achitecture.svg\" width=\"50%\">\n",
        "\n",
        "<a id='Neurons'></a>\n",
        "## Neurons\n",
        "\n",
        "A Neuron is a single processing unit of a Neural Network which are connected to different other neurons in the network. These connections repersents inputs and ouputs from a neuron. To each of its connections, the neuron assigns a “weight” (W) which signifies the importance the input and adds a bias (b) term. \n",
        "\n",
        "<img src=\"https://upload.wikimedia.org/wikipedia/commons/6/60/ArtificialNeuronModel_english.png\" alt=\"https://upload.wikimedia.org/wikipedia/commons/6/60/ArtificialNeuronModel_english.png\" width=\"85%\">"
      ]
    },
    {
      "cell_type": "markdown",
      "metadata": {
        "id": "Wb9giRg74Qd-",
        "colab_type": "text"
      },
      "source": [
        "<a id='ActivationFunctions'></a>\n",
        "### Activation Functions \n",
        "\n",
        "The activation functions are used to apply non-linear transformation on input to map it to output. The aim of activation functions is to predict the right class of the target variable based on the input combination of variables. Some of the popular activation functions are Relu, Sigmoid, and TanH. \n",
        "\n",
        "<img src=\"https://cs-cheatsheet.readthedocs.io/en/latest/_images/activation_functions.png\" alt=\"https://cs-cheatsheet.readthedocs.io/en/latest/_images/activation_functions.png\" width=\"70%\">\n",
        "\n",
        "< Source: Stanford cs231n >\n",
        "\n",
        "<a id='ForwardPropagation'></a>\n",
        "### Forward Propagation \n",
        "\n",
        "Neural Network model compute the obtain the desired ouput through a process called forward propagation, in which it passes the computed activation outputs in the forward direction. \n",
        "\n",
        "$o_j= \\varphi \\left( \\sum\\limits_{i=1}^n x_i*w_{ij} + b_i) \\right)$\n",
        "\n",
        "Where: \n",
        "\n",
        "- $x_i$ : $i^{th}$ input to the neuron.\n",
        "- *j* : the neuron number.\n",
        "- $w_{ij}$ : weight associated with the $i^(th}$ input.\n",
        "- $\\varphi$ : the activation function.\n",
        "- $b_i$ : the bias associated with the node for the $i^{th}$ input (neuron).\n",
        "- $o_j$ : output value for the $j^{th}$ neuron.\n",
        "\n",
        "Let's express the ouput values of a layer **O** in a more compact form using matrix notation:\n",
        "\n",
        "$\\vec{o}=\\varphi \\left( W \\cdot \\vec{x} + \\vec{b} \\right)$\n",
        "\n",
        "Where: \n",
        "\n",
        "- $\\vec{x}$ : Input vector (1D)\n",
        "- $W$ : weights for each neuron and input (2D).\n",
        "- $\\varphi$ : the activation function.\n",
        "- $\\vec{b}$ : the bias associated with the node for each input (1D)\n",
        "- $\\vec{o}$ : output values (1D)\n",
        "\n",
        "The arquitecture of the neural network and the weigths **W** and **b** represents our \"model\".\n",
        "But a priori we don't know the exact value of the weigths and biases for our particular problem.\n",
        "\n",
        "<a id='TrainingNN'></a>\n",
        "## Training Neural Networks\n",
        "\n",
        "To create a model that represents our data we adjust the weights gradually using a feedback signal from a set of know inputs and outputs, namely our training data.\n",
        "\n",
        "To adjust our weights, we need a measure of how well our model is performing in the training data. For that we will can use a metric called \"loss function\" or \"cost function\" to measure the distance between our predicted and the expected output.\n",
        "\n",
        "E.g.:\n",
        "\n",
        "$Loss = Cost function = RMSE(Actual\\_Values - Predicted\\_Values)$\n",
        "<a id='BackwardPropagation'></a>\n",
        "### Backward Propagation\n",
        "\n",
        "Neural Network model undergoes the process called backpropagation in which the error is passed to backward layers so that those layers can also improve the associated values of weights and bias. \n",
        "\n",
        "The backpropagation uses an algorithm called Gradient Descent in which the error is minimized and optimal values of weights and bias are obtained. This weights and bias adjustment is done by computing the derivative of error, derivative of weights, bias and subtracting them from the original values. "
      ]
    },
    {
      "cell_type": "markdown",
      "metadata": {
        "id": "pJ97MPa74QeC",
        "colab_type": "text"
      },
      "source": [
        "<a id='KerasNN'></a>\n",
        "\n",
        "## Neural networks using Keras\n",
        "\n",
        "Keras is a high-level neural networks API, written in Python and capable of running on top of TensorFlow, CNTK, or Theano. It was developed with a focus on enabling fast experimentation. Being able to go from idea to result with the least possible delay is key to doing good research.\n",
        "\n",
        "\n",
        "### Getting started: 30 seconds to Keras\n",
        "\n",
        "The core data structure of Keras is a model, a way to organize layers. The simplest type of model is the Sequential model, a linear stack of layers. For more complex architectures, you should use the Keras functional API, which allows to build arbitrary graphs of layers.\n",
        "\n",
        "\n",
        "Let's use keras to create a neural network like the one shown in the figure:\n",
        "\n",
        "<img src=\"./fig/Neural_network_bottleneck_achitecture2.png?\" alt=\"https://upload.wikimedia.org/wikipedia/commons/8/8b/Neural_network_bottleneck_achitecture.svg\" width=\"50%\">\n",
        "\n",
        "\n",
        "Main characteristics:\n",
        "\n",
        "- Number of input variables: **7** \n",
        "- Number of input layer nodes (1st layer): **5** \n",
        "- Number of first hidden layer nodes (2nd layer): **4**\n",
        "- Number of second hidden layer nodes (3rd layer): **4**\n",
        "- Number of ouput layer nodes (3th layer): **3**\n",
        "- Activation functions\n",
        "\n",
        "    - input and output layer: **relu** \n",
        "    - hidden layers: **sigmoid**\n",
        "\n",
        "The Sequential model is a linear stack of layers.\n",
        "\n",
        "In keras, a regular feed-forwards densely-connected NN layer is represented by the \n",
        "[keras.layers.Dense](https://keras.io/layers/core/#dense) class.\n",
        "\n",
        "Dense implements the operation: output = activation(dot(input, kernel) + bias) where activation is the element-wise activation function passed as the activation argument, kernel is a weights matrix created by the layer, and bias is a bias vector created by the layer (only applicable if use_bias is True).\n"
      ]
    },
    {
      "cell_type": "code",
      "metadata": {
        "id": "wzE1goId4QeG",
        "colab_type": "code",
        "outputId": "f41f148d-521c-4075-a091-30ff1d435ccb",
        "colab": {}
      },
      "source": [
        "from keras.models import Sequential\n",
        "from keras.layers import Dense\n",
        "\n",
        "model = Sequential()\n",
        "\n",
        "# Stacking layers is as easy as .add():\n",
        "\n",
        "# Input layer. Here we specify the input shape.\n",
        "model.add(Dense(units=5, activation='relu', input_dim=7)) \n",
        "\n",
        "# Hidden layers\n",
        "model.add(Dense(units=4, activation='relu'))\n",
        "model.add(Dense(units=4, activation='relu'))\n",
        "\n",
        "#Output layer\n",
        "model.add(Dense(units=3, activation='relu'))"
      ],
      "execution_count": 0,
      "outputs": [
        {
          "output_type": "stream",
          "text": [
            "Using TensorFlow backend.\n"
          ],
          "name": "stderr"
        },
        {
          "output_type": "stream",
          "text": [
            "WARNING:tensorflow:From /home/aperez/.conda/envs/python3/lib/python3.7/site-packages/tensorflow/python/framework/op_def_library.py:263: colocate_with (from tensorflow.python.framework.ops) is deprecated and will be removed in a future version.\n",
            "Instructions for updating:\n",
            "Colocations handled automatically by placer.\n"
          ],
          "name": "stdout"
        }
      ]
    },
    {
      "cell_type": "markdown",
      "metadata": {
        "id": "Q1DmDMKV4QeV",
        "colab_type": "text"
      },
      "source": [
        "### Specifying the input shape\n",
        "\n",
        "The model needs to know what input shape it should expect. For this reason, the first layer in a Sequential model (and only the first, because following layers can do automatic shape inference) needs to receive information about its input shape.\n",
        "\n",
        "\n",
        "### Compilation\n",
        "\n",
        "Before training a model, you need to configure the learning process, which is done via the compile method. It receives three arguments:\n",
        "\n",
        "- An **optimizer**. This could be the string identifier of an existing optimizer (such as rmsprop or adagrad), or an instance of the Optimizer class. See: [optimizers](https://keras.io/optimizers/).\n",
        "- A **loss** function. This is the objective that the model will try to minimize. It can be the string identifier of an existing loss function (such as categorical_crossentropy or mse), or it can be an objective function. See: [losses](https://keras.io/losses/).\n",
        "- A list of **metrics**. For any classification problem you will want to set this to metrics=['accuracy']. A metric could be the string identifier of an existing metric or a custom metric function. [See available metrics here](https://keras.io/metrics/). The loss functions can also be used as metrics!\n",
        "\n",
        "Let's compile our model:"
      ]
    },
    {
      "cell_type": "code",
      "metadata": {
        "_cell_guid": "abf6aa77-17cd-4b4a-bacf-903838fe813e",
        "_uuid": "735f9f4ab4893a28cc6a28f81a49a182fd02747d",
        "id": "X1eaddCE4QeY",
        "colab_type": "code",
        "colab": {}
      },
      "source": [
        "model.compile(optimizer='sgd', loss='mse', metrics=['mse'])\n",
        "# sgd = Stochastic gradient descent optimizer.             "
      ],
      "execution_count": 0,
      "outputs": []
    },
    {
      "cell_type": "markdown",
      "metadata": {
        "id": "WrVzoU4D4Qef",
        "colab_type": "text"
      },
      "source": [
        "### Training\n",
        "\n",
        "Keras models are trained on Numpy arrays of input data and labels. For training a model, you will typically use the fit function. Read its documentation [here](https://keras.io/models/sequential/).\n",
        "\n",
        "E.g.: Train the model, iterating on the data in batches of 32 samples\n",
        "\n",
        "\n",
        "---\n",
        "\n",
        "\n",
        "`history = model.fit(x_data, y_data, epochs=10, batch_size=32)`\n",
        "\n",
        "\n",
        "---\n",
        "\n",
        "\n",
        "\n",
        "Where: \n",
        "- **epochs**: Number of epochs to train the model. An epoch is an iteration over the entire x and y data provided. Note that in conjunction with initial_epoch, epochs is to be understood as \"final epoch\". The training process may consist in more than one epoch.\n",
        "\n",
        "- **batch_size**: Number of samples per gradient update. If unspecified, batch_size will default to 32.\n",
        "\n",
        "- **history**:  A History object. Its History.history attribute is a record of training loss values and metrics values at successive epochs, as well as validation loss values and validation metrics values (if applicable).\n",
        "\n",
        "### Predict\n",
        "\n",
        "The **predict** method generates output predictions for the input samples. \n",
        "\n",
        "---\n",
        "\n",
        "`predicted_values = model.predict(x, batch_size=None, verbose=0, steps=None, callbacks=None)`\n",
        "\n",
        "---\n",
        "\n",
        "The computation is done in batches.\n",
        "\n",
        "\n",
        "### evaluate\n",
        "\n",
        "The **evaluate**  method returns the loss value & metrics values for the model in test mode.\n",
        "\n",
        "---\n",
        "\n",
        "`evaluate(x=None, y=None, batch_size=None, verbose=1)`\n",
        "\n",
        "---\n",
        "\n",
        "\n",
        "Now, let's use Keras to parametrize convection."
      ]
    },
    {
      "cell_type": "markdown",
      "metadata": {
        "_cell_guid": "e249a1aa-a3df-4342-97ea-48a380d642a0",
        "_uuid": "3fa615d978d15f0430a3adf0bbe2b7ccc8205f5f",
        "id": "_GgtueFQ4Qek",
        "colab_type": "text"
      },
      "source": [
        "# Parametrize convection using Neural networks\n"
      ]
    },
    {
      "cell_type": "markdown",
      "metadata": {
        "_cell_guid": "34aa89c5-b5b7-4b34-9f16-0af4a4046cdf",
        "_uuid": "670c2f126fa04d98426502d720a6288e5b0cb5df",
        "collapsed": true,
        "id": "NK0nsk5w4Qem",
        "colab_type": "text"
      },
      "source": [
        "Representing unresolved moist convection in coarse‐scale climate models remains one of the main challenges of current climate simulations. The coarse resolution of these models is not sufficient to resolve the convective processes that produce rain.\n",
        "In consequence, to represent the covection models rely on a parametrization that diagnose the precipitation at the ground from the model prognostic variables (humidity, temperature, pressure, etc.).\n",
        "\n",
        "In this part of the tutorial we will try to use a Neural Network to learn the convective parametrization used in simplified climate model. \n",
        "\n",
        "## The model\n",
        "\n",
        "To generate the traning data (state variables and the precipitation) we will use the SPEEDY model.\n",
        "SPEEDY is a simplified GCM developed at ICTP by Franco Molteni and Fred Kucharski.\n",
        "\n",
        "The ICTP AGCM (nicknamed SPEEDY, for \"Simplified Parameterizations, privitivE-Equation DYnamics\") is based on a spectral dynamical core developed at the Geophysical Fluid Dynamics Laboratory. It is a hydrostatic, s-coordinate, spectral-transform model in the vorticity-divergence form, with semi-implicit treatment of gravity waves.\n",
        "\n",
        "- https://www.ictp.it/research/esp/models/speedy.aspx\n",
        "- Molteni F (2003) Atmospheric simulations using a GCM with simplified physical  parametrizations. I. Model climatology and variability in multi-decadal experiments. Clim Dyn 20: 175-191\n",
        "\n",
        "- Kucharski F, Molteni F, and Bracco A (2006) Decadal interactions between the western tropical Pacific and the North Atlantic Oscillation. Clim Dyn 26: 79-91\n",
        "\n",
        "## Training dataset\n",
        "\n",
        "The training dataset was generated by running the model for 10 years with a spatial resolution of approx. 2 degrees. The main characteristics of the dataset are:\n",
        "\n",
        "- T30 horizontal resoltution (approx. 2 degrees)\n",
        "- Outputs variables available every 6h for a 10 yr period\n",
        "- Only the latitudes between -30 and 30 degress are included\n",
        "\n",
        "Let's first take a look at the dataset."
      ]
    },
    {
      "cell_type": "code",
      "metadata": {
        "id": "AfTwoQVB4UgQ",
        "colab_type": "code",
        "outputId": "1a56a0be-bfc1-4a8f-ae01-09ff531a863b",
        "colab": {
          "base_uri": "https://localhost:8080/",
          "height": 124
        }
      },
      "source": [
        "from google.colab import drive\n",
        "drive.mount('/content/gdrive')"
      ],
      "execution_count": 0,
      "outputs": [
        {
          "output_type": "stream",
          "text": [
            "Go to this URL in a browser: https://accounts.google.com/o/oauth2/auth?client_id=947318989803-6bn6qk8qdgf4n4g3pfee6491hc0brc4i.apps.googleusercontent.com&redirect_uri=urn%3Aietf%3Awg%3Aoauth%3A2.0%3Aoob&scope=email%20https%3A%2F%2Fwww.googleapis.com%2Fauth%2Fdocs.test%20https%3A%2F%2Fwww.googleapis.com%2Fauth%2Fdrive%20https%3A%2F%2Fwww.googleapis.com%2Fauth%2Fdrive.photos.readonly%20https%3A%2F%2Fwww.googleapis.com%2Fauth%2Fpeopleapi.readonly&response_type=code\n",
            "\n",
            "Enter your authorization code:\n",
            "··········\n",
            "Mounted at /content/gdrive\n"
          ],
          "name": "stdout"
        }
      ]
    },
    {
      "cell_type": "code",
      "metadata": {
        "id": "jCDvG5L04iPr",
        "colab_type": "code",
        "outputId": "a66cd030-5f8f-48cf-8a84-7d7a075c6b9c",
        "colab": {
          "base_uri": "https://localhost:8080/",
          "height": 34
        }
      },
      "source": [
        "import os\n",
        "\n",
        "os.listdir('/content/gdrive/My Drive/Datasets')"
      ],
      "execution_count": 0,
      "outputs": [
        {
          "output_type": "execute_result",
          "data": {
            "text/plain": [
              "['gcm_run_3.nc', 'train_3.nc', 'train_4.nc']"
            ]
          },
          "metadata": {
            "tags": []
          },
          "execution_count": 18
        }
      ]
    },
    {
      "cell_type": "code",
      "metadata": {
        "id": "0DEXQNaL5K-Q",
        "colab_type": "code",
        "outputId": "fc679a21-d3b7-43b7-c2d7-059a2f0ae55f",
        "colab": {
          "base_uri": "https://localhost:8080/",
          "height": 173
        }
      },
      "source": [
        "# We need to install the netcdf4 libraries to read the files\n",
        "!pip install netcdf4"
      ],
      "execution_count": 0,
      "outputs": [
        {
          "output_type": "stream",
          "text": [
            "Collecting netcdf4\n",
            "\u001b[?25l  Downloading https://files.pythonhosted.org/packages/48/94/eacbf790ceb237bee5db9c54e7c225ff0898d6dd496166a21d7c57254eb5/netCDF4-1.5.1.2-cp36-cp36m-manylinux1_x86_64.whl (4.1MB)\n",
            "\u001b[K     |████████████████████████████████| 4.1MB 4.9MB/s \n",
            "\u001b[?25hRequirement already satisfied: numpy>=1.7 in /usr/local/lib/python3.6/dist-packages (from netcdf4) (1.16.4)\n",
            "Collecting cftime (from netcdf4)\n",
            "\u001b[?25l  Downloading https://files.pythonhosted.org/packages/70/64/8ceadda42af3c1b27ee77005807e38c6d77baef28a8f9216b60577fddd71/cftime-1.0.3.4-cp36-cp36m-manylinux1_x86_64.whl (305kB)\n",
            "\u001b[K     |████████████████████████████████| 307kB 32.7MB/s \n",
            "\u001b[?25hInstalling collected packages: cftime, netcdf4\n",
            "Successfully installed cftime-1.0.3.4 netcdf4-1.5.1.2\n"
          ],
          "name": "stdout"
        }
      ]
    },
    {
      "cell_type": "code",
      "metadata": {
        "id": "fl1vpo874Qeo",
        "colab_type": "code",
        "colab": {}
      },
      "source": [
        "import xarray as xr\n",
        "import numpy as np\n",
        "\n",
        "dataset = xr.open_dataset('/content/gdrive/My Drive/Datasets/gcm_run_3.nc', chunks=dict(time = 100))"
      ],
      "execution_count": 0,
      "outputs": []
    },
    {
      "cell_type": "markdown",
      "metadata": {
        "id": "F8Al76yK4Qev",
        "colab_type": "text"
      },
      "source": [
        "Let's see the variables in the dataset."
      ]
    },
    {
      "cell_type": "code",
      "metadata": {
        "id": "sRMSARWw4Qew",
        "colab_type": "code",
        "outputId": "97a83a89-8539-4ea2-f2fe-89e6d7579889",
        "colab": {
          "base_uri": "https://localhost:8080/",
          "height": 34
        }
      },
      "source": [
        "list(dataset.variables.keys())"
      ],
      "execution_count": 0,
      "outputs": [
        {
          "output_type": "execute_result",
          "data": {
            "text/plain": [
              "['time', 'lon', 'lat', 'lev', 'gh', 'temp', 'q', 'sp', 'precnv']"
            ]
          },
          "metadata": {
            "tags": []
          },
          "execution_count": 5
        }
      ]
    },
    {
      "cell_type": "markdown",
      "metadata": {
        "id": "1JYKEF394Qe9",
        "colab_type": "text"
      },
      "source": [
        "- coordinates: 'time', 'lon', 'lat', 'lev'\n",
        "- prognostic variables: 'gh', 'temp', 'q', 'sp'\n",
        "- diagnostic variable: 'precnv'"
      ]
    },
    {
      "cell_type": "markdown",
      "metadata": {
        "id": "PLGOJXKZ4QfB",
        "colab_type": "text"
      },
      "source": [
        "Let's check the times in the dataset "
      ]
    },
    {
      "cell_type": "code",
      "metadata": {
        "id": "2qpbavfi4QfD",
        "colab_type": "code",
        "outputId": "cea1058e-ca19-4ffa-bed3-345c2e301c0b",
        "colab": {
          "base_uri": "https://localhost:8080/",
          "height": 52
        }
      },
      "source": [
        "print(\"First date: \" , dataset['time'].values.min())\n",
        "print(\"Last date: \" , dataset['time'].values.max())"
      ],
      "execution_count": 0,
      "outputs": [
        {
          "output_type": "stream",
          "text": [
            "First date:  2003-01-01T00:00:00.000000000\n",
            "Last date:  2003-12-31T18:00:00.000000000\n"
          ],
          "name": "stdout"
        }
      ]
    },
    {
      "cell_type": "markdown",
      "metadata": {
        "id": "SlFQpxSOdgyC",
        "colab_type": "text"
      },
      "source": [
        ""
      ]
    },
    {
      "cell_type": "markdown",
      "metadata": {
        "id": "yteK64Ll4QfX",
        "colab_type": "text"
      },
      "source": [
        "Let's see in more detail the contents of the dataset."
      ]
    },
    {
      "cell_type": "code",
      "metadata": {
        "id": "r9V2eRz84Qfc",
        "colab_type": "code",
        "outputId": "ccf75ca3-e139-4028-99e5-f9c8734b868d",
        "colab": {}
      },
      "source": [
        "dataset"
      ],
      "execution_count": 0,
      "outputs": [
        {
          "output_type": "execute_result",
          "data": {
            "text/plain": [
              "<xarray.Dataset>\n",
              "Dimensions:  (lat: 16, lev: 8, lon: 96, time: 1460)\n",
              "Coordinates:\n",
              "  * time     (time) datetime64[ns] 2003-01-01 ... 2003-12-31T18:00:00\n",
              "  * lon      (lon) float64 0.0 3.75 7.5 11.25 15.0 ... 345.0 348.8 352.5 356.2\n",
              "  * lat      (lat) float64 -27.83 -24.12 -20.41 -16.7 ... 16.7 20.41 24.12 27.83\n",
              "  * lev      (lev) float64 925.0 850.0 700.0 500.0 300.0 200.0 100.0 30.0\n",
              "Data variables:\n",
              "    gh       (time, lev, lat, lon) float32 dask.array<shape=(1460, 8, 16, 96), chunksize=(100, 8, 16, 96)>\n",
              "    temp     (time, lev, lat, lon) float32 dask.array<shape=(1460, 8, 16, 96), chunksize=(100, 8, 16, 96)>\n",
              "    q        (time, lev, lat, lon) float32 dask.array<shape=(1460, 8, 16, 96), chunksize=(100, 8, 16, 96)>\n",
              "    sp       (time, lat, lon) float32 dask.array<shape=(1460, 16, 96), chunksize=(100, 16, 96)>\n",
              "    precnv   (time, lat, lon) float32 dask.array<shape=(1460, 16, 96), chunksize=(100, 16, 96)>\n",
              "Attributes:\n",
              "    CDI:          Climate Data Interface version 1.9.6 (http://mpimet.mpg.de/...\n",
              "    Conventions:  CF-1.6\n",
              "    history:      Wed May 08 08:57:29 2019: cdo -b F64 -f nc import_binary ex...\n",
              "    CDO:          Climate Data Operators version 1.9.6 (http://mpimet.mpg.de/..."
            ]
          },
          "metadata": {
            "tags": []
          },
          "execution_count": 6
        }
      ]
    },
    {
      "cell_type": "markdown",
      "metadata": {
        "id": "Isw9mT0H4Qfl",
        "colab_type": "text"
      },
      "source": [
        "In nutshell, the shape of the model prognostic variables (our predictors) :\n",
        "\n",
        "- __gh(time, lev, lat, lon)__ = **gh(1460, 8, 16, 96)** = geopotential height [m]\n",
        "- __temp(time, lev, lat, lon)__ = **temp(1460, 8, 16, 96)** = abs. temperature [degK]\n",
        "- __q(time, lev, lat, lon)__ = **q(1460, 8, 16, 96)** = specific humidity [g/Kg]\n",
        "- __sp(time, lat, lon)__ = **sp(1460, 16, 96)** = surface pressure [hPa]\n",
        "\n",
        "The shape of the diagnosed precipitation (the predicted variable) is:\n",
        "- __precnv(time, lat, lon)__ = **precnv(1460, 16, 96)** = convective precipitation [mm/day]"
      ]
    },
    {
      "cell_type": "code",
      "metadata": {
        "id": "43EiueZr4Qfo",
        "colab_type": "code",
        "colab": {}
      },
      "source": [
        "# Let's remove the unnecessary attributes to have cleaner outputs\n",
        "dataset.attrs=dict()"
      ],
      "execution_count": 0,
      "outputs": []
    },
    {
      "cell_type": "markdown",
      "metadata": {
        "id": "McIhO1mP4Qfv",
        "colab_type": "text"
      },
      "source": [
        "## Prepare the data\n",
        "\n",
        "We are going to predict the precipitation at each grid point using the information from the predictor variables in the corresponding column.\n",
        "\n",
        "Therefore, the input variables to the Neural network consist of\n",
        "\n",
        "- __Input__: $\\vec{x}= \\left\\{ gh(z), temp(z), q(z), sp \\right\\}$, with a length of $\\vec{x}$ is 8+8+8+1=25.\n",
        "- __Output__: R, the precipitation at the ground with length=1.\n",
        "\n",
        "The training samples in the dataset consist in many columns for every time step. Hence, based on the amount of data in dataset we have:\n",
        "\n",
        "$total\\_samples=number\\_of\\_times*number\\_of\\_lats*number\\_of\\_lons$\n",
        "\n",
        "$total\\_samples=1460*16*96=2242560$\n",
        "\n",
        "**That is more than 2 millon samples per year!**\n",
        "\n",
        "\n",
        "### Step 1: Collapse dimensions \n",
        "\n",
        "In the original dataset the dimensions of our variables are (time, lev, lat, lon) or (time, lat, lon).\n",
        "What we want to feed to the Neural network are arrays with shape x=(samples, variables) and y=(samples).\n",
        "\n",
        "Therefore, we have to collapse the (time, lat, lon) dimensions into a single dimension (sample).\n",
        "\n",
        "We will create a function to do that for a given dataset and save the results into a file for future use.\n",
        "Saving the preprocessed data to a file will also help to mainting the memory requirements to the minimum.\n",
        "\n",
        "But, before we create that function, let's see this how this preprocessing is done step by step using a small dataset."
      ]
    },
    {
      "cell_type": "code",
      "metadata": {
        "id": "eaaPQaQz4Qfx",
        "colab_type": "code",
        "outputId": "a1c6b0d7-8b0f-4b97-c953-da5b348e860c",
        "colab": {
          "base_uri": "https://localhost:8080/",
          "height": 34
        }
      },
      "source": [
        "# Select 100 times only (20*16*96=30720 column samples)\n",
        "small_dataset = dataset.isel(time=slice(0,20))\n",
        "dict(small_dataset.dims)"
      ],
      "execution_count": 0,
      "outputs": [
        {
          "output_type": "execute_result",
          "data": {
            "text/plain": [
              "{'lat': 16, 'lev': 8, 'lon': 96, 'time': 20}"
            ]
          },
          "metadata": {
            "tags": []
          },
          "execution_count": 9
        }
      ]
    },
    {
      "cell_type": "markdown",
      "metadata": {
        "id": "bnHAHWZE4Qf7",
        "colab_type": "text"
      },
      "source": [
        "To collapse the (time, lat, lon) dimensions into a single dimension (sample) we will use the [Dataset's stack](http://xarray.pydata.org/en/stable/generated/xarray.Dataset.stack.html#xarray.Dataset.stack) method.\n",
        "\n",
        "This method stack any number of existing dimensions into a single new dimension. The new dimension will be added at the end, and the corresponding coordinate variables will be combined into a MultiIndex.\n"
      ]
    },
    {
      "cell_type": "code",
      "metadata": {
        "id": "Sb7pvOKs4Qf-",
        "colab_type": "code",
        "outputId": "1071e08a-13e0-45b4-c9c9-5b6e4f7ba65c",
        "colab": {
          "base_uri": "https://localhost:8080/",
          "height": 347
        }
      },
      "source": [
        "stacked_dataset = small_dataset.stack(sample=('time', 'lat', 'lon'))\n",
        "stacked_dataset"
      ],
      "execution_count": 0,
      "outputs": [
        {
          "output_type": "execute_result",
          "data": {
            "text/plain": [
              "<xarray.Dataset>\n",
              "Dimensions:  (lev: 8, sample: 30720)\n",
              "Coordinates:\n",
              "  * lev      (lev) float64 925.0 850.0 700.0 500.0 300.0 200.0 100.0 30.0\n",
              "  * sample   (sample) MultiIndex\n",
              "  - time     (sample) datetime64[ns] 2003-01-01 2003-01-01 ... 2003-01-01\n",
              "  - lat      (sample) float64 -27.83 -27.83 -27.83 ... -27.83 -27.83 -27.83\n",
              "  - lon      (sample) float64 0.0 3.75 7.5 11.25 15.0 ... 97.5 101.2 105.0 108.8\n",
              "Data variables:\n",
              "    gh       (lev, sample) float32 dask.array<shape=(8, 30720), chunksize=(8, 30720)>\n",
              "    temp     (lev, sample) float32 dask.array<shape=(8, 30720), chunksize=(8, 30720)>\n",
              "    q        (lev, sample) float32 dask.array<shape=(8, 30720), chunksize=(8, 30720)>\n",
              "    sp       (sample) float32 dask.array<shape=(30720,), chunksize=(30720,)>\n",
              "    precnv   (sample) float32 dask.array<shape=(30720,), chunksize=(30720,)>\n",
              "Attributes:\n",
              "    CDI:          Climate Data Interface version 1.9.6 (http://mpimet.mpg.de/...\n",
              "    Conventions:  CF-1.6\n",
              "    history:      Wed May 08 08:57:29 2019: cdo -b F64 -f nc import_binary ex...\n",
              "    CDO:          Climate Data Operators version 1.9.6 (http://mpimet.mpg.de/..."
            ]
          },
          "metadata": {
            "tags": []
          },
          "execution_count": 10
        }
      ]
    },
    {
      "cell_type": "markdown",
      "metadata": {
        "id": "SDRm0Jqm4QgE",
        "colab_type": "text"
      },
      "source": [
        "Let's reorder the variables dimensions as (sample, lev)"
      ]
    },
    {
      "cell_type": "code",
      "metadata": {
        "id": "G6ujz6_Y4QgH",
        "colab_type": "code",
        "outputId": "ddeb3ea3-ca50-467b-ab5e-f2a5e15042a9",
        "colab": {
          "base_uri": "https://localhost:8080/",
          "height": 347
        }
      },
      "source": [
        "stacked_dataset = stacked_dataset.transpose('sample', 'lev')\n",
        "stacked_dataset"
      ],
      "execution_count": 0,
      "outputs": [
        {
          "output_type": "execute_result",
          "data": {
            "text/plain": [
              "<xarray.Dataset>\n",
              "Dimensions:  (lev: 8, sample: 30720)\n",
              "Coordinates:\n",
              "  * lev      (lev) float64 925.0 850.0 700.0 500.0 300.0 200.0 100.0 30.0\n",
              "  * sample   (sample) MultiIndex\n",
              "  - time     (sample) datetime64[ns] 2003-01-01 2003-01-01 ... 2003-01-01\n",
              "  - lat      (sample) float64 -27.83 -27.83 -27.83 ... -27.83 -27.83 -27.83\n",
              "  - lon      (sample) float64 0.0 3.75 7.5 11.25 15.0 ... 97.5 101.2 105.0 108.8\n",
              "Data variables:\n",
              "    gh       (sample, lev) float32 dask.array<shape=(30720, 8), chunksize=(30720, 8)>\n",
              "    temp     (sample, lev) float32 dask.array<shape=(30720, 8), chunksize=(30720, 8)>\n",
              "    q        (sample, lev) float32 dask.array<shape=(30720, 8), chunksize=(30720, 8)>\n",
              "    sp       (sample) float32 dask.array<shape=(30720,), chunksize=(30720,)>\n",
              "    precnv   (sample) float32 dask.array<shape=(30720,), chunksize=(30720,)>\n",
              "Attributes:\n",
              "    CDI:          Climate Data Interface version 1.9.6 (http://mpimet.mpg.de/...\n",
              "    Conventions:  CF-1.6\n",
              "    history:      Wed May 08 08:57:29 2019: cdo -b F64 -f nc import_binary ex...\n",
              "    CDO:          Climate Data Operators version 1.9.6 (http://mpimet.mpg.de/..."
            ]
          },
          "metadata": {
            "tags": []
          },
          "execution_count": 12
        }
      ]
    },
    {
      "cell_type": "markdown",
      "metadata": {
        "id": "wiHpLFun4QgO",
        "colab_type": "text"
      },
      "source": [
        "The last step is to create the (x, y) training samples, where their dimensions are:\n",
        "- x(samples, variables)\n",
        "- y(samples)\n",
        "\n",
        "For each column, to aggregate all the variables data into a single dimension, we will use the [numpy's append](https://docs.scipy.org/doc/numpy/reference/generated/numpy.append.html) function.\n",
        "This function append new values to the end of an array."
      ]
    },
    {
      "cell_type": "code",
      "metadata": {
        "id": "67R4i7LB4QgP",
        "colab_type": "code",
        "colab": {}
      },
      "source": [
        "# The number of dimensions of x are x(samples, variables)\n",
        "\n",
        "# \"sp\" dimensions were (time, lat, lon). After we collapse these dimensions into \"sample\"\n",
        "# it became a 1D variable.\n",
        "\n",
        "# To start appending all the column data into a the dimension variable,\n",
        "# let's reshape sp to (samples, 1)\n",
        "x = stacked_dataset['sp'].values[:,None]\n",
        "# (None is the same as np.newaxis) \n",
        "\n",
        "# Now, let's continue adding the data into the second dimension\n",
        "for variable in ['gh', 'temp', 'q']:\n",
        "    x=np.append(x, stacked_dataset[variable].values, axis=1)\n",
        "\n",
        "y = stacked_dataset['precnv'].values"
      ],
      "execution_count": 0,
      "outputs": []
    },
    {
      "cell_type": "code",
      "metadata": {
        "id": "mKUOr0bs4Qgb",
        "colab_type": "code",
        "outputId": "7ad8fe05-e099-4fa6-cfa5-a92da81f2657",
        "colab": {
          "base_uri": "https://localhost:8080/",
          "height": 52
        }
      },
      "source": [
        "print('x.shape=', x.shape)\n",
        "print('y.shape=', y.shape)"
      ],
      "execution_count": 0,
      "outputs": [
        {
          "output_type": "stream",
          "text": [
            "x.shape= (30720, 25)\n",
            "y.shape= (30720,)\n"
          ],
          "name": "stdout"
        }
      ]
    },
    {
      "cell_type": "markdown",
      "metadata": {
        "id": "Yzv-QJY84Qgs",
        "colab_type": "text"
      },
      "source": [
        "Now let's create a function that implements the preprocessing step for a given dataset (netcdf file) and save the preprocessed data into a Netcdf file for further use. In this way, we only do this preprocessing once."
      ]
    },
    {
      "cell_type": "code",
      "metadata": {
        "id": "TL_jKM9f4Qgx",
        "colab_type": "code",
        "colab": {}
      },
      "source": [
        "def collapse_dims(input_dataset_path, output_dataset_path):\n",
        "    \"\"\"\n",
        "    Prepare the training samples from the input dataset for the Neural Network.\n",
        "    \n",
        "    x=(samples, variables) and y=(samples).\n",
        "    \n",
        "    Parameters\n",
        "    ----------\n",
        "    \n",
        "    input_dataset_path: str\n",
        "        Path to the netcdf file with the original SPEEDY output\n",
        "    \n",
        "    output_dataset_path: str\n",
        "        Path to the output netcdf file with the preprocessed dataset\n",
        "        \n",
        "    \"\"\"\n",
        "    \n",
        "    # Since we are working in a Jupyter notebook, to make sure that we are not\n",
        "    # modifying any variable defined outside the function, \n",
        "    # we prepend an underscore to the function local variables.\n",
        "    \n",
        "    _input_dataset = xr.open_dataset(input_dataset_path)\n",
        "    \n",
        "    _stacked_dataset = _input_dataset.stack(sample=('time', 'lat', 'lon'))\n",
        "    \n",
        "    _stacked_dataset = _stacked_dataset.transpose('sample', 'lev')\n",
        "    \n",
        "    _x = _stacked_dataset['sp'].values[:,None]\n",
        "    for variable in ['gh', 'temp', 'q']:\n",
        "        _x=np.append(_x, _stacked_dataset[variable].values, axis=1)\n",
        "\n",
        "    _y = _stacked_dataset['precnv'].values\n",
        "    \n",
        "    #Create an xarray dataset to save the file to netcdf\n",
        "    _new_dataset = xr.Dataset({'x': (['samples', 'variables'],  _x),\n",
        "                             'y': (['samples'], _y)} )\n",
        "    \n",
        "    \n",
        "    #Save dataset\n",
        "    _new_dataset.to_netcdf(output_dataset_path)\n",
        "    print(f\"Preprocesses file saved: {output_dataset_path}\")\n",
        "    "
      ],
      "execution_count": 0,
      "outputs": []
    },
    {
      "cell_type": "markdown",
      "metadata": {
        "id": "-xdn-whY4Qg4",
        "colab_type": "text"
      },
      "source": [
        "Now, let's process all the input files."
      ]
    },
    {
      "cell_type": "code",
      "metadata": {
        "id": "t6RsXwja4Qg7",
        "colab_type": "code",
        "outputId": "70a72c27-ef99-4c6f-bf53-ee06e195a60d",
        "colab": {
          "base_uri": "https://localhost:8080/",
          "height": 542
        }
      },
      "source": [
        "collapse_dims('/content/gdrive/My Drive/Datasets/gcm_run_3.nc', '/content/gdrive/My Drive/Datasets/train_3.nc')\n",
        "collapse_dims('/content/gdrive/My Drive/Datasets/gcm_run_4.nc', '/content/gdrive/My Drive/Datasets/train_4.nc')"
      ],
      "execution_count": 0,
      "outputs": [
        {
          "output_type": "stream",
          "text": [
            "Preprocesses file saved: /content/gdrive/My Drive/Datasets/train_3.nc\n"
          ],
          "name": "stdout"
        },
        {
          "output_type": "error",
          "ename": "FileNotFoundError",
          "evalue": "ignored",
          "traceback": [
            "\u001b[0;31m---------------------------------------------------------------------------\u001b[0m",
            "\u001b[0;31mKeyError\u001b[0m                                  Traceback (most recent call last)",
            "\u001b[0;32m/usr/local/lib/python3.6/dist-packages/xarray/backends/file_manager.py\u001b[0m in \u001b[0;36macquire\u001b[0;34m(self, needs_lock)\u001b[0m\n\u001b[1;32m    165\u001b[0m             \u001b[0;32mtry\u001b[0m\u001b[0;34m:\u001b[0m\u001b[0;34m\u001b[0m\u001b[0;34m\u001b[0m\u001b[0m\n\u001b[0;32m--> 166\u001b[0;31m                 \u001b[0mfile\u001b[0m \u001b[0;34m=\u001b[0m \u001b[0mself\u001b[0m\u001b[0;34m.\u001b[0m\u001b[0m_cache\u001b[0m\u001b[0;34m[\u001b[0m\u001b[0mself\u001b[0m\u001b[0;34m.\u001b[0m\u001b[0m_key\u001b[0m\u001b[0;34m]\u001b[0m\u001b[0;34m\u001b[0m\u001b[0;34m\u001b[0m\u001b[0m\n\u001b[0m\u001b[1;32m    167\u001b[0m             \u001b[0;32mexcept\u001b[0m \u001b[0mKeyError\u001b[0m\u001b[0;34m:\u001b[0m\u001b[0;34m\u001b[0m\u001b[0;34m\u001b[0m\u001b[0m\n",
            "\u001b[0;32m/usr/local/lib/python3.6/dist-packages/xarray/backends/lru_cache.py\u001b[0m in \u001b[0;36m__getitem__\u001b[0;34m(self, key)\u001b[0m\n\u001b[1;32m     42\u001b[0m         \u001b[0;32mwith\u001b[0m \u001b[0mself\u001b[0m\u001b[0;34m.\u001b[0m\u001b[0m_lock\u001b[0m\u001b[0;34m:\u001b[0m\u001b[0;34m\u001b[0m\u001b[0;34m\u001b[0m\u001b[0m\n\u001b[0;32m---> 43\u001b[0;31m             \u001b[0mvalue\u001b[0m \u001b[0;34m=\u001b[0m \u001b[0mself\u001b[0m\u001b[0;34m.\u001b[0m\u001b[0m_cache\u001b[0m\u001b[0;34m[\u001b[0m\u001b[0mkey\u001b[0m\u001b[0;34m]\u001b[0m\u001b[0;34m\u001b[0m\u001b[0;34m\u001b[0m\u001b[0m\n\u001b[0m\u001b[1;32m     44\u001b[0m             \u001b[0mmove_to_end\u001b[0m\u001b[0;34m(\u001b[0m\u001b[0mself\u001b[0m\u001b[0;34m.\u001b[0m\u001b[0m_cache\u001b[0m\u001b[0;34m,\u001b[0m \u001b[0mkey\u001b[0m\u001b[0;34m)\u001b[0m\u001b[0;34m\u001b[0m\u001b[0;34m\u001b[0m\u001b[0m\n",
            "\u001b[0;31mKeyError\u001b[0m: [<function _open_netcdf4_group at 0x7f7b5a929730>, ('/content/gdrive/My Drive/Datasets/gcm_run_4.nc', CombinedLock([<SerializableLock: 44be8c41-df15-48a6-a6b9-7ea9578c9fe8>, <SerializableLock: 84bd1f49-f300-4cb8-b853-456e2d57751d>])), 'r', (('clobber', True), ('diskless', False), ('format', 'NETCDF4'), ('group', None), ('persist', False))]",
            "\nDuring handling of the above exception, another exception occurred:\n",
            "\u001b[0;31mFileNotFoundError\u001b[0m                         Traceback (most recent call last)",
            "\u001b[0;32m<ipython-input-20-8fb3fb5a89ad>\u001b[0m in \u001b[0;36m<module>\u001b[0;34m()\u001b[0m\n\u001b[1;32m      1\u001b[0m \u001b[0mcollapse_dims\u001b[0m\u001b[0;34m(\u001b[0m\u001b[0;34m'/content/gdrive/My Drive/Datasets/gcm_run_3.nc'\u001b[0m\u001b[0;34m,\u001b[0m \u001b[0;34m'/content/gdrive/My Drive/Datasets/train_3.nc'\u001b[0m\u001b[0;34m)\u001b[0m\u001b[0;34m\u001b[0m\u001b[0;34m\u001b[0m\u001b[0m\n\u001b[0;32m----> 2\u001b[0;31m \u001b[0mcollapse_dims\u001b[0m\u001b[0;34m(\u001b[0m\u001b[0;34m'/content/gdrive/My Drive/Datasets/gcm_run_4.nc'\u001b[0m\u001b[0;34m,\u001b[0m \u001b[0;34m'/content/gdrive/My Drive/Datasets/train_4.nc'\u001b[0m\u001b[0;34m)\u001b[0m\u001b[0;34m\u001b[0m\u001b[0;34m\u001b[0m\u001b[0m\n\u001b[0m",
            "\u001b[0;32m<ipython-input-16-db75b4e65841>\u001b[0m in \u001b[0;36mcollapse_dims\u001b[0;34m(input_dataset_path, output_dataset_path)\u001b[0m\n\u001b[1;32m     20\u001b[0m     \u001b[0;31m# we prepend an underscore to the function local variables.\u001b[0m\u001b[0;34m\u001b[0m\u001b[0;34m\u001b[0m\u001b[0;34m\u001b[0m\u001b[0m\n\u001b[1;32m     21\u001b[0m \u001b[0;34m\u001b[0m\u001b[0m\n\u001b[0;32m---> 22\u001b[0;31m     \u001b[0m_input_dataset\u001b[0m \u001b[0;34m=\u001b[0m \u001b[0mxr\u001b[0m\u001b[0;34m.\u001b[0m\u001b[0mopen_dataset\u001b[0m\u001b[0;34m(\u001b[0m\u001b[0minput_dataset_path\u001b[0m\u001b[0;34m)\u001b[0m\u001b[0;34m\u001b[0m\u001b[0;34m\u001b[0m\u001b[0m\n\u001b[0m\u001b[1;32m     23\u001b[0m \u001b[0;34m\u001b[0m\u001b[0m\n\u001b[1;32m     24\u001b[0m     \u001b[0m_stacked_dataset\u001b[0m \u001b[0;34m=\u001b[0m \u001b[0m_input_dataset\u001b[0m\u001b[0;34m.\u001b[0m\u001b[0mstack\u001b[0m\u001b[0;34m(\u001b[0m\u001b[0msample\u001b[0m\u001b[0;34m=\u001b[0m\u001b[0;34m(\u001b[0m\u001b[0;34m'time'\u001b[0m\u001b[0;34m,\u001b[0m \u001b[0;34m'lat'\u001b[0m\u001b[0;34m,\u001b[0m \u001b[0;34m'lon'\u001b[0m\u001b[0;34m)\u001b[0m\u001b[0;34m)\u001b[0m\u001b[0;34m\u001b[0m\u001b[0;34m\u001b[0m\u001b[0m\n",
            "\u001b[0;32m/usr/local/lib/python3.6/dist-packages/xarray/backends/api.py\u001b[0m in \u001b[0;36mopen_dataset\u001b[0;34m(filename_or_obj, group, decode_cf, mask_and_scale, decode_times, autoclose, concat_characters, decode_coords, engine, chunks, lock, cache, drop_variables, backend_kwargs)\u001b[0m\n\u001b[1;32m    319\u001b[0m         \u001b[0;32mif\u001b[0m \u001b[0mengine\u001b[0m \u001b[0;34m==\u001b[0m \u001b[0;34m'netcdf4'\u001b[0m\u001b[0;34m:\u001b[0m\u001b[0;34m\u001b[0m\u001b[0;34m\u001b[0m\u001b[0m\n\u001b[1;32m    320\u001b[0m             store = backends.NetCDF4DataStore.open(\n\u001b[0;32m--> 321\u001b[0;31m                 filename_or_obj, group=group, lock=lock, **backend_kwargs)\n\u001b[0m\u001b[1;32m    322\u001b[0m         \u001b[0;32melif\u001b[0m \u001b[0mengine\u001b[0m \u001b[0;34m==\u001b[0m \u001b[0;34m'scipy'\u001b[0m\u001b[0;34m:\u001b[0m\u001b[0;34m\u001b[0m\u001b[0;34m\u001b[0m\u001b[0m\n\u001b[1;32m    323\u001b[0m             \u001b[0mstore\u001b[0m \u001b[0;34m=\u001b[0m \u001b[0mbackends\u001b[0m\u001b[0;34m.\u001b[0m\u001b[0mScipyDataStore\u001b[0m\u001b[0;34m(\u001b[0m\u001b[0mfilename_or_obj\u001b[0m\u001b[0;34m,\u001b[0m \u001b[0;34m**\u001b[0m\u001b[0mbackend_kwargs\u001b[0m\u001b[0;34m)\u001b[0m\u001b[0;34m\u001b[0m\u001b[0;34m\u001b[0m\u001b[0m\n",
            "\u001b[0;32m/usr/local/lib/python3.6/dist-packages/xarray/backends/netCDF4_.py\u001b[0m in \u001b[0;36mopen\u001b[0;34m(cls, filename, mode, format, group, clobber, diskless, persist, lock, lock_maker, autoclose)\u001b[0m\n\u001b[1;32m    353\u001b[0m             kwargs=dict(group=group, clobber=clobber, diskless=diskless,\n\u001b[1;32m    354\u001b[0m                         persist=persist, format=format))\n\u001b[0;32m--> 355\u001b[0;31m         \u001b[0;32mreturn\u001b[0m \u001b[0mcls\u001b[0m\u001b[0;34m(\u001b[0m\u001b[0mmanager\u001b[0m\u001b[0;34m,\u001b[0m \u001b[0mlock\u001b[0m\u001b[0;34m=\u001b[0m\u001b[0mlock\u001b[0m\u001b[0;34m,\u001b[0m \u001b[0mautoclose\u001b[0m\u001b[0;34m=\u001b[0m\u001b[0mautoclose\u001b[0m\u001b[0;34m)\u001b[0m\u001b[0;34m\u001b[0m\u001b[0;34m\u001b[0m\u001b[0m\n\u001b[0m\u001b[1;32m    356\u001b[0m \u001b[0;34m\u001b[0m\u001b[0m\n\u001b[1;32m    357\u001b[0m     \u001b[0;34m@\u001b[0m\u001b[0mproperty\u001b[0m\u001b[0;34m\u001b[0m\u001b[0;34m\u001b[0m\u001b[0m\n",
            "\u001b[0;32m/usr/local/lib/python3.6/dist-packages/xarray/backends/netCDF4_.py\u001b[0m in \u001b[0;36m__init__\u001b[0;34m(self, manager, lock, autoclose)\u001b[0m\n\u001b[1;32m    312\u001b[0m \u001b[0;34m\u001b[0m\u001b[0m\n\u001b[1;32m    313\u001b[0m         \u001b[0mself\u001b[0m\u001b[0;34m.\u001b[0m\u001b[0m_manager\u001b[0m \u001b[0;34m=\u001b[0m \u001b[0mmanager\u001b[0m\u001b[0;34m\u001b[0m\u001b[0;34m\u001b[0m\u001b[0m\n\u001b[0;32m--> 314\u001b[0;31m         \u001b[0mself\u001b[0m\u001b[0;34m.\u001b[0m\u001b[0mformat\u001b[0m \u001b[0;34m=\u001b[0m \u001b[0mself\u001b[0m\u001b[0;34m.\u001b[0m\u001b[0mds\u001b[0m\u001b[0;34m.\u001b[0m\u001b[0mdata_model\u001b[0m\u001b[0;34m\u001b[0m\u001b[0;34m\u001b[0m\u001b[0m\n\u001b[0m\u001b[1;32m    315\u001b[0m         \u001b[0mself\u001b[0m\u001b[0;34m.\u001b[0m\u001b[0m_filename\u001b[0m \u001b[0;34m=\u001b[0m \u001b[0mself\u001b[0m\u001b[0;34m.\u001b[0m\u001b[0mds\u001b[0m\u001b[0;34m.\u001b[0m\u001b[0mfilepath\u001b[0m\u001b[0;34m(\u001b[0m\u001b[0;34m)\u001b[0m\u001b[0;34m\u001b[0m\u001b[0;34m\u001b[0m\u001b[0m\n\u001b[1;32m    316\u001b[0m         \u001b[0mself\u001b[0m\u001b[0;34m.\u001b[0m\u001b[0mis_remote\u001b[0m \u001b[0;34m=\u001b[0m \u001b[0mis_remote_uri\u001b[0m\u001b[0;34m(\u001b[0m\u001b[0mself\u001b[0m\u001b[0;34m.\u001b[0m\u001b[0m_filename\u001b[0m\u001b[0;34m)\u001b[0m\u001b[0;34m\u001b[0m\u001b[0;34m\u001b[0m\u001b[0m\n",
            "\u001b[0;32m/usr/local/lib/python3.6/dist-packages/xarray/backends/netCDF4_.py\u001b[0m in \u001b[0;36mds\u001b[0;34m(self)\u001b[0m\n\u001b[1;32m    357\u001b[0m     \u001b[0;34m@\u001b[0m\u001b[0mproperty\u001b[0m\u001b[0;34m\u001b[0m\u001b[0;34m\u001b[0m\u001b[0m\n\u001b[1;32m    358\u001b[0m     \u001b[0;32mdef\u001b[0m \u001b[0mds\u001b[0m\u001b[0;34m(\u001b[0m\u001b[0mself\u001b[0m\u001b[0;34m)\u001b[0m\u001b[0;34m:\u001b[0m\u001b[0;34m\u001b[0m\u001b[0;34m\u001b[0m\u001b[0m\n\u001b[0;32m--> 359\u001b[0;31m         \u001b[0;32mreturn\u001b[0m \u001b[0mself\u001b[0m\u001b[0;34m.\u001b[0m\u001b[0m_manager\u001b[0m\u001b[0;34m.\u001b[0m\u001b[0macquire\u001b[0m\u001b[0;34m(\u001b[0m\u001b[0;34m)\u001b[0m\u001b[0;34m.\u001b[0m\u001b[0mvalue\u001b[0m\u001b[0;34m\u001b[0m\u001b[0;34m\u001b[0m\u001b[0m\n\u001b[0m\u001b[1;32m    360\u001b[0m \u001b[0;34m\u001b[0m\u001b[0m\n\u001b[1;32m    361\u001b[0m     \u001b[0;32mdef\u001b[0m \u001b[0mopen_store_variable\u001b[0m\u001b[0;34m(\u001b[0m\u001b[0mself\u001b[0m\u001b[0;34m,\u001b[0m \u001b[0mname\u001b[0m\u001b[0;34m,\u001b[0m \u001b[0mvar\u001b[0m\u001b[0;34m)\u001b[0m\u001b[0;34m:\u001b[0m\u001b[0;34m\u001b[0m\u001b[0;34m\u001b[0m\u001b[0m\n",
            "\u001b[0;32m/usr/local/lib/python3.6/dist-packages/xarray/backends/file_manager.py\u001b[0m in \u001b[0;36macquire\u001b[0;34m(self, needs_lock)\u001b[0m\n\u001b[1;32m    170\u001b[0m                     \u001b[0mkwargs\u001b[0m \u001b[0;34m=\u001b[0m \u001b[0mkwargs\u001b[0m\u001b[0;34m.\u001b[0m\u001b[0mcopy\u001b[0m\u001b[0;34m(\u001b[0m\u001b[0;34m)\u001b[0m\u001b[0;34m\u001b[0m\u001b[0;34m\u001b[0m\u001b[0m\n\u001b[1;32m    171\u001b[0m                     \u001b[0mkwargs\u001b[0m\u001b[0;34m[\u001b[0m\u001b[0;34m'mode'\u001b[0m\u001b[0;34m]\u001b[0m \u001b[0;34m=\u001b[0m \u001b[0mself\u001b[0m\u001b[0;34m.\u001b[0m\u001b[0m_mode\u001b[0m\u001b[0;34m\u001b[0m\u001b[0;34m\u001b[0m\u001b[0m\n\u001b[0;32m--> 172\u001b[0;31m                 \u001b[0mfile\u001b[0m \u001b[0;34m=\u001b[0m \u001b[0mself\u001b[0m\u001b[0;34m.\u001b[0m\u001b[0m_opener\u001b[0m\u001b[0;34m(\u001b[0m\u001b[0;34m*\u001b[0m\u001b[0mself\u001b[0m\u001b[0;34m.\u001b[0m\u001b[0m_args\u001b[0m\u001b[0;34m,\u001b[0m \u001b[0;34m**\u001b[0m\u001b[0mkwargs\u001b[0m\u001b[0;34m)\u001b[0m\u001b[0;34m\u001b[0m\u001b[0;34m\u001b[0m\u001b[0m\n\u001b[0m\u001b[1;32m    173\u001b[0m                 \u001b[0;32mif\u001b[0m \u001b[0mself\u001b[0m\u001b[0;34m.\u001b[0m\u001b[0m_mode\u001b[0m \u001b[0;34m==\u001b[0m \u001b[0;34m'w'\u001b[0m\u001b[0;34m:\u001b[0m\u001b[0;34m\u001b[0m\u001b[0;34m\u001b[0m\u001b[0m\n\u001b[1;32m    174\u001b[0m                     \u001b[0;31m# ensure file doesn't get overriden when opened again\u001b[0m\u001b[0;34m\u001b[0m\u001b[0;34m\u001b[0m\u001b[0;34m\u001b[0m\u001b[0m\n",
            "\u001b[0;32m/usr/local/lib/python3.6/dist-packages/xarray/backends/netCDF4_.py\u001b[0m in \u001b[0;36m_open_netcdf4_group\u001b[0;34m(filename, lock, mode, group, **kwargs)\u001b[0m\n\u001b[1;32m    245\u001b[0m     \u001b[0;32mimport\u001b[0m \u001b[0mnetCDF4\u001b[0m \u001b[0;32mas\u001b[0m \u001b[0mnc4\u001b[0m\u001b[0;34m\u001b[0m\u001b[0;34m\u001b[0m\u001b[0m\n\u001b[1;32m    246\u001b[0m \u001b[0;34m\u001b[0m\u001b[0m\n\u001b[0;32m--> 247\u001b[0;31m     \u001b[0mds\u001b[0m \u001b[0;34m=\u001b[0m \u001b[0mnc4\u001b[0m\u001b[0;34m.\u001b[0m\u001b[0mDataset\u001b[0m\u001b[0;34m(\u001b[0m\u001b[0mfilename\u001b[0m\u001b[0;34m,\u001b[0m \u001b[0mmode\u001b[0m\u001b[0;34m=\u001b[0m\u001b[0mmode\u001b[0m\u001b[0;34m,\u001b[0m \u001b[0;34m**\u001b[0m\u001b[0mkwargs\u001b[0m\u001b[0;34m)\u001b[0m\u001b[0;34m\u001b[0m\u001b[0;34m\u001b[0m\u001b[0m\n\u001b[0m\u001b[1;32m    248\u001b[0m \u001b[0;34m\u001b[0m\u001b[0m\n\u001b[1;32m    249\u001b[0m     \u001b[0;32mwith\u001b[0m \u001b[0mclose_on_error\u001b[0m\u001b[0;34m(\u001b[0m\u001b[0mds\u001b[0m\u001b[0;34m)\u001b[0m\u001b[0;34m:\u001b[0m\u001b[0;34m\u001b[0m\u001b[0;34m\u001b[0m\u001b[0m\n",
            "\u001b[0;32mnetCDF4/_netCDF4.pyx\u001b[0m in \u001b[0;36mnetCDF4._netCDF4.Dataset.__init__\u001b[0;34m()\u001b[0m\n",
            "\u001b[0;32mnetCDF4/_netCDF4.pyx\u001b[0m in \u001b[0;36mnetCDF4._netCDF4._ensure_nc_success\u001b[0;34m()\u001b[0m\n",
            "\u001b[0;31mFileNotFoundError\u001b[0m: [Errno 2] No such file or directory: b'/content/gdrive/My Drive/Datasets/gcm_run_4.nc'"
          ]
        }
      ]
    },
    {
      "cell_type": "code",
      "metadata": {
        "id": "C1SDtOjOfTZ6",
        "colab_type": "code",
        "colab": {}
      },
      "source": [
        ""
      ],
      "execution_count": 0,
      "outputs": []
    },
    {
      "cell_type": "markdown",
      "metadata": {
        "id": "jsgajJog4QhP",
        "colab_type": "text"
      },
      "source": [
        "Step 2: Load the preprocessed files"
      ]
    },
    {
      "cell_type": "code",
      "metadata": {
        "id": "QIGYlLVa4QhR",
        "colab_type": "code",
        "outputId": "d9ddd142-be73-4f53-82e8-f32563b98c5b",
        "colab": {
          "base_uri": "https://localhost:8080/",
          "height": 121
        }
      },
      "source": [
        "input_dataset = xr.open_mfdataset(['/content/gdrive/My Drive/Datasets/train_3.nc'])\n",
        "\n",
        "\n",
        "# i_sam = input_dataset.samples[(1<input_dataset['y']) & (input_dataset['y']<100)]\n",
        "\n",
        "# input_dataset = input_dataset.isel(samples=i_sam)\n",
        "input_dataset"
      ],
      "execution_count": 0,
      "outputs": [
        {
          "output_type": "execute_result",
          "data": {
            "text/plain": [
              "<xarray.Dataset>\n",
              "Dimensions:  (samples: 2242560, variables: 25)\n",
              "Dimensions without coordinates: samples, variables\n",
              "Data variables:\n",
              "    x        (samples, variables) float32 dask.array<shape=(2242560, 25), chunksize=(2242560, 25)>\n",
              "    y        (samples) float32 dask.array<shape=(2242560,), chunksize=(2242560,)>"
            ]
          },
          "metadata": {
            "tags": []
          },
          "execution_count": 39
        }
      ]
    },
    {
      "cell_type": "markdown",
      "metadata": {
        "id": "YfFjumfW4Qhe",
        "colab_type": "text"
      },
      "source": [
        "## Train my first neural network\n",
        "\n",
        "\n",
        "### Train and validation datasets\n",
        "\n",
        "In the completa dataset we have 10 years of data. We will use year 3 (train_3.nc) as training dataset and year 4 (train_4.nc) as validation dataset. "
      ]
    },
    {
      "cell_type": "code",
      "metadata": {
        "id": "LVtbKDZF4Qhj",
        "colab_type": "code",
        "colab": {}
      },
      "source": [
        "train_dataset = xr.open_dataset('/content/gdrive/My Drive/Datasets/train_3.nc')\n",
        "\n",
        "test_dataset = xr.open_dataset('/content/gdrive/My Drive/Datasets/train_4.nc')"
      ],
      "execution_count": 0,
      "outputs": []
    },
    {
      "cell_type": "code",
      "metadata": {
        "id": "8-1-gYxPibgO",
        "colab_type": "code",
        "outputId": "5af59a9e-4d71-4529-902c-544cfcdad39c",
        "colab": {
          "base_uri": "https://localhost:8080/",
          "height": 121
        }
      },
      "source": [
        "train_dataset"
      ],
      "execution_count": 0,
      "outputs": [
        {
          "output_type": "execute_result",
          "data": {
            "text/plain": [
              "<xarray.Dataset>\n",
              "Dimensions:  (samples: 2242560, variables: 25)\n",
              "Dimensions without coordinates: samples, variables\n",
              "Data variables:\n",
              "    x        (samples, variables) float32 ...\n",
              "    y        (samples) float32 ..."
            ]
          },
          "metadata": {
            "tags": []
          },
          "execution_count": 22
        }
      ]
    },
    {
      "cell_type": "code",
      "metadata": {
        "id": "vtRDjlTwibdJ",
        "colab_type": "code",
        "outputId": "19669383-2f4e-475f-e206-849956f603d9",
        "colab": {
          "base_uri": "https://localhost:8080/",
          "height": 121
        }
      },
      "source": [
        "test_dataset\n"
      ],
      "execution_count": 0,
      "outputs": [
        {
          "output_type": "execute_result",
          "data": {
            "text/plain": [
              "<xarray.Dataset>\n",
              "Dimensions:  (samples: 2242560, variables: 25)\n",
              "Dimensions without coordinates: samples, variables\n",
              "Data variables:\n",
              "    x        (samples, variables) float32 ...\n",
              "    y        (samples) float32 ..."
            ]
          },
          "metadata": {
            "tags": []
          },
          "execution_count": 23
        }
      ]
    },
    {
      "cell_type": "markdown",
      "metadata": {
        "id": "eFjmVWskixeE",
        "colab_type": "text"
      },
      "source": [
        "Let's define new variables with only the numpy arrays values of the Datasets. This will make the computation times more efficient in the future."
      ]
    },
    {
      "cell_type": "code",
      "metadata": {
        "id": "yzC0YfLginML",
        "colab_type": "code",
        "colab": {}
      },
      "source": [
        "x_train = train_dataset['x'].values\n",
        "y_train = train_dataset['y'].values\n",
        "\n",
        "x_test = test_dataset['x'].values\n",
        "y_test = test_dataset['y'].values"
      ],
      "execution_count": 0,
      "outputs": []
    },
    {
      "cell_type": "markdown",
      "metadata": {
        "id": "qwg516jKiX6U",
        "colab_type": "text"
      },
      "source": [
        "#### Data normalization\n",
        "For an ANN to train efficiently, all input values should be on the same order of magnitude. For this purpose, for each input variable, we subtracted the mean and divided by the standard deviation, independently for each vertical level.\n",
        "\n",
        "We will train the scaler with the training data only!"
      ]
    },
    {
      "cell_type": "code",
      "metadata": {
        "id": "LAGYq6JmiceW",
        "colab_type": "code",
        "outputId": "a9d748a3-8865-41f6-da43-f5596a23135e",
        "colab": {
          "base_uri": "https://localhost:8080/",
          "height": 34
        }
      },
      "source": [
        "from sklearn.preprocessing import StandardScaler\n",
        "\n",
        "\n",
        "input_scaler = StandardScaler()\n",
        "input_scaler.fit(x_train)"
      ],
      "execution_count": 0,
      "outputs": [
        {
          "output_type": "execute_result",
          "data": {
            "text/plain": [
              "StandardScaler(copy=True, with_mean=True, with_std=True)"
            ]
          },
          "metadata": {
            "tags": []
          },
          "execution_count": 32
        }
      ]
    },
    {
      "cell_type": "markdown",
      "metadata": {
        "id": "R8cg1xT4jUWv",
        "colab_type": "text"
      },
      "source": [
        "Now let's normalize the train and the tests input data."
      ]
    },
    {
      "cell_type": "code",
      "metadata": {
        "id": "Ev0Xe5QPjThc",
        "colab_type": "code",
        "colab": {}
      },
      "source": [
        "x_train_normed = input_scaler.transform(x_train)\n",
        "x_test_normed = input_scaler.transform(x_test)"
      ],
      "execution_count": 0,
      "outputs": []
    },
    {
      "cell_type": "markdown",
      "metadata": {
        "id": "Xu1UzZ8Pj070",
        "colab_type": "text"
      },
      "source": [
        "Now the input and the test data is ready to be used by the Neural Network! \n",
        "\n",
        "Be aware that the normalization is only done in the input data!, there is no need to normalize the output. "
      ]
    },
    {
      "cell_type": "markdown",
      "metadata": {
        "id": "4MXOjZg8lUEh",
        "colab_type": "text"
      },
      "source": [
        ""
      ]
    },
    {
      "cell_type": "code",
      "metadata": {
        "id": "0wgWOngL6MsY",
        "colab_type": "code",
        "outputId": "c83a1cb4-1df6-450c-9b3b-8fc59286a740",
        "colab": {
          "base_uri": "https://localhost:8080/",
          "height": 34
        }
      },
      "source": [
        ""
      ],
      "execution_count": 0,
      "outputs": [
        {
          "output_type": "stream",
          "text": [
            "Using TensorFlow backend.\n"
          ],
          "name": "stderr"
        }
      ]
    },
    {
      "cell_type": "markdown",
      "metadata": {
        "id": "Xs2CFXRC4Qhs",
        "colab_type": "text"
      },
      "source": [
        "### Construct the Neural Network\n",
        "\n",
        "Let's construct a small Neural Network with no hidden layers to show how the training process is done and how to evaluate the NN on the test dataset.\n",
        "\n",
        "The example neural network has the following structure:\n",
        "\n",
        "- Input: $\\vec{x}$ (length 25)\n",
        "- Output: R (length 1).\n",
        "\n",
        "- Input layer (1st layer): **25 nodes, relu activation function** \n",
        "- Output layer (4th layer): **1 nodes, relu activation function** "
      ]
    },
    {
      "cell_type": "code",
      "metadata": {
        "id": "zcly4ZFd4Qht",
        "colab_type": "code",
        "colab": {}
      },
      "source": [
        "from keras.models import Sequential\n",
        "from keras.layers import Dense\n",
        "from keras import backend as keras_bck\n",
        "\n",
        "\n",
        "my_model = Sequential()\n",
        "\n",
        "# Input layer. Here we specify the input shape.\n",
        "my_model.add(Dense(units=25, activation='relu', input_dim=25)) \n",
        "\n",
        "# No hidden layers \n",
        "\n",
        "# Output layer\n",
        "my_model.add(Dense(units=1, activation='relu'))\n",
        "\n",
        "\n",
        "\n",
        "# Let's define the metric used to evaluate the performance of the Neural Network\n",
        "def root_mean_squared_error(y_true, y_pred):\n",
        "    \"\"\"\n",
        "    Root Mean Square error metric\n",
        "    \n",
        "    Parameters\n",
        "    ----------\n",
        "    \n",
        "    y_true : ndarray\n",
        "        Expected output values\n",
        "    \n",
        "    y_pred : ndarray\n",
        "        Predicted output values by the NN\n",
        "    \"\"\"\n",
        "    return keras_bck.sqrt( keras_bck.mean(keras_bck.square(y_pred - y_true), \n",
        "                                          axis=-1)\n",
        "                         ) \n",
        "    \n",
        "\n",
        "# Compile the model\n",
        "my_model.compile(optimizer='Adam', loss='mse', \n",
        "                 metrics=[root_mean_squared_error])"
      ],
      "execution_count": 0,
      "outputs": []
    },
    {
      "cell_type": "markdown",
      "metadata": {
        "id": "1HQqdQRH4Qh1",
        "colab_type": "text"
      },
      "source": [
        "### Train the model"
      ]
    },
    {
      "cell_type": "code",
      "metadata": {
        "id": "5vMvHz3X4QiC",
        "colab_type": "code",
        "outputId": "d9c3424e-10ce-4e35-b8f7-26a2b4c4ccfe",
        "colab": {
          "base_uri": "https://localhost:8080/",
          "height": 382
        }
      },
      "source": [
        "train_history = my_model.fit(x=x_train_normed,y=y_train ,\n",
        "                             validation_data=(x_test_normed,y_test), \n",
        "                             epochs=10, \n",
        "                             verbose=1,\n",
        "                             shuffle=True)"
      ],
      "execution_count": 0,
      "outputs": [
        {
          "output_type": "stream",
          "text": [
            "Train on 2242560 samples, validate on 2242560 samples\n",
            "Epoch 1/10\n",
            "2242560/2242560 [==============================] - 248s 110us/step - loss: 79.7313 - root_mean_squared_error: 3.2069 - val_loss: 63.1152 - val_root_mean_squared_error: 2.4790\n",
            "Epoch 2/10\n",
            "2242560/2242560 [==============================] - 249s 111us/step - loss: 50.3852 - root_mean_squared_error: 2.1551 - val_loss: 42.6219 - val_root_mean_squared_error: 1.9114\n",
            "Epoch 3/10\n",
            "2242560/2242560 [==============================] - 248s 111us/step - loss: 38.9018 - root_mean_squared_error: 1.7320 - val_loss: 36.6113 - val_root_mean_squared_error: 1.6032\n",
            "Epoch 4/10\n",
            "2242560/2242560 [==============================] - 250s 111us/step - loss: 34.1436 - root_mean_squared_error: 1.5471 - val_loss: 32.5240 - val_root_mean_squared_error: 1.5048\n",
            "Epoch 5/10\n",
            "2242560/2242560 [==============================] - 247s 110us/step - loss: 31.8290 - root_mean_squared_error: 1.4493 - val_loss: 30.7484 - val_root_mean_squared_error: 1.4312\n",
            "Epoch 6/10\n",
            "2242560/2242560 [==============================] - 252s 112us/step - loss: 30.4694 - root_mean_squared_error: 1.3861 - val_loss: 31.0832 - val_root_mean_squared_error: 1.4311\n",
            "Epoch 7/10\n",
            "2242560/2242560 [==============================] - 251s 112us/step - loss: 29.6252 - root_mean_squared_error: 1.3425 - val_loss: 28.6479 - val_root_mean_squared_error: 1.3306\n",
            "Epoch 8/10\n",
            "2242560/2242560 [==============================] - 250s 112us/step - loss: 28.8543 - root_mean_squared_error: 1.3079 - val_loss: 27.7807 - val_root_mean_squared_error: 1.2845\n",
            "Epoch 9/10\n",
            "2242560/2242560 [==============================] - 251s 112us/step - loss: 28.2731 - root_mean_squared_error: 1.2775 - val_loss: 27.7870 - val_root_mean_squared_error: 1.2612\n",
            "Epoch 10/10\n",
            "2242560/2242560 [==============================] - 251s 112us/step - loss: 27.9708 - root_mean_squared_error: 1.2597 - val_loss: 28.0142 - val_root_mean_squared_error: 1.2965\n"
          ],
          "name": "stdout"
        }
      ]
    },
    {
      "cell_type": "markdown",
      "metadata": {
        "id": "TnR9yhAQqJhX",
        "colab_type": "text"
      },
      "source": [
        "The output history (train_history variable) has a .history attribute with the record of training loss values and metrics values at successive epochs, as well as validation loss values and validation metrics values (if applicable).\n",
        "\n",
        "Let's analyze how did the training go.\n",
        "\n"
      ]
    },
    {
      "cell_type": "code",
      "metadata": {
        "id": "-SIsKb5jqIQa",
        "colab_type": "code",
        "outputId": "238e0d22-1f25-4c01-b1ae-84257f5facb6",
        "colab": {
          "base_uri": "https://localhost:8080/",
          "height": 712
        }
      },
      "source": [
        "train_history.history # Dictionary with "
      ],
      "execution_count": 0,
      "outputs": [
        {
          "output_type": "execute_result",
          "data": {
            "text/plain": [
              "{'loss': [79.73129231425501,\n",
              "  50.385206154129136,\n",
              "  38.90176599443321,\n",
              "  34.143571726732496,\n",
              "  31.829025845643432,\n",
              "  30.46940569467214,\n",
              "  29.62523174346055,\n",
              "  28.854266893409676,\n",
              "  28.2731449630352,\n",
              "  27.970773210681983],\n",
              " 'root_mean_squared_error': [3.2068657096022792,\n",
              "  2.155126676455556,\n",
              "  1.7320222892677135,\n",
              "  1.5471085360640382,\n",
              "  1.4492520202859445,\n",
              "  1.3860833180658085,\n",
              "  1.3425033650375122,\n",
              "  1.3078937668465689,\n",
              "  1.27748744953314,\n",
              "  1.259692671091337],\n",
              " 'val_loss': [63.115180361162885,\n",
              "  42.62190312983996,\n",
              "  36.61131061681093,\n",
              "  32.52402762009935,\n",
              "  30.748406270756366,\n",
              "  31.083195596963705,\n",
              "  28.647869809958213,\n",
              "  27.780735362944306,\n",
              "  27.78702096275572,\n",
              "  28.014210752714302],\n",
              " 'val_root_mean_squared_error': [2.4790030869751325,\n",
              "  1.9114497267500574,\n",
              "  1.6031879009002712,\n",
              "  1.504849677128393,\n",
              "  1.4311507726024393,\n",
              "  1.4311205327687966,\n",
              "  1.3305620676392615,\n",
              "  1.2845266011709373,\n",
              "  1.261248806714675,\n",
              "  1.2964961796714567]}"
            ]
          },
          "metadata": {
            "tags": []
          },
          "execution_count": 48
        }
      ]
    },
    {
      "cell_type": "code",
      "metadata": {
        "id": "WFYOX9I_Ep6g",
        "colab_type": "code",
        "outputId": "d2c1fc68-212c-45f9-b29a-24ecf87d8b2b",
        "colab": {
          "base_uri": "https://localhost:8080/",
          "height": 295
        }
      },
      "source": [
        "\n",
        "import matplotlib.pyplot as plt\n",
        "plt.plot(train_history.history['root_mean_squared_error'], label=\"train\")\n",
        "plt.plot(train_history.history['val_root_mean_squared_error'], label=\"validation\")\n",
        "plt.legend()\n",
        "\n",
        "plt.title(\"Evolution of model accuracy\")\n",
        "plt.xlabel('Epoch')\n",
        "plt.ylabel('Precip. RMSE [mm/day]')\n",
        "plt.show()\n"
      ],
      "execution_count": 0,
      "outputs": [
        {
          "output_type": "display_data",
          "data": {
            "image/png": "[encoded data removed]",
            "text/plain": [
              "<Figure size 432x288 with 1 Axes>"
            ]
          },
          "metadata": {
            "tags": []
          }
        }
      ]
    },
    {
      "cell_type": "markdown",
      "metadata": {
        "id": "9Umqp9rHzaBo",
        "colab_type": "text"
      },
      "source": [
        "Let's see how the precipitation patterns looks like with the trained NN.\n",
        "\n",
        "## Predicted precipitation patterns\n"
      ]
    },
    {
      "cell_type": "code",
      "metadata": {
        "id": "JPlrCTzcQ1Jq",
        "colab_type": "code",
        "colab": {}
      },
      "source": [
        "# Remember that the model uses the standarized values! \n",
        "predicted_precip = my_model.predict(x_test_normed)"
      ],
      "execution_count": 0,
      "outputs": []
    },
    {
      "cell_type": "code",
      "metadata": {
        "id": "vdoSAmqtSXtp",
        "colab_type": "code",
        "outputId": "f3f48d39-0ca8-4298-c278-b7253bf19640",
        "colab": {
          "base_uri": "https://localhost:8080/",
          "height": 34
        }
      },
      "source": [
        "predicted_precip.max()"
      ],
      "execution_count": 0,
      "outputs": [
        {
          "output_type": "execute_result",
          "data": {
            "text/plain": [
              "139.1036"
            ]
          },
          "metadata": {
            "tags": []
          },
          "execution_count": 60
        }
      ]
    },
    {
      "cell_type": "code",
      "metadata": {
        "id": "ZZjcBRleHoxD",
        "colab_type": "code",
        "outputId": "b7673db1-e20b-444d-93e3-91dd2bc520c4",
        "colab": {
          "base_uri": "https://localhost:8080/",
          "height": 330
        }
      },
      "source": [
        "import matplotlib.pyplot as plt\n",
        "import numpy as np\n",
        "\n",
        "\n",
        "# Select randomly a few samples. Otherwise, the plot will take to long.\n",
        "selected_indexes = np.random.random_integers(0, high=y_test.size, size=100_000)\n",
        "\n",
        "\n",
        "plt.scatter(y_test.ravel()[selected_indexes], \n",
        "            predicted_precip.ravel()[selected_indexes],\n",
        "            s=3)\n",
        "\n",
        "plt.title(\"True vs Predicted precipitation\")\n",
        "\n",
        "plt.xlabel('True precip. [mm/day]')\n",
        "plt.ylabel('Predicted precip. [mm/day]')\n",
        "plt.show()"
      ],
      "execution_count": 0,
      "outputs": [
        {
          "output_type": "stream",
          "text": [
            "/usr/local/lib/python3.6/dist-packages/ipykernel_launcher.py:6: DeprecationWarning: This function is deprecated. Please call randint(0, 2242560 + 1) instead\n",
            "  \n"
          ],
          "name": "stderr"
        },
        {
          "output_type": "display_data",
          "data": {
            "image/png": "[encoded data removed]",
            "text/plain": [
              "<Figure size 432x288 with 1 Axes>"
            ]
          },
          "metadata": {
            "tags": []
          }
        }
      ]
    },
    {
      "cell_type": "markdown",
      "metadata": {
        "id": "1XJNjn1gS-gz",
        "colab_type": "text"
      },
      "source": [
        "The results does not very encouraging, right? But, consider that we only trained for 10 epochs and we use a very simple network architecture. \n",
        "\n",
        "The goal of this first part was just to familiarize with the steps to train and use a neural network. To accurately parametrize convection with Neural Networks we will need to explore different networks architectures and find the best training parameters. \n",
        "\n",
        "\n",
        "## Find the optimal neural network architecture and training parameters\n",
        "\n",
        "Now that we know how to build and train a neural network, we can evaluate different network arquitectures (more layers, more neurons, different activation functions, different optimizers, etc) and find the optimal training parameters.\n",
        "\n",
        "\n",
        "To be continued....."
      ]
    },
    {
      "cell_type": "markdown",
      "metadata": {
        "_cell_guid": "e8d53f14-be0d-4b95-bc38-8714ec0239a1",
        "_uuid": "d5209b969be98b15aa0aa3e5923f88174fc8d7fb",
        "id": "Ur60WYce4QiM",
        "colab_type": "text"
      },
      "source": [
        "# Credits\n",
        "\n",
        "- The description of the Keras library was adapted from the Keras official documentation at https://keras.io/.\n",
        "\n",
        "- Gentine, P., Pritchard, M., Rasp, S., Reinaudi, G., & Yacalis, G. ( 2018). Could machine learning break the convection parameterization deadlock? Geophysical Research Letters, 45, 5742– 5751. \n",
        "https://agupubs.onlinelibrary.wiley.com/doi/epdf/10.1029/2018GL078202"
      ]
    },
    {
      "cell_type": "markdown",
      "metadata": {
        "id": "oh4nTVnY4QiO",
        "colab_type": "text"
      },
      "source": [
        "# License\n",
        "\n",
        "### Mit License\n",
        "\n",
        "Copyright 2019 Andres Perez Hortal\n",
        "\n",
        "Permission is hereby granted, free of charge, to any person obtaining a copy of this software and associated documentation files (the \"Software\"), to deal in the Software without restriction, including without limitation the rights to use, copy, modify, merge, publish, distribute, sublicense, and/or sell copies of the Software, and to permit persons to whom the Software is furnished to do so, subject to the following conditions:\n",
        "\n",
        "The above copyright notice and this permission notice shall be included in all copies or substantial portions of the Software.\n",
        "\n",
        "THE SOFTWARE IS PROVIDED \"AS IS\", WITHOUT WARRANTY OF ANY KIND, EXPRESS OR IMPLIED, INCLUDING BUT NOT LIMITED TO THE WARRANTIES OF MERCHANTABILITY, FITNESS FOR A PARTICULAR PURPOSE AND NONINFRINGEMENT. IN NO EVENT SHALL THE AUTHORS OR COPYRIGHT HOLDERS BE LIABLE FOR ANY CLAIM, DAMAGES OR OTHER LIABILITY, WHETHER IN AN ACTION OF CONTRACT, TORT OR OTHERWISE, ARISING FROM, OUT OF OR IN CONNECTION WITH THE SOFTWARE OR THE USE OR OTHER DEALINGS IN THE SOFTWARE."
      ]
    },
    {
      "cell_type": "code",
      "metadata": {
        "id": "38BD5mQP4QiP",
        "colab_type": "code",
        "colab": {}
      },
      "source": [
        ""
      ],
      "execution_count": 0,
      "outputs": []
    }
  ]
}