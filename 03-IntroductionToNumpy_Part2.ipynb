{
 "cells": [
  {
   "cell_type": "markdown",
   "metadata": {},
   "source": [
    "# Credits\n",
    "\n",
    "Most of the content of this notebook was taken from the Numpy's quickstart tutorial from the official documentation at\n",
    "https://docs.scipy.org/doc/numpy-1.15.1/user/quickstart.html ([Numpy License](http://www.numpy.org/license.html)), and adapted for a 2 hours workshop. "
   ]
  },
  {
   "cell_type": "markdown",
   "metadata": {},
   "source": [
    "# Introduction to Numpy: Part 2\n",
    "\n",
    "In this second part, we will explain how Numpy deals with operations between arrays that do not have exactly the same shape. We will also apply what we learned so far to analyze the evolution of the mean surface temperature over the last 50 years using the [NCEP/NCAR Reanalysis 1 Surface Temperature](https://www.esrl.noaa.gov/psd/data/gridded/data.ncep.reanalysis.surface.html). \n",
    "The NCEP/NCAR Reanalysis 1 project is using a state-of-the-art analysis/forecast system to perform data assimilation using past data from 1948 to the present.\n",
    "\n",
    "Finally, we will also learn how to present this information in nice looking plots that are able to convince climate-change skeptics.\n",
    "\n",
    "## Table Of Contents\n",
    "\n",
    "1. [Numpy review](#Review)\n",
    "1. [Broadcasting rules](#Broadcasting)\n",
    "1. [Hands-on](#Hands-on)\n",
    "1. [Exercises](#Exercises)\n",
    "1. [License and Credits](#License)"
   ]
  },
  {
   "cell_type": "markdown",
   "metadata": {},
   "source": [
    "<a id='Review'></a>\n",
    "# Numpy review\n",
    "\n",
    "## The Basics\n",
    "\n",
    "NumPy’s main object is the homogeneous multidimensional array. It is a table of elements (usually numbers), all of the same type, indexed by a tuple of positive integers. In NumPy, dimensions are called axes.\n",
    "\n",
    "The more important attributes of an ndarray object (named my_array) are:\n",
    "\n",
    "* __my_array.ndim__ : the number of axes (dimensions) of the array.\n",
    "* __my_array.shape__ : the dimensions of the array. This is a tuple of integers indicating the size of the array in each dimension. For a matrix with n rows and m columns, shape will be (n,m). The length of the shape tuple is therefore the number of axes, ndim.\n",
    "* __my_array.size__ : : the total number of elements of the array. This is equal to the product of the elements of shape.\n",
    "* __my_array.dtype__ : an object describing the type of the elements in the array. One can create or specify dtype’s using standard Python types. Additionally NumPy provides types of its own. numpy.int32, numpy.int16, and numpy.float64 are some examples.\n",
    "\n",
    "## Array operations\n",
    "\n",
    "**The operations are element-wise!**\n",
    "\n",
    "| Operator     | Name           | Description                                            |\n",
    "|--------------|----------------|--------------------------------------------------------|\n",
    "| ``a + b``    | Addition       | Sum of ``a`` and ``b``                                 |\n",
    "| ``a - b``    | Subtraction    | Difference of ``a`` and ``b``                          |\n",
    "| ``a * b``    | Multiplication | Product of ``a`` and ``b``                             |\n",
    "| ``a / b``    | True division  | Quotient of ``a`` and ``b``                            |\n",
    "| ``a // b``   | Floor division | Quotient of ``a`` and ``b``, removing fractional parts |\n",
    "| ``a % b``    | Modulus        | Integer remainder after division of ``a`` by ``b``     |\n",
    "| ``a ** b``   | Exponentiation | ``a`` raised to the power of ``b``                     |\n",
    "\n",
    "## Aggregations: min, max, sum, prod, mean, std, var, any, all\n",
    "\n",
    "We commonly need to compute statistics on a large amount of data. NumPy has fast built-in aggregation functions to compute the following statistics:\n",
    "\n",
    "* **min** : Return the minimum along a given axis\n",
    "* **argmin** : Returns the indices of the minimum values along an axis\n",
    "* **max** : Return the maximum along a given axis\n",
    "* **argmax** : Returns the indices of the maximum values along an axis\n",
    "* **sum** : Return the sum of the array elements over the given axis.\n",
    "* **cumsum** : Return the cumulative sum of the array elements over the given axis.\n",
    "* **prod** : Return the product of the array elements over the given axis.\n",
    "* **mean** : Returns the average of the array elements along given axis.\n",
    "* **std** : Returns the standard deviation of the array elements along given axis.\n",
    "* **var** : Returns the variance deviation of the array elements along given axis.\n",
    "* **any** : Test whether any array element along a given axis evaluates to True.\n",
    "* **all** : Test whether all array elements along a given axis evaluate to True.\n",
    "    "
   ]
  },
  {
   "cell_type": "markdown",
   "metadata": {},
   "source": [
    "<a id='Broadcasting'></a>\n",
    "# Arrays Broadcasting\n",
    "\n",
    "When we perform operations on arrays of the same shape, binary operations are performed on an element-by-element basis."
   ]
  },
  {
   "cell_type": "code",
   "execution_count": 1,
   "metadata": {},
   "outputs": [
    {
     "data": {
      "text/plain": [
       "[1, 2, 3, 4, 10, 20, 30, 40]"
      ]
     },
     "execution_count": 1,
     "metadata": {},
     "output_type": "execute_result"
    }
   ],
   "source": [
    "import numpy as np\n",
    "a=[1,2,3,4]\n",
    "b=[10,20,30,40]\n",
    "a+b"
   ]
  },
  {
   "cell_type": "markdown",
   "metadata": {},
   "source": [
    "Broadcasting allows the operations between arrays to deal in a meaningful way with inputs that do not have exactly the same shape. NumPy’s broadcasting rule relaxes this constraint when the arrays’ shapes meet certain constraints. The simplest broadcasting example occurs when an array and a scalar value are combined in an operation:"
   ]
  },
  {
   "cell_type": "code",
   "execution_count": 2,
   "metadata": {},
   "outputs": [
    {
     "data": {
      "text/plain": [
       "array([5, 6, 7])"
      ]
     },
     "execution_count": 2,
     "metadata": {},
     "output_type": "execute_result"
    }
   ],
   "source": [
    "a=np.asarray([0,1,2]) # shape (3,)  \n",
    "a + 5 # 5 is an scalar, can be seen as an array of shape (1,)"
   ]
  },
  {
   "cell_type": "markdown",
   "metadata": {},
   "source": [
    "We can think of **the scalar is being stretched** during the arithmetic operation **into an array with the same shape as \"a\"**. The new elements in this new array are simply copies of the original scalar. The stretching analogy is only conceptual. NumPy is smart enough to use the original scalar value without actually making copies, so that broadcasting operations are as memory and computationally efficient as possible.\n",
    "<img src=\"fig/broadcasting_1.png\">"
   ]
  },
  {
   "cell_type": "markdown",
   "metadata": {},
   "source": [
    "## Rules\n",
    "\n",
    "When operating on two arrays, NumPy compares their shapes element-wise. Broadcasting in NumPy follows follows two rules.\n",
    "\n",
    "* __Rule 1__: If **the input arrays do not have the same number of dimensions**: a \"1\" will be repeatedly prepended (added to the left) to the shapes of the smaller arrays until all the arrays have the same number of dimensions.\n",
    "* __Rule 2__. If **the number of dimensions are equal**: the arrays arrays with a size of 1 along a particular dimension act as if they had the size of the array with the largest shape along that dimension. \n",
    "\n",
    "If **the first two rules can not be applied**, then a ValueError exception is raised.\n",
    "\n",
    "Lets see how these rules work using simple examples."
   ]
  },
  {
   "cell_type": "markdown",
   "metadata": {},
   "source": [
    "### Arrays with the same number of dimensions\n",
    "\n",
    "Lets consider first arrays with the same number of dimensions (axes)."
   ]
  },
  {
   "cell_type": "code",
   "execution_count": 3,
   "metadata": {},
   "outputs": [
    {
     "name": "stdout",
     "output_type": "stream",
     "text": [
      "a.shape = (3, 3)\n",
      "b.shape = (3, 1)\n"
     ]
    }
   ],
   "source": [
    "a=np.ones((3,3))              # shape (3,3) ,  2 dimensions \n",
    "\n",
    "b=np.arange(3).reshape(3,1)   # shape (3,1) ,  2 dimensions \n",
    "# Notice that b was reshaped to have the same number of dimensions as a\n",
    "\n",
    "print(\"a.shape =\",a.shape)\n",
    "print(\"b.shape =\",b.shape)"
   ]
  },
  {
   "cell_type": "code",
   "execution_count": 4,
   "metadata": {},
   "outputs": [
    {
     "data": {
      "text/plain": [
       "array([[1., 1., 1.],\n",
       "       [2., 2., 2.],\n",
       "       [3., 3., 3.]])"
      ]
     },
     "execution_count": 4,
     "metadata": {},
     "output_type": "execute_result"
    }
   ],
   "source": [
    "a + b # shape (3,3) + shape (3,1)"
   ]
  },
  {
   "cell_type": "markdown",
   "metadata": {},
   "source": [
    "Lets recall the second rule: \n",
    "* If **the number of dimensions are equal**: the arrays arrays with a size of 1 along a particular dimension act as if they had the size of the array with the largest shape along that dimension. \n",
    "\n",
    "*Array plotting convention ( rows, columns )*\n",
    "<img src=\"fig/broadcasting_2.png?\">\n",
    "\n",
    "Here is another example:"
   ]
  },
  {
   "cell_type": "code",
   "execution_count": 5,
   "metadata": {},
   "outputs": [
    {
     "name": "stdout",
     "output_type": "stream",
     "text": [
      "a.shape = (3, 1)\n",
      "b.shape = (1, 3)\n"
     ]
    }
   ],
   "source": [
    "a=np.arange(3).reshape(3,1)   # shape (3,1) ,  2 dimensions \n",
    "\n",
    "b=np.arange(3).reshape(1,3)   # shape (1,3) ,  2 dimensions \n",
    "# Notice that b was reshaped to have the same number of dimensions as a\n",
    "\n",
    "print(\"a.shape =\",a.shape)\n",
    "print(\"b.shape =\",b.shape)"
   ]
  },
  {
   "cell_type": "markdown",
   "metadata": {},
   "source": [
    "*Array plotting convention ( rows, columns )*\n",
    "<img src=\"fig/broadcasting_4.png?\">\n",
    "\n",
    "**The broadcasting steps:**\n",
    "\n",
    "1. Extend __a__ along the second dimension to match **b** (Rule 2)\n",
    "   ``a.shape: (3,1) -> (3,3)``\n",
    "\n",
    "1. Extend __b__ along the first dimension to match **a** (Rule 2)\n",
    "``b.shape: (1,3) -> (3,3)``\n",
    "\n",
    "1. Perform the operation if the shapes are the same."
   ]
  },
  {
   "cell_type": "markdown",
   "metadata": {},
   "source": [
    "### Arrays with the different number of dimensions\n",
    "\n",
    "Now lets see what happens with arrays with different number of dimensions (axes).\n",
    "\n",
    "* If **the input arrays do not have the same number of dimensions**: a \"1\" will be repeatedly prepended to the shapes of the smaller arrays until all the arrays have the same number of dimensions."
   ]
  },
  {
   "cell_type": "code",
   "execution_count": 6,
   "metadata": {},
   "outputs": [
    {
     "name": "stdout",
     "output_type": "stream",
     "text": [
      "a.shape = (3, 3)\n",
      "b.shape = (3,)\n"
     ]
    }
   ],
   "source": [
    "a=np.ones((3,3))   # shape (3,3) ,  2 dimensions \n",
    "\n",
    "b=np.arange(3)     # shape (3,) ,  1 dimensions \n",
    "\n",
    "print(\"a.shape =\",a.shape)\n",
    "print(\"b.shape =\",b.shape)"
   ]
  },
  {
   "cell_type": "code",
   "execution_count": 7,
   "metadata": {},
   "outputs": [
    {
     "data": {
      "text/plain": [
       "array([[1., 2., 3.],\n",
       "       [1., 2., 3.],\n",
       "       [1., 2., 3.]])"
      ]
     },
     "execution_count": 7,
     "metadata": {},
     "output_type": "execute_result"
    }
   ],
   "source": [
    "a+b"
   ]
  },
  {
   "cell_type": "code",
   "execution_count": 8,
   "metadata": {},
   "outputs": [
    {
     "data": {
      "text/plain": [
       "(3, 3)"
      ]
     },
     "execution_count": 8,
     "metadata": {},
     "output_type": "execute_result"
    }
   ],
   "source": [
    "(a+b).shape"
   ]
  },
  {
   "cell_type": "markdown",
   "metadata": {},
   "source": [
    "**The broadcasting steps:**\n",
    "\n",
    "1. Add one dimension to **b** towards the left. (Rule 1)\n",
    "   ``b.shape: (3,) -> (1,3)``\n",
    "   \n",
    "1. Extend __a__ along the second dimension to match **b** (Rule 2)\n",
    "   ``a.shape: (3,1) -> (3,3)``\n",
    "\n",
    "1. Extend __b__ along the first dimension to match **a** (Rule 2)\n",
    "``b.shape: (1,3) -> (3,3)``\n",
    "\n",
    "1. Perform the operation if the shapes are the same."
   ]
  },
  {
   "cell_type": "markdown",
   "metadata": {},
   "source": [
    "### Incompatible arrays\n",
    "\n",
    "Now lets show a few examples of incompatible arrays."
   ]
  },
  {
   "cell_type": "code",
   "execution_count": 9,
   "metadata": {},
   "outputs": [
    {
     "ename": "ValueError",
     "evalue": "operands could not be broadcast together with shapes (3,3) (3,4) ",
     "output_type": "error",
     "traceback": [
      "\u001b[0;31m---------------------------------------------------------------------------\u001b[0m",
      "\u001b[0;31mValueError\u001b[0m                                Traceback (most recent call last)",
      "\u001b[0;32m<ipython-input-9-2fbfb4d56c29>\u001b[0m in \u001b[0;36m<module>\u001b[0;34m()\u001b[0m\n\u001b[1;32m      1\u001b[0m \u001b[0ma\u001b[0m\u001b[0;34m=\u001b[0m\u001b[0mnp\u001b[0m\u001b[0;34m.\u001b[0m\u001b[0marange\u001b[0m\u001b[0;34m(\u001b[0m\u001b[0;36m9\u001b[0m\u001b[0;34m)\u001b[0m\u001b[0;34m.\u001b[0m\u001b[0mreshape\u001b[0m\u001b[0;34m(\u001b[0m\u001b[0;34m(\u001b[0m\u001b[0;36m3\u001b[0m\u001b[0;34m,\u001b[0m\u001b[0;36m3\u001b[0m\u001b[0;34m)\u001b[0m\u001b[0;34m)\u001b[0m \u001b[0;31m# shape (3,3)\u001b[0m\u001b[0;34m\u001b[0m\u001b[0;34m\u001b[0m\u001b[0m\n\u001b[1;32m      2\u001b[0m \u001b[0mb\u001b[0m\u001b[0;34m=\u001b[0m\u001b[0mnp\u001b[0m\u001b[0;34m.\u001b[0m\u001b[0marange\u001b[0m\u001b[0;34m(\u001b[0m\u001b[0;36m3\u001b[0m\u001b[0;34m*\u001b[0m\u001b[0;36m4\u001b[0m\u001b[0;34m)\u001b[0m\u001b[0;34m.\u001b[0m\u001b[0mreshape\u001b[0m\u001b[0;34m(\u001b[0m\u001b[0;34m(\u001b[0m\u001b[0;36m3\u001b[0m\u001b[0;34m,\u001b[0m\u001b[0;36m4\u001b[0m\u001b[0;34m)\u001b[0m\u001b[0;34m)\u001b[0m \u001b[0;31m# shape (3,4)\u001b[0m\u001b[0;34m\u001b[0m\u001b[0;34m\u001b[0m\u001b[0m\n\u001b[0;32m----> 3\u001b[0;31m \u001b[0ma\u001b[0m \u001b[0;34m+\u001b[0m \u001b[0mb\u001b[0m\u001b[0;34m\u001b[0m\u001b[0;34m\u001b[0m\u001b[0m\n\u001b[0m",
      "\u001b[0;31mValueError\u001b[0m: operands could not be broadcast together with shapes (3,3) (3,4) "
     ]
    }
   ],
   "source": [
    "a=np.arange(9).reshape((3,3)) # shape (3,3)\n",
    "b=np.arange(3*4).reshape((3,4)) # shape (3,4)\n",
    "a + b"
   ]
  },
  {
   "cell_type": "markdown",
   "metadata": {},
   "source": [
    "#### Why??\n",
    "The second rule of broadcasting only stretches dimensions with **size 1**. "
   ]
  },
  {
   "cell_type": "code",
   "execution_count": 10,
   "metadata": {},
   "outputs": [
    {
     "name": "stdout",
     "output_type": "stream",
     "text": [
      "a.shape = (5, 3)\n",
      "b.shape = (5,)\n"
     ]
    },
    {
     "ename": "ValueError",
     "evalue": "operands could not be broadcast together with shapes (5,3) (5,) ",
     "output_type": "error",
     "traceback": [
      "\u001b[0;31m---------------------------------------------------------------------------\u001b[0m",
      "\u001b[0;31mValueError\u001b[0m                                Traceback (most recent call last)",
      "\u001b[0;32m<ipython-input-10-7d5f84fd6021>\u001b[0m in \u001b[0;36m<module>\u001b[0;34m()\u001b[0m\n\u001b[1;32m      6\u001b[0m \u001b[0mprint\u001b[0m\u001b[0;34m(\u001b[0m\u001b[0;34m\"b.shape =\"\u001b[0m\u001b[0;34m,\u001b[0m\u001b[0mb\u001b[0m\u001b[0;34m.\u001b[0m\u001b[0mshape\u001b[0m\u001b[0;34m)\u001b[0m\u001b[0;34m\u001b[0m\u001b[0;34m\u001b[0m\u001b[0m\n\u001b[1;32m      7\u001b[0m \u001b[0;34m\u001b[0m\u001b[0m\n\u001b[0;32m----> 8\u001b[0;31m \u001b[0ma\u001b[0m \u001b[0;34m+\u001b[0m \u001b[0mb\u001b[0m\u001b[0;34m\u001b[0m\u001b[0;34m\u001b[0m\u001b[0m\n\u001b[0m",
      "\u001b[0;31mValueError\u001b[0m: operands could not be broadcast together with shapes (5,3) (5,) "
     ]
    }
   ],
   "source": [
    "a=np.ones((5,3))   # shape (5,3) ,  2 dimensions \n",
    "\n",
    "b=np.arange(5)     # shape (5,) ,  1 dimensions \n",
    "\n",
    "print(\"a.shape =\",a.shape)\n",
    "print(\"b.shape =\",b.shape)\n",
    "\n",
    "a + b"
   ]
  },
  {
   "cell_type": "markdown",
   "metadata": {},
   "source": [
    "**The broadcasting steps:**\n",
    "\n",
    "1. The dimensions do not match. Fix them.\n",
    "\n",
    "1. Add one dimension to **b** towards the left. (Rule 1)\n",
    "   ``b.shape: (5,) -> (1,5)``\n",
    "   \n",
    "1. Extend __b__ along the second dimension to match **b** (Rule 2)\n",
    "   ``b.shape: (1,5) -> (5,5)``\n",
    "\n",
    "1. We can't perform the operation since the final shapes are not the same.\n",
    "   ``a.shape: (5,3)``\n",
    "   ``b.shape: (5,5)``\n",
    "   \n",
    "### How do we add a and b? \n",
    "\n",
    "The 1st broadcasting rule only adds new dimensions to left part of the array.\n",
    "To make **a** and __b__ compatible, an extra dimension should be added \n",
    "to <b>b</b> on the right side.\n",
    "\n",
    "This can be done in two ways:\n",
    "\n",
    "* Adding the dimension of size 1 to the right using the reshape function\n",
    "* By making use of the newaxis keyword in the slice operation."
   ]
  },
  {
   "cell_type": "code",
   "execution_count": 11,
   "metadata": {},
   "outputs": [
    {
     "name": "stdout",
     "output_type": "stream",
     "text": [
      "a.shape = (5, 3)\n",
      "fixed_b.shape = (5, 1)\n"
     ]
    },
    {
     "data": {
      "text/plain": [
       "array([[1., 1., 1.],\n",
       "       [2., 2., 2.],\n",
       "       [3., 3., 3.],\n",
       "       [4., 4., 4.],\n",
       "       [5., 5., 5.]])"
      ]
     },
     "execution_count": 11,
     "metadata": {},
     "output_type": "execute_result"
    }
   ],
   "source": [
    "a=np.ones((5,3))   # shape (5,3) ,  2 dimensions \n",
    "\n",
    "b=np.arange(5)     # shape (5,) ,  1 dimensions \n",
    "\n",
    "fixed_b=b.reshape(5,1) # Add a dimension of size 1 to the right\n",
    "\n",
    "print(\"a.shape =\",a.shape)\n",
    "print(\"fixed_b.shape =\",fixed_b.shape)\n",
    "\n",
    "a + fixed_b"
   ]
  },
  {
   "cell_type": "code",
   "execution_count": 12,
   "metadata": {},
   "outputs": [
    {
     "name": "stdout",
     "output_type": "stream",
     "text": [
      "a.shape = (5, 3)\n",
      "fixed_b.shape = (5,)\n"
     ]
    },
    {
     "data": {
      "text/plain": [
       "array([[1., 1., 1.],\n",
       "       [2., 2., 2.],\n",
       "       [3., 3., 3.],\n",
       "       [4., 4., 4.],\n",
       "       [5., 5., 5.]])"
      ]
     },
     "execution_count": 12,
     "metadata": {},
     "output_type": "execute_result"
    }
   ],
   "source": [
    "fixed_b=b[:,np.newaxis] # Use of the newaxis keyword\n",
    "\n",
    "print(\"a.shape =\",a.shape)\n",
    "print(\"fixed_b.shape =\",b.shape)\n",
    "\n",
    "a + fixed_b"
   ]
  },
  {
   "cell_type": "markdown",
   "metadata": {},
   "source": [
    "<a id='Hands-on'></a>\n",
    "# Hands-on! \n",
    "\n",
    "# Analyze the evolution of the surface temperature over the last 50 years\n",
    "\n",
    "To apply what we learned so far, we will analyze the evolution of the mean surface temperature over the last 50 years using the [NCEP/NCAR Reanalysis 1 Surface Temperature](https://www.esrl.noaa.gov/psd/data/gridded/data.ncep.reanalysis.surface.html). The NCEP/NCAR Reanalysis 1 project is using a state-of-the-art analysis/forecast system to perform data assimilation using past data from 1948 to the present.\n",
    "\n",
    "\n",
    "We will use the long term monthly means, derived from data for years 1981-2010. Download the file from here (25.7 MB) and store it in the same folder where you have this notebook: \n",
    "\n",
    "ftp://ftp.cdc.noaa.gov/Datasets/ncep.reanalysis.derived/surface/air.mon.mean.nc\n",
    "\n",
    "The file is in [netCDF format](https://www.unidata.ucar.edu/software/netcdf/). To read this format we will use the [netCDF4-python](http://unidata.github.io/netcdf4-python/) library.\n",
    "\n",
    "If you don't have it installed you can installed via **conda** (recommended) or via **pip**.\n",
    "\n",
    "### Conda install\n",
    "\n",
    "Use the Terminal or an Anaconda Prompt (windows) for the following steps.\n",
    "```\n",
    "conda install --name my_environment_name netCDF4\n",
    "```\n",
    "where *my_environment_name* is the name of your anaconda environment (if you have created one).\n",
    "If you are working with the anaconda base environment, then do:\n",
    "```\n",
    "conda install netCDF4\n",
    "```\n",
    "\n",
    "This will install the netCDF4-python package along with all its dependencies.\n",
    "\n",
    "### Pip install\n",
    "\n",
    "To install the package using [pip](https://pip.pypa.io/en/stable/) you can execute:\n",
    "```\n",
    "pip install netCDF4\n",
    "```"
   ]
  },
  {
   "cell_type": "code",
   "execution_count": 13,
   "metadata": {},
   "outputs": [],
   "source": [
    "# To install netCDF4-python using pip uncomment the following line and execute the cell.\n",
    "\n",
    "# !pip install netCDF4"
   ]
  },
  {
   "cell_type": "markdown",
   "metadata": {},
   "source": [
    "#### So, we have the netcd library install and ready to use, lets explore the downloaded file first."
   ]
  },
  {
   "cell_type": "code",
   "execution_count": 14,
   "metadata": {},
   "outputs": [],
   "source": [
    "# Load the library\n",
    "import netCDF4\n",
    "\n",
    "# Let's load the file by instanciating a Dataset class.\n",
    "# A netCDF Dataset is a collection of dimensions, groups, variables and attributes.\n",
    "# Together they describe the meaning of data and relations among data fields stored in a netCDF file\n",
    "\n",
    "my_dataset = netCDF4.Dataset('air.mon.mean.nc', 'r')\n",
    "\n",
    "# Dataset(file_name, access_mode) \n",
    "#     filename: Name of netCDF file to hold dataset. \n",
    "#     access_mode: 'r' means read-only\n",
    "    \n"
   ]
  },
  {
   "cell_type": "code",
   "execution_count": 15,
   "metadata": {},
   "outputs": [
    {
     "data": {
      "text/plain": [
       "'NETCDF4_CLASSIC'"
      ]
     },
     "execution_count": 15,
     "metadata": {},
     "output_type": "execute_result"
    }
   ],
   "source": [
    "# Lets check which NETCDF format the file is.\n",
    "my_dataset.file_format"
   ]
  },
  {
   "cell_type": "markdown",
   "metadata": {},
   "source": [
    "The \"NETCDF4_CLASSIC\" data model is made up of variables, the dimensions (of the variables) and attributes.\n",
    "\n",
    "#### Lets see the dimensions of the variables in this file"
   ]
  },
  {
   "cell_type": "code",
   "execution_count": 16,
   "metadata": {},
   "outputs": [
    {
     "data": {
      "text/plain": [
       "odict_keys(['lat', 'lon', 'time'])"
      ]
     },
     "execution_count": 16,
     "metadata": {},
     "output_type": "execute_result"
    }
   ],
   "source": [
    "# Lets see the dimensions of the variables in this file\n",
    "# Each dimension is stored in the `dimensions` attribute, which is a dictionary.\n",
    "# Remember, a dictionary is a collection of key, value pairs. In this case, dimension_name, dimension_object pairs.\n",
    "\n",
    "# So, lets print the dictionary keys:\n",
    "my_dataset.dimensions.keys()"
   ]
  },
  {
   "cell_type": "code",
   "execution_count": 17,
   "metadata": {},
   "outputs": [
    {
     "data": {
      "text/plain": [
       "<class 'netCDF4._netCDF4.Dimension'>: name = 'lon', size = 144"
      ]
     },
     "execution_count": 17,
     "metadata": {},
     "output_type": "execute_result"
    }
   ],
   "source": [
    "my_dataset.dimensions['lon']\n",
    "# We see that the dimension is an object that contains two attributes. The name and the size of that dimension."
   ]
  },
  {
   "cell_type": "code",
   "execution_count": 18,
   "metadata": {},
   "outputs": [
    {
     "data": {
      "text/plain": [
       "<class 'netCDF4._netCDF4.Dimension'>: name = 'lat', size = 73"
      ]
     },
     "execution_count": 18,
     "metadata": {},
     "output_type": "execute_result"
    }
   ],
   "source": [
    "my_dataset.dimensions['lat']"
   ]
  },
  {
   "cell_type": "code",
   "execution_count": 19,
   "metadata": {},
   "outputs": [
    {
     "data": {
      "text/plain": [
       "<class 'netCDF4._netCDF4.Dimension'> (unlimited): name = 'time', size = 853"
      ]
     },
     "execution_count": 19,
     "metadata": {},
     "output_type": "execute_result"
    }
   ],
   "source": [
    "my_dataset.dimensions['time']"
   ]
  },
  {
   "cell_type": "markdown",
   "metadata": {},
   "source": [
    "#### Now lets see the available variables in the file."
   ]
  },
  {
   "cell_type": "code",
   "execution_count": 20,
   "metadata": {},
   "outputs": [
    {
     "data": {
      "text/plain": [
       "odict_keys(['lat', 'lon', 'time', 'air'])"
      ]
     },
     "execution_count": 20,
     "metadata": {},
     "output_type": "execute_result"
    }
   ],
   "source": [
    "my_dataset.variables.keys()"
   ]
  },
  {
   "cell_type": "code",
   "execution_count": 21,
   "metadata": {},
   "outputs": [
    {
     "data": {
      "text/plain": [
       "<class 'netCDF4._netCDF4.Variable'>\n",
       "float32 lat(lat)\n",
       "    units: degrees_north\n",
       "    actual_range: [ 90. -90.]\n",
       "    long_name: Latitude\n",
       "    standard_name: latitude\n",
       "    axis: Y\n",
       "unlimited dimensions: \n",
       "current shape = (73,)\n",
       "filling on, default _FillValue of 9.969209968386869e+36 used"
      ]
     },
     "execution_count": 21,
     "metadata": {},
     "output_type": "execute_result"
    }
   ],
   "source": [
    "my_dataset.variables['lat']"
   ]
  },
  {
   "cell_type": "code",
   "execution_count": 22,
   "metadata": {},
   "outputs": [
    {
     "data": {
      "text/plain": [
       "<class 'netCDF4._netCDF4.Variable'>\n",
       "float32 lon(lon)\n",
       "    units: degrees_east\n",
       "    long_name: Longitude\n",
       "    actual_range: [  0.  357.5]\n",
       "    standard_name: longitude\n",
       "    axis: X\n",
       "unlimited dimensions: \n",
       "current shape = (144,)\n",
       "filling on, default _FillValue of 9.969209968386869e+36 used"
      ]
     },
     "execution_count": 22,
     "metadata": {},
     "output_type": "execute_result"
    }
   ],
   "source": [
    "my_dataset.variables['lon']"
   ]
  },
  {
   "cell_type": "code",
   "execution_count": 23,
   "metadata": {},
   "outputs": [
    {
     "data": {
      "text/plain": [
       "<class 'netCDF4._netCDF4.Variable'>\n",
       "float64 time(time)\n",
       "    long_name: Time\n",
       "    delta_t: 0000-01-00 00:00:00\n",
       "    avg_period: 0000-01-00 00:00:00\n",
       "    prev_avg_period: 0000-00-01 00:00:00\n",
       "    standard_name: time\n",
       "    axis: T\n",
       "    units: hours since 1800-01-01 00:00:0.0\n",
       "    actual_range: [1297320. 1919712.]\n",
       "unlimited dimensions: time\n",
       "current shape = (853,)\n",
       "filling on, default _FillValue of 9.969209968386869e+36 used"
      ]
     },
     "execution_count": 23,
     "metadata": {},
     "output_type": "execute_result"
    }
   ],
   "source": [
    "my_dataset.variables['time']"
   ]
  },
  {
   "cell_type": "code",
   "execution_count": 24,
   "metadata": {},
   "outputs": [
    {
     "data": {
      "text/plain": [
       "<class 'netCDF4._netCDF4.Variable'>\n",
       "float32 air(time, lat, lon)\n",
       "    long_name: Monthly Mean Air Temperature at sigma level 0.995\n",
       "    valid_range: [-2000.  2000.]\n",
       "    units: degC\n",
       "    add_offset: 0.0\n",
       "    scale_factor: 1.0\n",
       "    missing_value: -9.96921e+36\n",
       "    precision: 1\n",
       "    least_significant_digit: 0\n",
       "    var_desc: Air Temperature\n",
       "    level_desc: Surface\n",
       "    statistic: Mean\n",
       "    parent_stat: Individual Obs\n",
       "    dataset: NCEP Reanalysis Derived Products\n",
       "    actual_range: [-73.78001  42.14595]\n",
       "unlimited dimensions: time\n",
       "current shape = (853, 73, 144)\n",
       "filling on, default _FillValue of 9.969209968386869e+36 used"
      ]
     },
     "execution_count": 24,
     "metadata": {},
     "output_type": "execute_result"
    }
   ],
   "source": [
    "my_dataset.variables['air']"
   ]
  },
  {
   "cell_type": "markdown",
   "metadata": {},
   "source": [
    "### What we know about the file\n",
    "\n",
    "* Contain four variables: latitude (*lat*), longitude (*lon*), time (*time*), and surface temperature (*air*, monthly mean)\n",
    "* The dimensions of each variables are:\n",
    "    * lat(lat)\n",
    "    * lon(lon)\n",
    "    * time(time)\n",
    "    * air(time , lat , lon)    "
   ]
  },
  {
   "cell_type": "markdown",
   "metadata": {},
   "source": [
    "### Read time variable\n",
    "First, lets convert the time variable from hours since 1800-01-01 00:00:0.0 to a [datetime object](https://docs.python.org/3/library/datetime.html?highlight=datetime%20datetime#datetime.datetime).\n",
    "A python date time object contains the information of the date and the time. Its attributes are: year, month, day, hour, minute, second, microsecond, and tzinfo."
   ]
  },
  {
   "cell_type": "code",
   "execution_count": 25,
   "metadata": {},
   "outputs": [
    {
     "name": "stdout",
     "output_type": "stream",
     "text": [
      "times_in_hours.shape: (853,)\n",
      "times_in_hours[0]: 1297320.0\n",
      "type(times_in_hours) <class 'numpy.ma.core.MaskedArray'>\n"
     ]
    }
   ],
   "source": [
    "# Lets read the times\n",
    "times_in_hours = my_dataset.variables['time'][:]\n",
    "# the last [:] is to return the actual data expressed as a numpy array instead of the more\n",
    "# general netcdf variable instance.\n",
    "\n",
    "print(\"times_in_hours.shape:\",times_in_hours.shape)\n",
    "print(\"times_in_hours[0]:\",times_in_hours[0])\n",
    "print(\"type(times_in_hours)\",type(times_in_hours))"
   ]
  },
  {
   "cell_type": "markdown",
   "metadata": {},
   "source": [
    "Wait, **numpy.ma.core.MaskedArray**... What is that? Where is my numpy array?\n",
    "\n",
    "Masked arrays are arrays that **may** have missing or invalid entries. In many circumstances, datasets can be incomplete or tainted by the presence of invalid data. For example, a sensor may have failed to record a data, or recorded an invalid value. The numpy.ma module provides a convenient way to address this issue, by introducing masked arrays.\n",
    "\n",
    "A masked array is the combination of a standard numpy.ndarray (stored in the data attribute) and a mask (stored in the mask attribute). A mask is either nomask, indicating that no value of the associated array is invalid, or an array of booleans that determines for each element of the associated array whether the value is valid or not. When an element of the mask is False, the corresponding element of the associated array is valid and is said to be unmasked. When an element of the mask is True, the corresponding element of the associated array is said to be masked (invalid).\n",
    "\n",
    "Lets see if is any masked time."
   ]
  },
  {
   "cell_type": "code",
   "execution_count": 26,
   "metadata": {},
   "outputs": [
    {
     "data": {
      "text/plain": [
       "array([False, False, False, False, False, False, False, False, False,\n",
       "       False])"
      ]
     },
     "execution_count": 26,
     "metadata": {},
     "output_type": "execute_result"
    }
   ],
   "source": [
    "# Lets see the first 10 to have an idea how a mask looks like\n",
    "times_in_hours.mask[:10]"
   ]
  },
  {
   "cell_type": "code",
   "execution_count": 27,
   "metadata": {},
   "outputs": [
    {
     "data": {
      "text/plain": [
       "False"
      ]
     },
     "execution_count": 27,
     "metadata": {},
     "output_type": "execute_result"
    }
   ],
   "source": [
    "# Now lets see if there is any True value.\n",
    "times_in_hours.mask.all()  # The all method test whether any array element along a given axis evaluates to True."
   ]
  },
  {
   "cell_type": "markdown",
   "metadata": {},
   "source": [
    "Nice! We don't have any invalid time. Lets work with the numpy array part only and move on with our time conversion."
   ]
  },
  {
   "cell_type": "code",
   "execution_count": 28,
   "metadata": {},
   "outputs": [
    {
     "name": "stdout",
     "output_type": "stream",
     "text": [
      "1297320 hours\n"
     ]
    }
   ],
   "source": [
    "times_in_hours = my_dataset.variables['time'][:].data\n",
    "\n",
    "# The times are expressed in hours since 1800-01-01 00:00:00\n",
    "\n",
    "# Numpy has a special data type to deal with date/times and date/time intervals.\n",
    "# Lets see how we can convert the times in hours to actual date/times.\n",
    "times_in_hours = np.array(times_in_hours, dtype='timedelta64[h]')\n",
    "# timedelta64 is the actual time interval data type, the [h] denotes that the interval is expressed in hours.\n",
    "print(times_in_hours[0])"
   ]
  },
  {
   "cell_type": "code",
   "execution_count": 29,
   "metadata": {},
   "outputs": [
    {
     "name": "stdout",
     "output_type": "stream",
     "text": [
      "reference date:  1800-01-01T00\n",
      "Oldest date: 1948-01-01T00\n",
      "Newest date: 2019-01-01T00\n"
     ]
    }
   ],
   "source": [
    "# So, we have the times expressed in numpy timedelta intevals. \n",
    "# But we want the actual date/times.\n",
    "\n",
    "# When we work with the numpy date data-types, this becomes a simple addition.\n",
    "\n",
    "reference_date = np.array('1800-01-01T00', dtype='datetime64')\n",
    "print(\"reference date: \",reference_date)\n",
    "\n",
    "times = times_in_hours + reference_date\n",
    "# times_in_hours : a timedelta64 object\n",
    "# reference_date : a datetime64 object\n",
    "print(\"Oldest date:\",times.min())\n",
    "print(\"Newest date:\",times.max())\n"
   ]
  },
  {
   "cell_type": "markdown",
   "metadata": {},
   "source": [
    "### Read temperature data"
   ]
  },
  {
   "cell_type": "code",
   "execution_count": 30,
   "metadata": {},
   "outputs": [
    {
     "name": "stdout",
     "output_type": "stream",
     "text": [
      "Masked values?:  False\n"
     ]
    }
   ],
   "source": [
    "temperature = my_dataset.variables['air'][:]\n",
    "# Now lets see if there is any True value.\n",
    "print(\"Masked values?: \",temperature.mask.all() )\n",
    "temperature = temperature.data # Keep the ndarray part"
   ]
  },
  {
   "cell_type": "code",
   "execution_count": 31,
   "metadata": {},
   "outputs": [
    {
     "data": {
      "image/png": "[encoded data removed]",
      "text/plain": [
       "<Figure size 936x360 with 1 Axes>"
      ]
     },
     "metadata": {},
     "output_type": "display_data"
    }
   ],
   "source": [
    "# recall the temperature dimensions \n",
    "# temperature(time , lat , lon) \n",
    "\n",
    "# Lets compute the global mean temperature over time.\n",
    "global_mean = temperature.mean(axis=(1,2))\n",
    "\n",
    "# Lets plot the result. \n",
    "import matplotlib.pyplot as plt # Pyplot provides an interface simular to matlab\n",
    "import matplotlib.dates as mdates # For date formatting functions\n",
    "\n",
    "%matplotlib inline \n",
    "# %matplotlib inline this is needed in jupyter notebooks to display the plot here.\n",
    "\n",
    "fig = plt.figure(figsize=(13,5))\n",
    "\n",
    "ax = plt.gca() # Get current axis\n",
    "plt.plot(times, global_mean, color='r') # Do a line plot , color: 'r'=red\n",
    "\n",
    "# If you want to add a second line with a different color:\n",
    "# plt.plot(times, other_temperature, color='b') # , color: 'b'=blue\n",
    "\n",
    "# Set some plots parameters\n",
    "ax.set(xlabel='Year', \n",
    "       ylabel='Temperature[K]',\n",
    "       title='Mean surface temperature (monthly mean)')\n",
    "\n",
    "# lets set the x-tick labels\n",
    "years = np.array(times,dtype='datetime64[Y]')\n",
    "\n",
    "# Lets make the x majort ticks spacing every 5 years\n",
    "ax.xaxis.set_major_locator(mdates.YearLocator(5)) # every 5-years\n",
    "ax.xaxis.set_major_formatter(mdates.DateFormatter('%Y'))  # Date formatter. Only show the year\n",
    "ax.xaxis.set_minor_locator(mdates.YearLocator(1))\n",
    "\n",
    "ax.grid() # Draw a grid in the plot\n",
    "\n",
    "# fig.savefig(\"test.png\") In case that you want to save the figure\n",
    "plt.show()"
   ]
  },
  {
   "cell_type": "markdown",
   "metadata": {},
   "source": [
    "<a id='Exercises'></a>\n",
    "# Exercises\n",
    "\n",
    "\n",
    "# Exercise 1: \n",
    "Plot the evolution of the temperature averaged over the following latitude ranges:\n",
    "* [-30,30] degrees\n",
    "* [30,60] degrees\n",
    "* [-60,30] degrees\n",
    "\n",
    "Hints:\n",
    "* You should first get a mask with the indexes where the latitudes values are in the desired range.\n",
    "* You can use that to select the indexes along the latitude dimension\n"
   ]
  },
  {
   "cell_type": "code",
   "execution_count": 32,
   "metadata": {},
   "outputs": [
    {
     "name": "stdout",
     "output_type": "stream",
     "text": [
      "latitude.shape=\n",
      " (73,)\n",
      "selection.shape=\n",
      " (73,)\n",
      "selection=\n",
      " [False False False False False False False False False False False False\n",
      " False  True  True  True False False False False False False False False\n",
      " False False False False False False False False False False False False\n",
      " False False False False False False False False False False False False\n",
      " False False False False False False False False False False False False\n",
      " False False False False False False False False False False False False\n",
      " False]\n",
      "selected_latitudes:\n",
      " [57.5 55.  52.5]\n",
      "temperature[:,selection,:].shape:  (853, 3, 144)\n"
     ]
    }
   ],
   "source": [
    "# HINT:\n",
    "# temperature(time , lat , lon) \n",
    "\n",
    "# Lets read the latitude\n",
    "latitude = my_dataset.variables['lat'][:].data\n",
    "\n",
    "# Remember that boolean arrays can be used to select elements from an array\n",
    "selection = (latitude>50) & (latitude<60) \n",
    "print(\"latitude.shape=\\n\",latitude.shape)\n",
    "print(\"selection.shape=\\n\",selection.shape)\n",
    "print(\"selection=\\n\",selection)\n",
    "\n",
    "# Show a latitude range\n",
    "print(\"selected_latitudes:\\n\",latitude[ (latitude>50) & (latitude<60) ])\n",
    "\n",
    "print(\"temperature[:,selection,:].shape: \", temperature[:,selection,:].shape)"
   ]
  },
  {
   "cell_type": "code",
   "execution_count": 33,
   "metadata": {},
   "outputs": [],
   "source": [
    "# Solve the exercise here ;)\n"
   ]
  },
  {
   "cell_type": "markdown",
   "metadata": {},
   "source": [
    "# Exercise 2: \n",
    "\n",
    "Plot the yearly-mean (running window) temperature. Plot it on top of the montly-mean temperature values.\n",
    "\n",
    "Hint:\n",
    "* You can do the running mean using the scipy uniform_filter function.\n",
    "\n",
    "result = ndimage.uniform_filter(ascent, size=20)\n",
    "To compute the mean over 12 months you can do the trick using reshape and taking the average over "
   ]
  },
  {
   "cell_type": "code",
   "execution_count": 34,
   "metadata": {},
   "outputs": [
    {
     "data": {
      "image/png": "[encoded data removed]",
      "text/plain": [
       "<Figure size 432x288 with 2 Axes>"
      ]
     },
     "metadata": {},
     "output_type": "display_data"
    }
   ],
   "source": [
    "# Taken from: https://docs.scipy.org/doc/scipy/reference/generated/scipy.ndimage.uniform_filter.html\n",
    "from scipy import ndimage, misc # Import scipy modules\n",
    "\n",
    "import matplotlib.pyplot as plt\n",
    "\n",
    "fig = plt.figure()\n",
    "plt.gray()  # show the filtered result in grayscale\n",
    "ax1 = fig.add_subplot(121)  # left side\n",
    "ax2 = fig.add_subplot(122)  # right side\n",
    "\n",
    "ascent = misc.ascent() # nice image (512x512)\n",
    "\n",
    "window_average = (20 , 20 ) # how many grid points in each direction to average\n",
    "\n",
    "# Do the window averaging , a window=0 mean no average.\n",
    "result = ndimage.uniform_filter(ascent, size=(20,0))\n",
    "\n",
    "\n",
    "ax1.imshow(ascent)\n",
    "ax2.imshow(result)\n",
    "plt.show()"
   ]
  },
  {
   "cell_type": "code",
   "execution_count": 35,
   "metadata": {},
   "outputs": [],
   "source": [
    "# Now, use the uniform filter to compute the yearly average\n",
    "# temperature(time , lat , lon) \n"
   ]
  },
  {
   "cell_type": "markdown",
   "metadata": {},
   "source": [
    "<a id='License'></a>\n",
    "\n",
    "# Credits\n",
    "\n",
    "Most of the content of this notebook was taken from the Numpy's quickstart tutorial from the official documentation.\n",
    "https://docs.scipy.org/doc/numpy-1.15.1/user/quickstart.html and released under the same license.\n",
    "\n",
    "No copyright is claimed to the modifications made to the Numpy's quickstart tutorial over which this notebook bas based.\n",
    "\n",
    "\n",
    "# License\n",
    "\n",
    "### Numpy's License\n",
    "\n",
    "Copyright © 2005-2018, NumPy Developers.\n",
    "All rights reserved.\n",
    "\n",
    "Redistribution and use in source and binary forms, with or without modification, are permitted provided that the following conditions are met:\n",
    "\n",
    "    Redistributions of source code must retain the above copyright notice, this list of conditions and the following disclaimer.\n",
    "    Redistributions in binary form must reproduce the above copyright notice, this list of conditions and the following disclaimer in the documentation and/or other materials provided with the distribution.\n",
    "    Neither the name of the NumPy Developers nor the names of any contributors may be used to endorse or promote products derived from this software without specific prior written permission.\n",
    "\n",
    "THIS SOFTWARE IS PROVIDED BY THE COPYRIGHT HOLDERS AND CONTRIBUTORS “AS IS” AND ANY EXPRESS OR IMPLIED WARRANTIES, INCLUDING, BUT NOT LIMITED TO, THE IMPLIED WARRANTIES OF MERCHANTABILITY AND FITNESS FOR A PARTICULAR PURPOSE ARE DISCLAIMED. IN NO EVENT SHALL THE COPYRIGHT OWNER OR CONTRIBUTORS BE LIABLE FOR ANY DIRECT, INDIRECT, INCIDENTAL, SPECIAL, EXEMPLARY, OR CONSEQUENTIAL DAMAGES (INCLUDING, BUT NOT LIMITED TO, PROCUREMENT OF SUBSTITUTE GOODS OR SERVICES; LOSS OF USE, DATA, OR PROFITS; OR BUSINESS INTERRUPTION) HOWEVER CAUSED AND ON ANY THEORY OF LIABILITY, WHETHER IN CONTRACT, STRICT LIABILITY, OR TORT (INCLUDING NEGLIGENCE OR OTHERWISE) ARISING IN ANY WAY OUT OF THE USE OF THIS SOFTWARE, EVEN IF ADVISED OF THE POSSIBILITY OF SUCH DAMAGE."
   ]
  },
  {
   "cell_type": "code",
   "execution_count": null,
   "metadata": {},
   "outputs": [],
   "source": []
  }
 ],
 "metadata": {
  "kernelspec": {
   "display_name": "Python 3",
   "language": "python",
   "name": "python3"
  },
  "language_info": {
   "codemirror_mode": {
    "name": "ipython",
    "version": 3
   },
   "file_extension": ".py",
   "mimetype": "text/x-python",
   "name": "python",
   "nbconvert_exporter": "python",
   "pygments_lexer": "ipython3",
   "version": "3.8.2"
  }
 },
 "nbformat": 4,
 "nbformat_minor": 4
}
