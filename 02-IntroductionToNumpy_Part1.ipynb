{
 "cells": [
  {
   "cell_type": "markdown",
   "metadata": {},
   "source": [
    "# Credits\n",
    "\n",
    "Most of the content of this notebook was taken from the Numpy's quickstart tutorial from the official documentation at\n",
    "https://docs.scipy.org/doc/numpy-1.15.1/user/quickstart.html ([Numpy License](http://www.numpy.org/license.html)), and adapted for a 2 hours workshop. \n",
    "\n",
    "The section **Views versus copies in NumPy** was adapted from the [scipy cookbook](https://scipy-cookbook.readthedocs.io/items/ViewsVsCopies.html)."
   ]
  },
  {
   "cell_type": "markdown",
   "metadata": {},
   "source": [
    "# Table Of Contents\n",
    "\n",
    "1. [What is NumPy?](#WhatIsNumpy)\n",
    "1. [The Basics](#TheBasics)\n",
    "1. [Array Creation](#ArrayCreation)\n",
    "1. [Basic Operations](#BasicOperations)\n",
    "1. [Aggregations: min, max, sum, prod, mean, std, var, any, all:](#Aggregations)\n",
    "1. [Indexing, Slicing and Iterating](#Indexing)\n",
    "1. [Views versus copies in NumPy](#Views)\n",
    "1. [License and Credits](#License)\n"
   ]
  },
  {
   "cell_type": "markdown",
   "metadata": {},
   "source": [
    "<a id='WhatIsNumpy'></a>\n",
    "# What is NumPy?\n",
    "\n",
    "**NumPy is the fundamental package for scientific computing in Python**. It is a Python library that provides a multidimensional array object, various derived objects (such as masked arrays and matrices), and many routines for fast operations on arrays, including mathematical and logical operations, shape manipulation, sorting, selecting elements of an array, I/O, discrete Fourier transforms, basic linear algebra, basic statistical operations, random simulations and much more.\n",
    "\n",
    "At the core of the NumPy package, is the **ndarray object**. This encapsulates n-dimensional arrays of homogeneous data types, with many operations being performed in compiled code for performance. There are several important differences between NumPy arrays and the standard Python sequences (like lists or tuples):\n",
    "\n",
    "* **NumPy arrays have a fixed size at creation**, unlike Python lists (which can grow dynamically). Changing the size of an ndarray will create a new array and delete the original.\n",
    "* **The elements in a NumPy array are all required to be of the same data type**, and thus will be the same size in memory. The exception: one can have arrays of (Python, including NumPy) objects, thereby allowing for arrays of different sized elements.\n",
    "\n",
    "NumPy arrays facilitate advanced mathematical and other types of operations on large numbers of data. Typically, such operations are executed more efficiently and with less code than is possible using Python’s built-in sequences.\n",
    "A growing plethora of scientific and mathematical Python-based packages are using NumPy arrays; though these typically support Python-sequence input, they convert such input to NumPy arrays prior to processing, and they often output NumPy arrays. In other words, in order to efficiently use much (perhaps even most) of today’s scientific/mathematical Python-based software, just knowing how to use Python’s built-in sequence types is insufficient - one also needs to know how to use NumPy arrays.\n",
    "\n",
    "\n",
    "## Documentation\n",
    "\n",
    "Numpy has a great online documantation, that covers its basics usage and the description of all the functions implemented.  \n",
    "\n",
    "The latest documentation can be found at https://docs.scipy.org/doc/numpy/\n",
    "\n"
   ]
  },
  {
   "cell_type": "markdown",
   "metadata": {},
   "source": [
    "<a id='TheBasics'></a>\n",
    "# The Basics\n",
    "\n",
    "**NumPy’s main object is the homogeneous multidimensional array**. It is a table of elements (usually numbers), all of the same type, indexed by a tuple of positive integers. In NumPy, dimensions are called axes.\n",
    "\n",
    "For example, the coordinates of a point in 3D space [1, 2, 1] has one axis (1D array). That axis has 3 elements in it, so we say it has a length of 3. In the example pictured below, the array has 2 axes. The first axis has a length of 2, the second axis has a length of 3.\n",
    "\n",
    "```python\n",
    "[[ 1., 0., 0.],\n",
    " [ 0., 1., 2.]]\n",
    "```\n",
    "\n",
    "**NumPy’s array class is called ndarray**. It is also known by the alias array. *Note that numpy.array is not the same as the Standard Python Library class array.array, which only handles one-dimensional arrays and offers less functionality.* The more important attributes of an ndarray object are:\n",
    "\n",
    "* **ndarray.ndim** : the number of axes (dimensions) of the array.\n",
    "* **ndarray.shape** : the dimensions of the array. This is a tuple of integers indicating the size of the array in each dimension. For a matrix with n rows and m columns, shape will be (n,m). The length of the shape tuple is therefore the number of axes, ndim.\n",
    "* **ndarray.size** : the total number of elements of the array. This is equal to the product of the elements of shape.\n",
    "* **ndarray.dtype** : an object describing the type of the elements in the array. One can create or specify dtype’s using standard Python types. Additionally NumPy provides types of its own. numpy.int32, numpy.int16, and numpy.float64 are some examples.\n",
    "* **ndarray.itemsize**: the size in bytes of each element of the array. For example, an array of elements of type float64 has itemsize 8 (=64/8), while one of type complex32 has itemsize 4 (=32/8). It is equivalent to ndarray.dtype.itemsize.\n",
    "* **ndarray.data** : the buffer containing the actual elements of the array. **Normally, we won’t need to use this attribute because we will access the elements in an array using indexing facilities.**\n",
    "\n",
    "\n",
    "## Examples\n"
   ]
  },
  {
   "cell_type": "code",
   "execution_count": 1,
   "metadata": {},
   "outputs": [
    {
     "name": "stdout",
     "output_type": "stream",
     "text": [
      "my_1D_array: [ 0  1  2  3  4  5  6  7  8  9 10 11 12 13 14] \n",
      "\n",
      "my_2D_array:\n",
      " [[ 0  1  2  3  4]\n",
      " [ 5  6  7  8  9]\n",
      " [10 11 12 13 14]] \n",
      "\n",
      "my_2D_array ndim: 2 \n",
      "\n",
      "my_2D_array shape: (3, 5) \n",
      "\n",
      "my_2D_array size: 15 \n",
      "\n",
      "my_2D_array type: <class 'numpy.ndarray'>\n"
     ]
    }
   ],
   "source": [
    "# Import the numpy module \n",
    "import numpy as np # Important!, here the numpy library is imported using the alias \"np\"\n",
    "\n",
    "# Create an 1D array with 15 elements, evenly spaced from 0 to 14.\n",
    "my_1D_array = np.arange(15)\n",
    "\n",
    "\n",
    "# Create an 2D array by reshaping the 1D array to a (3,5) shape.\n",
    "my_2D_array = np.arange(15).reshape(3, 5)\n",
    "\n",
    "print(\"my_1D_array:\", my_1D_array, \"\\n\")\n",
    "print(\"my_2D_array:\\n\", my_2D_array , \"\\n\")\n",
    "\n",
    "# Number of dimensions \n",
    "print(\"my_2D_array ndim:\", my_2D_array.ndim, \"\\n\")\n",
    "\n",
    "# Shape\n",
    "print(\"my_2D_array shape:\", my_2D_array.shape, \"\\n\")\n",
    "\n",
    "# Size (total number of elemnts)\n",
    "print(\"my_2D_array size:\", my_2D_array.size, \"\\n\")\n",
    "\n",
    "print(\"my_2D_array type:\", type(my_2D_array))"
   ]
  },
  {
   "cell_type": "markdown",
   "metadata": {},
   "source": [
    "<a id='ArrayCreation'></a>\n",
    "# Array Creation\n",
    "\n",
    "There are several ways to create arrays.\n",
    "\n",
    "For example, you can create an array from a regular Python list or tuple using the array function. \n",
    "**The elements data type of the resulting array is deduced from the data type of the elements in the sequences.**\n"
   ]
  },
  {
   "cell_type": "code",
   "execution_count": 2,
   "metadata": {},
   "outputs": [
    {
     "name": "stdout",
     "output_type": "stream",
     "text": [
      "my_array:  [2 3 4]\n",
      "my_array dtype:  int64 \n",
      "\n",
      "other_array:  [ 1.2  3.5  5.1]\n",
      "other_array dtype:  float64\n"
     ]
    }
   ],
   "source": [
    "# import numpy as np #imported before!\n",
    "\n",
    "list_of_integers = [2,3,4]\n",
    "\n",
    "my_array = np.array(list_of_integers)\n",
    "\n",
    "print(\"my_array: \", my_array)\n",
    "print(\"my_array dtype: \", my_array.dtype , \"\\n\")\n",
    "\n",
    "\n",
    "list_of_floats = [1.2, 3.5, 5.1]\n",
    "\n",
    "other_array = np.array(list_of_floats)\n",
    "print(\"other_array: \", other_array)\n",
    "print(\"other_array dtype: \", other_array.dtype)\n"
   ]
  },
  {
   "cell_type": "markdown",
   "metadata": {},
   "source": [
    "A frequent error consists in calling array with multiple numeric arguments, rather than providing a single list of numbers as an argument.\n",
    "\n",
    "```python\n",
    "a = np.array(1,2,3,4)    # WRONG\n",
    "a = np.array([1,2,3,4])  # RIGHT\n",
    "```\n",
    "\n",
    "The array function transforms **sequences of sequences** into two-dimensional arrays, **sequences of sequences of sequences into three-dimensional arrays**, and so on.\n"
   ]
  },
  {
   "cell_type": "code",
   "execution_count": 3,
   "metadata": {},
   "outputs": [
    {
     "name": "stdout",
     "output_type": "stream",
     "text": [
      "my_2D_array:\n",
      "\n",
      " array([[ 1.5,  2. ,  3. ],\n",
      "       [ 4. ,  5. ,  6. ]])\n"
     ]
    }
   ],
   "source": [
    "list_of_lists =  [ [1.5,2,3] , [4,5,6] ]\n",
    "my_2D_array = np.array(list_of_lists)\n",
    "\n",
    "print(\"my_2D_array:\\n\\n\", repr(my_2D_array))\n",
    "\n",
    "# What is repr()??\n",
    "# This functions returns the object's representation as an string.\n",
    "# This representation is defined in the object __repr__ method."
   ]
  },
  {
   "cell_type": "markdown",
   "metadata": {},
   "source": [
    "**The type of the array can also be explicitly specified at creation time.**"
   ]
  },
  {
   "cell_type": "code",
   "execution_count": 4,
   "metadata": {},
   "outputs": [
    {
     "data": {
      "text/plain": [
       "array([[1, 2, 3],\n",
       "       [4, 5, 6]])"
      ]
     },
     "execution_count": 4,
     "metadata": {},
     "output_type": "execute_result"
    }
   ],
   "source": [
    "# The type of the array can also be explicitly specified at creation time:\n",
    "my_2D_array_integer = np.array(list_of_lists, dtype='int')\n",
    "my_2D_array_integer"
   ]
  },
  {
   "cell_type": "markdown",
   "metadata": {},
   "source": [
    "### Array initialization\n",
    "Often, the elements of an array are originally unknown, but its size is known. Hence, NumPy offers several functions to create arrays with initial placeholder content. These minimize the necessity of growing arrays, an expensive operation.\n",
    "\n",
    "The function **zeros** creates an array full of zeros, the function **ones** creates an array full of ones, and the function **empty** creates an array whose initial content is random and depends on the state of the memory.\n",
    "Finally, the function **full** creates an array filled with given value. **By default, the dtype of the created array is float64.**"
   ]
  },
  {
   "cell_type": "code",
   "execution_count": 5,
   "metadata": {},
   "outputs": [
    {
     "data": {
      "text/plain": [
       "array([[ 0.,  0.,  0.,  0.],\n",
       "       [ 0.,  0.,  0.,  0.],\n",
       "       [ 0.,  0.,  0.,  0.]])"
      ]
     },
     "execution_count": 5,
     "metadata": {},
     "output_type": "execute_result"
    }
   ],
   "source": [
    "np.zeros( (3,4) )"
   ]
  },
  {
   "cell_type": "code",
   "execution_count": 6,
   "metadata": {},
   "outputs": [
    {
     "data": {
      "text/plain": [
       "array([[[1, 1, 1, 1],\n",
       "        [1, 1, 1, 1],\n",
       "        [1, 1, 1, 1]],\n",
       "\n",
       "       [[1, 1, 1, 1],\n",
       "        [1, 1, 1, 1],\n",
       "        [1, 1, 1, 1]]], dtype=int16)"
      ]
     },
     "execution_count": 6,
     "metadata": {},
     "output_type": "execute_result"
    }
   ],
   "source": [
    "np.ones( (2,3,4), dtype=np.int16 ) # dtype can also be specified"
   ]
  },
  {
   "cell_type": "code",
   "execution_count": 7,
   "metadata": {},
   "outputs": [
    {
     "data": {
      "text/plain": [
       "array([[  2.32973918e-310,   5.30276956e+180,   5.05117710e-038],\n",
       "       [  4.57046482e-071,   3.65882779e-086,   3.36009213e-143]])"
      ]
     },
     "execution_count": 7,
     "metadata": {},
     "output_type": "execute_result"
    }
   ],
   "source": [
    "np.empty( (2,3) )  # uninitialized, output may vary"
   ]
  },
  {
   "cell_type": "code",
   "execution_count": 8,
   "metadata": {},
   "outputs": [
    {
     "data": {
      "text/plain": [
       "array([[10, 10],\n",
       "       [10, 10]])"
      ]
     },
     "execution_count": 8,
     "metadata": {},
     "output_type": "execute_result"
    }
   ],
   "source": [
    "np.full((2, 2), 10)  # Array of 10s"
   ]
  },
  {
   "cell_type": "markdown",
   "metadata": {},
   "source": [
    "### arange function\n",
    "\n",
    "To create sequences of numbers, **NumPy provides a function analogous to range that returns arrays instead of lists.**\n",
    "\n",
    "The calling arguments for this function are: *arange([start, ]stop, [step, ]dtype=None)*, [see the documentation for more details](https://docs.scipy.org/doc/numpy-1.15.1/reference/generated/numpy.arange.html?highlight=arange#numpy.arange).\n",
    "\n",
    "This function can be called in different ways: \n",
    "* **np.arange(stop)** : returns a sequence from 0 to stop-1 , with an step of 1.\n",
    "* **np.arange(start,stop)** : returns a sequence from start to stop-1 , with an step of 1.\n",
    "* **np.arange(start, stop, step)** :  : returns a sequence from start to stop-1 , with an step defined by the user.\n",
    "\n",
    "The dtype keyword can be aso used to specify the desired data type of sequence.\n",
    "\n",
    "For example:"
   ]
  },
  {
   "cell_type": "code",
   "execution_count": 9,
   "metadata": {},
   "outputs": [
    {
     "data": {
      "text/plain": [
       "array([0, 1, 2, 3, 4, 5, 6, 7, 8, 9])"
      ]
     },
     "execution_count": 9,
     "metadata": {},
     "output_type": "execute_result"
    }
   ],
   "source": [
    "np.arange( 10) # equivalent to np.arange(0,10) and np.arange(0,10,1)"
   ]
  },
  {
   "cell_type": "code",
   "execution_count": 10,
   "metadata": {},
   "outputs": [
    {
     "data": {
      "text/plain": [
       "array([10, 15, 20, 25])"
      ]
     },
     "execution_count": 10,
     "metadata": {},
     "output_type": "execute_result"
    }
   ],
   "source": [
    "np.arange( 10, 30, 5 )"
   ]
  },
  {
   "cell_type": "code",
   "execution_count": 11,
   "metadata": {},
   "outputs": [
    {
     "data": {
      "text/plain": [
       "array([ 0. ,  0.3,  0.6,  0.9,  1.2,  1.5,  1.8])"
      ]
     },
     "execution_count": 11,
     "metadata": {},
     "output_type": "execute_result"
    }
   ],
   "source": [
    "np.arange( 0, 2, 0.3 )  "
   ]
  },
  {
   "cell_type": "code",
   "execution_count": 12,
   "metadata": {},
   "outputs": [
    {
     "data": {
      "text/plain": [
       "array([10,  9,  8,  7,  6,  5,  4,  3,  2,  1])"
      ]
     },
     "execution_count": 12,
     "metadata": {},
     "output_type": "execute_result"
    }
   ],
   "source": [
    "np.arange( 10, 0, -1 )  "
   ]
  },
  {
   "cell_type": "markdown",
   "metadata": {},
   "source": [
    "### linspace function\n",
    "\n",
    "When **arange** is used with floating point arguments, it is generally not possible to predict the number of elements obtained, due to the finite floating point precision. For this reason, it is usually better to use the function **linspace** that receives as an argument the **number of elements that we want, instead of the step**.\n",
    "\n",
    "The calling arguments for this function are: \n",
    "*numpy.linspace(start, stop, num=50, endpoint=True, retstep=False, dtype=None)*, \n",
    "[see the documentation for more details](https://docs.scipy.org/doc/numpy/reference/generated/numpy.linspace.html?highlight=linspace#numpy.linspace)."
   ]
  },
  {
   "cell_type": "code",
   "execution_count": 13,
   "metadata": {},
   "outputs": [
    {
     "data": {
      "text/plain": [
       "array([ 0.  ,  0.25,  0.5 ,  0.75,  1.  ,  1.25,  1.5 ,  1.75,  2.  ])"
      ]
     },
     "execution_count": 13,
     "metadata": {},
     "output_type": "execute_result"
    }
   ],
   "source": [
    "np.linspace( 0, 2, 9 )                 # 9 numbers from 0 to 2"
   ]
  },
  {
   "cell_type": "code",
   "execution_count": 14,
   "metadata": {},
   "outputs": [
    {
     "name": "stdout",
     "output_type": "stream",
     "text": [
      "x= [ 0.          1.25663706  2.51327412  3.76991118  5.02654825  6.28318531] \n",
      "\n",
      "sin(x)= [  0.00000000e+00   9.51056516e-01   5.87785252e-01  -5.87785252e-01\n",
      "  -9.51056516e-01  -2.44929360e-16]\n"
     ]
    }
   ],
   "source": [
    "from numpy import pi\n",
    "\n",
    "x = np.linspace( 0, 2*pi, 6 )        # useful to evaluate function at lots of points\n",
    "print(\"x=\",x,\"\\n\")\n",
    "\n",
    "f = np.sin(x)\n",
    "print(\"sin(x)=\",f)"
   ]
  },
  {
   "cell_type": "markdown",
   "metadata": {},
   "source": [
    "<a id='BasicOperations'></a>\n",
    "# Basic Operations\n",
    "\n",
    "Arithmetic operators on arrays apply elementwise. **A new array is created and filled with the result**."
   ]
  },
  {
   "cell_type": "code",
   "execution_count": 15,
   "metadata": {},
   "outputs": [
    {
     "data": {
      "text/plain": [
       "array([20, 29, 38, 47])"
      ]
     },
     "execution_count": 15,
     "metadata": {},
     "output_type": "execute_result"
    }
   ],
   "source": [
    "a = np.array( [20,30,40,50] )\n",
    "b = np.arange( 4 )\n",
    "\n",
    "c = a-b\n",
    "c"
   ]
  },
  {
   "cell_type": "code",
   "execution_count": 16,
   "metadata": {},
   "outputs": [
    {
     "data": {
      "text/plain": [
       "array([0, 1, 4, 9])"
      ]
     },
     "execution_count": 16,
     "metadata": {},
     "output_type": "execute_result"
    }
   ],
   "source": [
    "b**2"
   ]
  },
  {
   "cell_type": "code",
   "execution_count": 17,
   "metadata": {},
   "outputs": [
    {
     "data": {
      "text/plain": [
       "array([ 9.12945251, -9.88031624,  7.4511316 , -2.62374854])"
      ]
     },
     "execution_count": 17,
     "metadata": {},
     "output_type": "execute_result"
    }
   ],
   "source": [
    "10*np.sin(a)"
   ]
  },
  {
   "cell_type": "code",
   "execution_count": 18,
   "metadata": {},
   "outputs": [
    {
     "data": {
      "text/plain": [
       "array([ True,  True, False, False], dtype=bool)"
      ]
     },
     "execution_count": 18,
     "metadata": {},
     "output_type": "execute_result"
    }
   ],
   "source": [
    "a<35"
   ]
  },
  {
   "cell_type": "markdown",
   "metadata": {},
   "source": [
    "Unlike in many matrix languages, **the product operator * operates elementwise in NumPy arrays**.\n",
    "\n",
    "**The matrix product can be performed using the @ operator (in python >=3.5) or the dot function or method:**"
   ]
  },
  {
   "cell_type": "code",
   "execution_count": 19,
   "metadata": {},
   "outputs": [
    {
     "data": {
      "text/plain": [
       "array([[2, 0],\n",
       "       [0, 4]])"
      ]
     },
     "execution_count": 19,
     "metadata": {},
     "output_type": "execute_result"
    }
   ],
   "source": [
    "A = np.array( [[1,1], [0,1]] )\n",
    "B = np.array( [[2,0], [3,4]] )\n",
    "\n",
    "A * B # elementwise product"
   ]
  },
  {
   "cell_type": "code",
   "execution_count": 20,
   "metadata": {},
   "outputs": [
    {
     "data": {
      "text/plain": [
       "array([[5, 4],\n",
       "       [3, 4]])"
      ]
     },
     "execution_count": 20,
     "metadata": {},
     "output_type": "execute_result"
    }
   ],
   "source": [
    "A @ B # matrix product"
   ]
  },
  {
   "cell_type": "code",
   "execution_count": 21,
   "metadata": {},
   "outputs": [
    {
     "data": {
      "text/plain": [
       "array([[5, 4],\n",
       "       [3, 4]])"
      ]
     },
     "execution_count": 21,
     "metadata": {},
     "output_type": "execute_result"
    }
   ],
   "source": [
    "A.dot(B) # another matrix product"
   ]
  },
  {
   "cell_type": "markdown",
   "metadata": {},
   "source": [
    "Some operations, such as += and *=, **act in place to modify an existing array rather than create a new one.**"
   ]
  },
  {
   "cell_type": "code",
   "execution_count": 22,
   "metadata": {},
   "outputs": [
    {
     "data": {
      "text/plain": [
       "array([[3, 3, 3],\n",
       "       [3, 3, 3]])"
      ]
     },
     "execution_count": 22,
     "metadata": {},
     "output_type": "execute_result"
    }
   ],
   "source": [
    "a = np.ones((2,3), dtype=int)\n",
    "a *= 3\n",
    "a"
   ]
  },
  {
   "cell_type": "code",
   "execution_count": 23,
   "metadata": {},
   "outputs": [
    {
     "data": {
      "text/plain": [
       "array([[ 3.13710734,  3.87017576,  3.31627414],\n",
       "       [ 3.58724865,  3.85268502,  3.60743477]])"
      ]
     },
     "execution_count": 23,
     "metadata": {},
     "output_type": "execute_result"
    }
   ],
   "source": [
    "b = np.random.random((2,3))\n",
    "b += a\n",
    "b"
   ]
  },
  {
   "cell_type": "code",
   "execution_count": 24,
   "metadata": {},
   "outputs": [
    {
     "ename": "TypeError",
     "evalue": "Cannot cast ufunc add output from dtype('float64') to dtype('int64') with casting rule 'same_kind'",
     "output_type": "error",
     "traceback": [
      "\u001b[0;31m---------------------------------------------------------------------------\u001b[0m",
      "\u001b[0;31mTypeError\u001b[0m                                 Traceback (most recent call last)",
      "\u001b[0;32m<ipython-input-24-8716e7588737>\u001b[0m in \u001b[0;36m<module>\u001b[0;34m()\u001b[0m\n\u001b[0;32m----> 1\u001b[0;31m \u001b[0ma\u001b[0m \u001b[0;34m+=\u001b[0m \u001b[0mb\u001b[0m \u001b[0;31m# b is not automatically converted to integer type!!!\u001b[0m\u001b[0;34m\u001b[0m\u001b[0m\n\u001b[0m",
      "\u001b[0;31mTypeError\u001b[0m: Cannot cast ufunc add output from dtype('float64') to dtype('int64') with casting rule 'same_kind'"
     ]
    }
   ],
   "source": [
    "a += b # b is not automatically converted to integer type!!!"
   ]
  },
  {
   "cell_type": "markdown",
   "metadata": {},
   "source": [
    "When operating with arrays of different types, **the type of the resulting array corresponds to the more general or precise one (a behavior known as upcasting)**."
   ]
  },
  {
   "cell_type": "code",
   "execution_count": 25,
   "metadata": {},
   "outputs": [
    {
     "data": {
      "text/plain": [
       "dtype('float64')"
      ]
     },
     "execution_count": 25,
     "metadata": {},
     "output_type": "execute_result"
    }
   ],
   "source": [
    "a = np.ones(3, dtype=np.int32)\n",
    "b = np.linspace(0,pi,3)\n",
    "b.dtype.name\n",
    "\n",
    "c = a+b\n",
    "c.dtype"
   ]
  },
  {
   "cell_type": "markdown",
   "metadata": {},
   "source": [
    "<a id='Aggregations'></a>\n",
    "# Aggregations: min, max, sum, prod, mean, std, var, any, all\n",
    "\n",
    "We commonly need to compute statistics on a large amount of data. NumPy has fast built-in aggregation functions to compute the following statistics:\n",
    "\n",
    "* min : Return the minimum along a given axis\n",
    "* argmin : Returns the indices of the minimum values along an axis\n",
    "* max : Return the maximum along a given axis\n",
    "* argmax : Returns the indices of the maximum values along an axis\n",
    "* sum : Return the sum of the array elements over the given axis.\n",
    "* cumsum : Return the cumulative sum of the array elements over the given axis.\n",
    "* prod : Return the product of the array elements over the given axis.\n",
    "* mean : Returns the average of the array elements along given axis.\n",
    "* std : Returns the standard deviation of the array elements along given axis.\n",
    "* var : Returns the variance deviation of the array elements along given axis.\n",
    "* any : Test whether any array element along a given axis evaluates to True.\n",
    "* all : Test whether all array elements along a given axis evaluate to True.\n",
    "\n",
    "Many unary operations, such as computing the sum of all the elements in the array, are also implemented as methods of the ndarray class."
   ]
  },
  {
   "cell_type": "code",
   "execution_count": 26,
   "metadata": {},
   "outputs": [
    {
     "data": {
      "text/plain": [
       "array([[ 0,  1,  2],\n",
       "       [ 3,  4,  5],\n",
       "       [ 6,  7,  8],\n",
       "       [ 9, 10, 11]])"
      ]
     },
     "execution_count": 26,
     "metadata": {},
     "output_type": "execute_result"
    }
   ],
   "source": [
    "my_2d_array = np.arange(4*3).reshape((4,3))\n",
    "my_2d_array"
   ]
  },
  {
   "cell_type": "code",
   "execution_count": 27,
   "metadata": {},
   "outputs": [
    {
     "data": {
      "text/plain": [
       "66"
      ]
     },
     "execution_count": 27,
     "metadata": {},
     "output_type": "execute_result"
    }
   ],
   "source": [
    "my_2d_array.sum() # equivalent to np.sum(my_2d_array)"
   ]
  },
  {
   "cell_type": "code",
   "execution_count": 28,
   "metadata": {},
   "outputs": [
    {
     "data": {
      "text/plain": [
       "0"
      ]
     },
     "execution_count": 28,
     "metadata": {},
     "output_type": "execute_result"
    }
   ],
   "source": [
    "my_2d_array.min() # equivalent to np.min(my_2d_array)"
   ]
  },
  {
   "cell_type": "code",
   "execution_count": 29,
   "metadata": {},
   "outputs": [
    {
     "data": {
      "text/plain": [
       "11"
      ]
     },
     "execution_count": 29,
     "metadata": {},
     "output_type": "execute_result"
    }
   ],
   "source": [
    "my_2d_array.max() # equivalent to np.max(my_2d_array)"
   ]
  },
  {
   "cell_type": "code",
   "execution_count": 30,
   "metadata": {},
   "outputs": [
    {
     "data": {
      "text/plain": [
       "array([18, 22, 26])"
      ]
     },
     "execution_count": 30,
     "metadata": {},
     "output_type": "execute_result"
    }
   ],
   "source": [
    "my_2d_array.sum(axis=0) # equivalent to np.sum(my_2d_array, axis=0)\n",
    "# If the original shape of the my_2d_array is (4,3), the first dimension is removed after the sumation!\n",
    "# Hence, the shape of the resulting array is (3,)"
   ]
  },
  {
   "cell_type": "code",
   "execution_count": 31,
   "metadata": {},
   "outputs": [
    {
     "data": {
      "text/plain": [
       "array([5, 5, 5])"
      ]
     },
     "execution_count": 31,
     "metadata": {},
     "output_type": "execute_result"
    }
   ],
   "source": [
    "random_2D_array = np.random.random((6,3))\n",
    "min_indexes = random_2D_array.argmin(axis=0) # equivalent to np.argmin(my_2d_array, axis=0)\n",
    "min_indexes"
   ]
  },
  {
   "cell_type": "markdown",
   "metadata": {},
   "source": [
    "<a id='Indexing'></a>\n",
    "# Indexing, Slicing and Iterating"
   ]
  },
  {
   "cell_type": "code",
   "execution_count": 32,
   "metadata": {},
   "outputs": [
    {
     "ename": "SyntaxError",
     "evalue": "invalid syntax (<ipython-input-32-86115fec6fc0>, line 1)",
     "output_type": "error",
     "traceback": [
      "\u001b[0;36m  File \u001b[0;32m\"<ipython-input-32-86115fec6fc0>\"\u001b[0;36m, line \u001b[0;32m1\u001b[0m\n\u001b[0;31m    One-dimensional arrays can be indexed sliced and iterated over, much like lists and other Python sequences.\u001b[0m\n\u001b[0m                         ^\u001b[0m\n\u001b[0;31mSyntaxError\u001b[0m\u001b[0;31m:\u001b[0m invalid syntax\n"
     ]
    }
   ],
   "source": [
    "One-dimensional arrays can be indexed sliced and iterated over, much like lists and other Python sequences."
   ]
  },
  {
   "cell_type": "code",
   "execution_count": 33,
   "metadata": {},
   "outputs": [
    {
     "data": {
      "text/plain": [
       "array([  0,   1,   8,  27,  64, 125, 216, 343, 512, 729])"
      ]
     },
     "execution_count": 33,
     "metadata": {},
     "output_type": "execute_result"
    }
   ],
   "source": [
    "my_1D_array = np.arange(10)**3\n",
    "my_1D_array"
   ]
  },
  {
   "cell_type": "code",
   "execution_count": 34,
   "metadata": {},
   "outputs": [
    {
     "data": {
      "text/plain": [
       "8"
      ]
     },
     "execution_count": 34,
     "metadata": {},
     "output_type": "execute_result"
    }
   ],
   "source": [
    "my_1D_array[2] # Access the 3rd element"
   ]
  },
  {
   "cell_type": "code",
   "execution_count": 35,
   "metadata": {},
   "outputs": [
    {
     "data": {
      "text/plain": [
       "array([ 8, 27, 64])"
      ]
     },
     "execution_count": 35,
     "metadata": {},
     "output_type": "execute_result"
    }
   ],
   "source": [
    "my_1D_array[2:5] # Return a 1D view of the array from the 2nd to the 4th element."
   ]
  },
  {
   "cell_type": "code",
   "execution_count": 36,
   "metadata": {},
   "outputs": [
    {
     "data": {
      "text/plain": [
       "array([-1000,     1, -1000,    27, -1000,   125,   216,   343,   512,   729])"
      ]
     },
     "execution_count": 36,
     "metadata": {},
     "output_type": "execute_result"
    }
   ],
   "source": [
    "# equivalent to a[0:6:2] = -1000; from start to position 6, exclusive, set every 2nd element to -1000\n",
    "my_1D_array[:6:2] = -1000  \n",
    "my_1D_array"
   ]
  },
  {
   "cell_type": "code",
   "execution_count": 37,
   "metadata": {},
   "outputs": [
    {
     "data": {
      "text/plain": [
       "array([  729,   512,   343,   216,   125, -1000,    27, -1000,     1, -1000])"
      ]
     },
     "execution_count": 37,
     "metadata": {},
     "output_type": "execute_result"
    }
   ],
   "source": [
    "my_1D_array[ : :-1]   # reversed"
   ]
  },
  {
   "cell_type": "code",
   "execution_count": 38,
   "metadata": {},
   "outputs": [
    {
     "name": "stdout",
     "output_type": "stream",
     "text": [
      "-1000\n",
      "1\n",
      "-1000\n",
      "27\n",
      "-1000\n",
      "125\n",
      "216\n",
      "343\n",
      "512\n",
      "729\n"
     ]
    }
   ],
   "source": [
    "# Iterate over the array elements. Slow!\n",
    "for i in my_1D_array:\n",
    "    print(i)"
   ]
  },
  {
   "cell_type": "markdown",
   "metadata": {},
   "source": [
    "<a id='Views'></a>\n",
    "# Views versus copies in NumPy\n",
    "\n",
    "(Taken from the [scipy cookbook](https://scipy-cookbook.readthedocs.io/items/ViewsVsCopies.html), [License](https://github.com/scipy/scipy-cookbook/blob/master/LICENSE.txt) ).\n",
    "\n",
    "## What is a view of a NumPy array?\n",
    "\n",
    "As its name is saying, it is simply another way of viewing the data of the array. Technically, that means that the data of both objects is shared. You can create views by selecting a slice of the original array, or also by changing the dtype (or a combination of both). These different kinds of views are described below.\n",
    "\n",
    "Different array objects can share the same data. The view method creates a new array object that looks at the same data.\n",
    "\n",
    "# Slice views\n",
    "\n",
    "This is probably the most common source of view creations in NumPy. When we slice a array, numpy return a new array that *view* the same part in memory where the original array stores the data! For example:"
   ]
  },
  {
   "cell_type": "code",
   "execution_count": 39,
   "metadata": {},
   "outputs": [
    {
     "name": "stdout",
     "output_type": "stream",
     "text": [
      "my_1D_array= [0 1 2 3 4 5 6 7 8 9]\n",
      "view_1= [0 1 2 3 4]\n",
      "view_2= [5 6 7 8 9]\n"
     ]
    }
   ],
   "source": [
    "my_1D_array = np.arange(10)\n",
    "print(\"my_1D_array=\",my_1D_array)\n",
    "\n",
    "view_1 = my_1D_array[0:5]\n",
    "\n",
    "print(\"view_1=\",view_1)\n",
    "view_2 = my_1D_array[5:]\n",
    "print(\"view_2=\",view_2)"
   ]
  },
  {
   "cell_type": "code",
   "execution_count": 40,
   "metadata": {},
   "outputs": [
    {
     "name": "stdout",
     "output_type": "stream",
     "text": [
      "my_1D_array= [-10   1   2   3   4   5   6   7   8   9]\n",
      "view_1= [-10   1   2   3   4]\n",
      "view_2= [5 6 7 8 9]\n"
     ]
    }
   ],
   "source": [
    "# Now, let's modify the first element of my_1D_array.\n",
    "my_1D_array[0]=-10\n",
    "print(\"my_1D_array=\",my_1D_array)\n",
    "print(\"view_1=\",view_1)  # Here we will see the change!!\n",
    "print(\"view_2=\",view_2)\n"
   ]
  },
  {
   "cell_type": "code",
   "execution_count": 41,
   "metadata": {},
   "outputs": [
    {
     "name": "stdout",
     "output_type": "stream",
     "text": [
      "my_1D_array= [0 1 2 3 4 5 6 7 8 9]\n",
      "view_1= [0 1 2 3 4]\n",
      "view_2= [5 6 7 8 9]\n"
     ]
    }
   ],
   "source": [
    "# Now, let's modify the first element of view_1 back to 0.\n",
    "view_1[0]=0\n",
    "print(\"my_1D_array=\",my_1D_array)  # Here we will see that the first elment also change!\n",
    "print(\"view_1=\",view_1) \n",
    "print(\"view_2=\",view_2)\n"
   ]
  },
  {
   "cell_type": "code",
   "execution_count": 42,
   "metadata": {},
   "outputs": [
    {
     "name": "stdout",
     "output_type": "stream",
     "text": [
      "my_1D_array= [0 1 2 3 4 5 6 7 8 9]\n",
      "view_1= [0 1 2 3 4]\n",
      "copy_of_array= [-10   1   2   3   4]\n"
     ]
    }
   ],
   "source": [
    "# If we want to return a copy of the data...\n",
    "copy_of_array = my_1D_array[0:5].copy()\n",
    "\n",
    "copy_of_array[0]=-10\n",
    "\n",
    "print(\"my_1D_array=\",my_1D_array)  # Here we will see that the first elment also change!\n",
    "print(\"view_1=\",view_1) \n",
    "print(\"copy_of_array=\",copy_of_array)\n"
   ]
  },
  {
   "cell_type": "markdown",
   "metadata": {},
   "source": [
    "# Advanced Indexing\n",
    "\n",
    "## Integer array indexing\n",
    "\n",
    "Integer array indexing allows selection of arbitrary items in the array based on their N-dimensional index. Each integer array represents a number of indexes into that dimension.\n"
   ]
  },
  {
   "cell_type": "code",
   "execution_count": 43,
   "metadata": {},
   "outputs": [
    {
     "name": "stdout",
     "output_type": "stream",
     "text": [
      "x= [0 1 2 3 4]\n",
      "resorted_x= [4 3 2 1 0]\n",
      "only_even_numbers= [4 3 2 1 0]\n"
     ]
    }
   ],
   "source": [
    "# 1D example\n",
    "x = np.arange(5)\n",
    "print(\"x=\",x)\n",
    "resorted_x = x[[4,3,2,1,0]]\n",
    "print(\"resorted_x=\",resorted_x)\n",
    "\n",
    "only_even_numbers = x[[0,2,4]]\n",
    "print(\"only_even_numbers=\",resorted_x)\n",
    "\n",
    "    "
   ]
  },
  {
   "cell_type": "markdown",
   "metadata": {},
   "source": [
    "To select arbitrary elements from a 2D array, we can use a sequence of 2 sequences.\n",
    "\n",
    "From each row, a specific element should be selected. The row index is just [0, 1, 2] and the column index specifies \n",
    "the element to choose for the corresponding row, here [0, 1, 0]. \n",
    "Using both together the task can be solved using advanced indexing:"
   ]
  },
  {
   "cell_type": "code",
   "execution_count": 44,
   "metadata": {},
   "outputs": [
    {
     "name": "stdout",
     "output_type": "stream",
     "text": [
      "my_2d_array [[1 2]\n",
      " [3 4]\n",
      " [5 6]]\n",
      "my_2d_array.shape (3, 2)\n",
      "My selection: [1 4 5]\n"
     ]
    }
   ],
   "source": [
    "my_2d_array = np.array([[1, 2], [3, 4], [5, 6]])\n",
    "print(\"my_2d_array\",my_2d_array)\n",
    "print(\"my_2d_array.shape\",my_2d_array.shape)\n",
    "\n",
    "print(\"My selection:\",my_2d_array[[0, 1, 2], [0, 1, 0]])\n"
   ]
  },
  {
   "cell_type": "markdown",
   "metadata": {},
   "source": [
    "## Combining advanced and basic indexing"
   ]
  },
  {
   "cell_type": "markdown",
   "metadata": {},
   "source": [
    "When there is at least one slice (:), ellipsis (...) or np.newaxis in the index (or the array has more dimensions than there are advanced indexes), then the behaviour can be more complicated. It is like concatenating the indexing result for each advanced index element\n",
    "\n"
   ]
  },
  {
   "cell_type": "code",
   "execution_count": 45,
   "metadata": {},
   "outputs": [
    {
     "name": "stdout",
     "output_type": "stream",
     "text": [
      "my_2d_array [[1 2]\n",
      " [3 4]\n",
      " [5 6]]\n",
      "My selection: [[1 2]\n",
      " [5 6]]\n"
     ]
    }
   ],
   "source": [
    "print(\"my_2d_array\",my_2d_array)\n",
    "print(\"My selection:\",my_2d_array[[0, 2],:])"
   ]
  },
  {
   "cell_type": "markdown",
   "metadata": {},
   "source": [
    "## Boolean array indexing\n",
    "\n",
    "This advanced indexing occurs when indexing element is an array object of Boolean type, such as may be returned from comparison operators.\n",
    "\n",
    "If obj.ndim == x.ndim, x[bool_array] returns a 1-dimensional array filled with the elements of x corresponding to the True values of bool_array.\n",
    "If obj has True values at entries that are outside of the bounds of x (different shape), then an index error will be raised. If bool_array is smaller than x it is identical to filling it with False.\n",
    "\n",
    "**Better if you use the bools of the same shape!**\n",
    "\n",
    "### Example\n",
    "\n",
    "A common use case for this is filtering for desired element values. For example one may wish to select all entries from an array which are not NaN:\n"
   ]
  },
  {
   "cell_type": "code",
   "execution_count": 46,
   "metadata": {},
   "outputs": [
    {
     "name": "stdout",
     "output_type": "stream",
     "text": [
      "x [[  1.   2.]\n",
      " [ nan   3.]\n",
      " [ nan  nan]] \n",
      "\n",
      "x.shape= (3, 2)\n"
     ]
    },
    {
     "data": {
      "text/plain": [
       "array([ 1.,  2.,  3.])"
      ]
     },
     "execution_count": 46,
     "metadata": {},
     "output_type": "execute_result"
    }
   ],
   "source": [
    "x = np.array([[1., 2.], [np.nan, 3.], [np.nan, np.nan]])\n",
    "print(\"x\",x, '\\n')\n",
    "print(\"x.shape=\",x.shape)\n",
    "\n",
    "x[~np.isnan(x)]"
   ]
  },
  {
   "cell_type": "markdown",
   "metadata": {},
   "source": [
    "Or wish to add a constant to all negative elements:"
   ]
  },
  {
   "cell_type": "code",
   "execution_count": 47,
   "metadata": {},
   "outputs": [
    {
     "data": {
      "text/plain": [
       "array([  1.,  19.,  18.,   3.])"
      ]
     },
     "execution_count": 47,
     "metadata": {},
     "output_type": "execute_result"
    }
   ],
   "source": [
    "x = np.array([1., -1., -2., 3])\n",
    "x[x < 0] += 20\n",
    "x"
   ]
  },
  {
   "cell_type": "markdown",
   "metadata": {},
   "source": [
    "# Exercises\n",
    "\n",
    "## 1) The dataset include the grades of 200 students for 4 different exams (a 2D array).\n",
    "### a) Compute the mean, max, min, and the std for each of the exams."
   ]
  },
  {
   "cell_type": "code",
   "execution_count": 48,
   "metadata": {},
   "outputs": [],
   "source": [
    "# Lets create random grades first\n",
    "np.random.seed(0) # Lets specify the seed so everyone use the same values.\n",
    "\n",
    "mean_grades_per_exam = 50 + np.random.rand(4)*50\n",
    "standard_deviations_per_exam  = 10 + np.random.rand(4)\n",
    "\n",
    "grades = np.random.randn(200,4)\n",
    "\n",
    "grades = mean_grades_per_exam[np.newaxis,:] + grades*standard_deviations_per_exam[np.newaxis,:]\n",
    "\n",
    "grades = np.around(grades, decimals=1) # Keep only one decimal point\n",
    "\n",
    "grades[grades<0]=0\n",
    "grades[grades>100]=100\n",
    "\n",
    "\n",
    "# Now that we have the grades created, you can compute the statistics per exam.\n",
    "# The mean, max, min, and the std.\n"
   ]
  },
  {
   "cell_type": "markdown",
   "metadata": {},
   "source": [
    "### b) Count how many students fail each exam (grades lower than 60%)."
   ]
  },
  {
   "cell_type": "code",
   "execution_count": null,
   "metadata": {},
   "outputs": [],
   "source": []
  },
  {
   "cell_type": "markdown",
   "metadata": {},
   "source": [
    "## 2) The dataset contains the grades (from 0 to 100) of the students stored in a dictionary (the student id is the dictionary key). \n",
    "### a) Print the total number of students"
   ]
  },
  {
   "cell_type": "code",
   "execution_count": 49,
   "metadata": {},
   "outputs": [
    {
     "name": "stdout",
     "output_type": "stream",
     "text": [
      "Loading dictionaries from https://raw.githubusercontent.com/aperezhortal/PythonWorkshopsOnDataScience/master/datasets/student_grades/\n",
      "grades_by_id loaded\n"
     ]
    }
   ],
   "source": [
    "# Lets first load the data from the repository\n",
    "\n",
    "# Snippet adapted from:\n",
    "# https://stackoverflow.com/questions/12965203/how-to-get-json-from-webpage-into-python-script\n",
    "\n",
    "#The urllib.request module defines functions and classes which help in opening URLs (mostly HTTP).\n",
    "import urllib.request\n",
    "\n",
    "import json #json file parser\n",
    "\n",
    "# We will only use the urljoin function that construct a full (“absolute”) URL \n",
    "# by combining a “base URL” (base) with another URL (url).\n",
    "\n",
    "repository_url=\"https://raw.githubusercontent.com/aperezhortal/PythonWorkshopsOnDataScience/master/datasets/student_grades/\"\n",
    "   \n",
    "# For testing: repository_url=\"http://127.0.0.1:8000/\"\n",
    "\n",
    "print(\"Loading dictionaries from \"+repository_url)\n",
    "dict_url = repository_url +  \"grades_by_id.json\"\n",
    "    \n",
    "with urllib.request.urlopen(dict_url) as data_url:        \n",
    "    grades_by_id = json.loads(data_url.read().decode())\n",
    "print(\"grades_by_id loaded\")\n",
    "    \n",
    "# Now, write your code here:\n",
    "# The following dict is available with the data\n",
    "#   grades_by_id\n",
    "\n",
    "\n"
   ]
  },
  {
   "cell_type": "markdown",
   "metadata": {},
   "source": [
    "### b) Store the students grades in an array."
   ]
  },
  {
   "cell_type": "code",
   "execution_count": null,
   "metadata": {},
   "outputs": [],
   "source": []
  },
  {
   "cell_type": "markdown",
   "metadata": {},
   "source": [
    "### c) Print the the average grades."
   ]
  },
  {
   "cell_type": "markdown",
   "metadata": {},
   "source": [
    "## 3) A not numpy exercise :P \n",
    "## The students's names, ids, age, and grades are distributed in the different dictionaries. \n",
    "### a) Print the total number of students\n",
    "### b) Print the total number of students for each alphabetical letter.\n",
    "### c) Store the students grades in a dictionaries that use the **student full name** as key.\n",
    "### d) Print the the average grades by age.\n",
    "\n",
    "The following dictionaries with data are available:\n",
    "* **id_by_name**: A dictionary that store each student id using the names as keys.\n",
    "* **ages_by_name**: A dictionary that store each student id using the names as keys.\n",
    "* **grades_by_id**: A dictionary that store each student id using the names as keys.\n",
    "\n",
    "The alphabet is stored in the module ascii_lowercase in the **string** package.\n",
    "https://docs.python.org/3/library/string.html"
   ]
  },
  {
   "cell_type": "code",
   "execution_count": 50,
   "metadata": {},
   "outputs": [
    {
     "name": "stdout",
     "output_type": "stream",
     "text": [
      "Loading dictionaries from https://raw.githubusercontent.com/aperezhortal/PythonWorkshopsOnDataScience/master/datasets/student_grades/\n",
      "* id_by_name loaded\n",
      "* ages_by_name loaded\n",
      "* grades_by_id loaded\n"
     ]
    }
   ],
   "source": [
    "# Lets first load the data from the repository\n",
    "\n",
    "# Snippet adapted from:\n",
    "# https://stackoverflow.com/questions/12965203/how-to-get-json-from-webpage-into-python-script\n",
    "\n",
    "#The urllib.request module defines functions and classes which help in opening URLs (mostly HTTP).\n",
    "import urllib.request\n",
    "\n",
    "import json #json file parser\n",
    "\n",
    "# We will only use the urljoin function that construct a full (“absolute”) URL \n",
    "# by combining a “base URL” (base) with another URL (url).\n",
    "\n",
    "my_dictionaries_names = [ \"id_by_name\", \"ages_by_name\", \"grades_by_id\"]\n",
    "repository_url=\"https://raw.githubusercontent.com/aperezhortal/PythonWorkshopsOnDataScience/master/datasets/student_grades/\"\n",
    "\n",
    "    \n",
    "# For testing: repository_url=\"http://127.0.0.1:8000/\"\n",
    "\n",
    "print(\"Loading dictionaries from \"+repository_url)\n",
    "for my_dict_name in my_dictionaries_names:    \n",
    "    \n",
    "    dict_url = repository_url + my_dict_name + \".json\"\n",
    "    \n",
    "    with urllib.request.urlopen(dict_url) as data_url:\n",
    "        \n",
    "        my_dict_instance = json.loads(data_url.read().decode())\n",
    "        exec(my_dict_name+\"=my_dict_instance\")\n",
    "        print(\"* \" + my_dict_name + \" loaded\")\n",
    "    \n",
    "# Now, write your code here:\n",
    "# The following dicts are available:\n",
    "#   id_by_name\n",
    "#   ages_by_name\n",
    "#   grades_by_id\n"
   ]
  },
  {
   "cell_type": "markdown",
   "metadata": {},
   "source": [
    "<a id='License'></a>\n",
    "# License\n",
    "\n",
    "\n",
    "This notebook it is released under the same license as NumPy, licensed under the BSD license, enabling reuse with few restrictions.\n",
    "\n",
    "[Numpy License](http://www.numpy.org/license.html)\n",
    "\n",
    "[scipy cookbook License](https://github.com/scipy/scipy-cookbook/blob/master/LICENSE.txt)\n",
    "\n",
    "# Credits\n",
    "\n",
    "Most of the content of this notebook was taken from the Numpy's quickstart tutorial from the official documentation.\n",
    "https://docs.scipy.org/doc/numpy-1.15.1/user/quickstart.html \n",
    "\n",
    "The section **Views versus copies in NumPy** was adapted from the [scipy cookbook](https://scipy-cookbook.readthedocs.io/items/ViewsVsCopies.html).\n"
   ]
  }
 ],
 "metadata": {
  "kernelspec": {
   "display_name": "Python 3",
   "language": "python",
   "name": "python3"
  },
  "language_info": {
   "codemirror_mode": {
    "name": "ipython",
    "version": 3
   },
   "file_extension": ".py",
   "mimetype": "text/x-python",
   "name": "python",
   "nbconvert_exporter": "python",
   "pygments_lexer": "ipython3",
   "version": "3.8.2"
  }
 },
 "nbformat": 4,
 "nbformat_minor": 4
}
