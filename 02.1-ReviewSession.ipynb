{
 "cells": [
  {
   "cell_type": "markdown",
   "metadata": {},
   "source": [
    "# Python basics and numpy review\n",
    "================================\n",
    "\n",
    "\n",
    "# Semantics\n",
    "\n",
    "Indentation: Whitespace Matters!\n",
    "\n",
    "Next, we get to the main block of code:\n",
    "\n",
    "for i in range(10):\n",
    "    if i < midpoint:\n",
    "        lower.append(i)\n",
    "    else:\n",
    "        upper.append(i)\n",
    "\n",
    "        \n",
    "## Whitespace *Within* Lines Does Not Matter\n",
    "While the mantra of *meaningful whitespace* holds true for whitespace *before* lines (which indicate a code block), white space *within* lines of Python code does not matter.\n",
    "\n",
    "\n",
    "## Everything Is an Object!\n",
    "\n",
    "Python is an object-oriented programming language, and in Python everything is an object.\n",
    "\n",
    "* **What is an object?**: An object is an entity that contains data along with associated metadata and/or functionality. Python is an object-oriented programming language, and in Python everything is an **object**, which means every **entity** has some **metadata (called attributes)** and **associated functionality (called methods)**. These attributes and methods are accessed via the dot syntax.\n",
    "\n",
    "## Python Variables Are Pointers\n",
    "\n",
    "* **What is a pointer?** A pointer is an object or variable that stores the memory address of another value located in the memory. A pointer references a location in memory where the variable of the object is stored.\n",
    " \n",
    "Assigning variables in Python is as easy as putting a variable name to the left of the equals (``=``) sign:\n",
    "\n",
    "```python\n",
    "# assign 4 to the variable x\n",
    "x = 4\n",
    "```\n",
    "\n",
    "This may seem straightforward, but if you have the wrong mental model of what this operation does, the way Python works may seem confusing.\n",
    "We'll briefly dig into that here.\n",
    "\n",
    "In many programming languages, variables are best thought of as containers or buckets into which you put data.\n",
    "So in C, for example, when you write\n",
    "\n",
    "```C\n",
    "// C code\n",
    "int x = 4;\n",
    "```\n",
    "\n",
    "you are essentially defining a \"memory bucket\" named ``x``, and putting the value ``4`` into it.\n",
    "**In Python, by contrast, variables are best thought of not as containers but as pointers.**\n",
    "So in Python, when you write\n",
    "\n",
    "```python\n",
    "x = 4\n",
    "```\n",
    "\n",
    "you are essentially defining a *pointer* named ``x`` that points to some other bucket containing the value ``4``.\n",
    "Note one consequence of this: because Python variables just point to various objects, there is no need to \"declare\" the variable, or even require the variable to always point to information of the same type!\n",
    "\n",
    "\n",
    "        \n",
    "# Built-In Data Structures\n",
    "\n",
    "We have seen Python's simple types: ``int``, ``float``, ``complex``, ``bool``, ``str``, and so on.\n",
    "Python also has several built-in compound types, which act as containers for other types.\n",
    "These compound types are:\n",
    "\n",
    "| Type Name | Example                   |Description                            |\n",
    "|-----------|---------------------------|---------------------------------------|\n",
    "| ``list``  | ``[1, 2, 3]``             | Ordered collection                    |\n",
    "| ``tuple`` | ``(1, 2, 3)``             | Immutable ordered collection          |\n",
    "| ``dict``  | ``{'a':1, 'b':2, 'c':3}`` | Unordered (key,value) mapping         |\n",
    "| ``set``   | ``{1, 2, 3}``             | Unordered collection of unique values |\n",
    "\n",
    "As you can see, round, square, and curly brackets have distinct meanings when it comes to the type of collection produced.\n",
    "\n",
    "\n",
    "## Dictionaries\n",
    "Dictionaries are extremely flexible mappings of keys to values, and form the basis of much of Python's internal implementation.\n",
    "They can be created via a comma-separated list of ``key:value`` pairs within curly braces:\n",
    "\n",
    "```\n",
    "numbers = {'one':1, 'two':2, 'three':3}\n",
    "\n",
    "# Access a value via the key\n",
    "numbers['two']\n",
    "\n",
    "# Set a new key:value pair\n",
    "numbers['ninety'] = 90\n",
    "```\n",
    "\n",
    "\n",
    "\n",
    "## Arithmetic Operations\n",
    "Python implements seven basic binary arithmetic operators, two of which can double as unary operators.\n",
    "They are summarized in the following table:\n",
    "\n",
    "| Operator     | Name           | Description                                            |\n",
    "|--------------|----------------|--------------------------------------------------------|\n",
    "| ``a + b``    | Addition       | Sum of ``a`` and ``b``                                 |\n",
    "| ``a - b``    | Subtraction    | Difference of ``a`` and ``b``                          |\n",
    "| ``a * b``    | Multiplication | Product of ``a`` and ``b``                             |\n",
    "| ``a / b``    | True division  | Quotient of ``a`` and ``b``                            |\n",
    "| ``a // b``   | Floor division | Quotient of ``a`` and ``b``, removing fractional parts |\n",
    "| ``a % b``    | Modulus        | Integer remainder after division of ``a`` by ``b``     |\n",
    "| ``a ** b``   | Exponentiation | ``a`` raised to the power of ``b``                     |\n",
    "| ``-a``       | Negation       | The negative of ``a``                                  |\n",
    "| ``+a``       | Unary plus     | ``a`` unchanged (rarely used)                          |\n",
    "\n",
    "## Comparison Operations\n",
    "\n",
    "Another type of operation which can be very useful is comparison of different values.\n",
    "For this, Python implements standard comparison operators, which return Boolean values ``True`` and ``False``.\n",
    "The comparison operations are listed in the following table:\n",
    "\n",
    "| Operation | Description \n",
    "| ----- | -------- \n",
    "| ``a == b``| ``a`` equal to ``b``\n",
    "| ``a != b``| ``a`` not equal to ``b``\n",
    "| ``a < b`` | ``a`` less than ``b`` \n",
    "| ``a > b`` | ``a`` greater than ``b``\n",
    "| ``a <= b``| ``a`` less than or equal to ``b`` \n",
    "| ``a >= b`` | ``a`` greater than or equal to ``b`` \n",
    "\n",
    "\n",
    "# Control Flow\n",
    "\n",
    "## Conditional Statements: ``if``-``elif``-``else``:\n",
    "Conditional statements, often referred to as *if-then* statements, allow the programmer to execute certain pieces of code depending on some Boolean condition.\n",
    "\n",
    "Indentation: Whitespace Matters!\n",
    "\n",
    "Next, we get to the main block of code:\n",
    "```python\n",
    "if x==0:\n",
    "    print(\"x is zero)\n",
    "elif x>0:\n",
    "    print(\"x is positive)          \n",
    "else:\n",
    "    print(\"x is negative)\n",
    "```\n",
    "In programming languages, a block of code is a set of statements that should be treated as a unit. In Python, code blocks are denoted by indentation:\n",
    "In Python, indented code blocks are always preceded by a colon (:) on the previous line.\n",
    "\n",
    "\n",
    "## ``for`` loops\n",
    "Loops in Python are a way to repeatedly execute some code statement.\n",
    "So, for example, if we'd like to print each of the items in a list, we can use a ``for`` loop:"
   ]
  },
  {
   "cell_type": "code",
   "execution_count": 11,
   "metadata": {},
   "outputs": [
    {
     "name": "stdout",
     "output_type": "stream",
     "text": [
      "2 3 5 7 3;4;"
     ]
    }
   ],
   "source": [
    "for number in [2, 3, 5, 7]:\n",
    "    print(number, end=' ') # print all on same line\n",
    "    \n",
    "for number in range(3,5):\n",
    "    print(number, end=';') # print all on same line"
   ]
  },
  {
   "cell_type": "markdown",
   "metadata": {},
   "source": [
    "## The join fuinction for strings\n",
    "\n",
    "``<separator_string>.join(iterable)``\n",
    "\n",
    "Return a string which is the concatenation of the strings in iterable. A TypeError will be raised if there are any non-string values in iterable, including bytes objects. The separator between elements is the <separator_string> providing this method.\n",
    "    \n",
    "Examples:"
   ]
  },
  {
   "cell_type": "code",
   "execution_count": 2,
   "metadata": {},
   "outputs": [
    {
     "name": "stdout",
     "output_type": "stream",
     "text": [
      "1;2;3;4\n"
     ]
    }
   ],
   "source": [
    "my_list = ['1','2','3','4']\n",
    "\n",
    "#Using ; as separator\"\n",
    "print(';'.join(my_list))"
   ]
  },
  {
   "cell_type": "code",
   "execution_count": 3,
   "metadata": {},
   "outputs": [
    {
     "name": "stdout",
     "output_type": "stream",
     "text": [
      "1 - 2 - 3 - 4\n"
     ]
    }
   ],
   "source": [
    "#Using \" - \" as separator\"\n",
    "print(' - '.join(my_list))"
   ]
  },
  {
   "cell_type": "markdown",
   "metadata": {},
   "source": [
    "## Exercise 1:\n",
    "\n",
    "### Write a program which will find all such numbers which are divisible by 7 but are not a multiple of 5, between 2000 and 3200 (both included). The numbers obtained should be printed in a comma-separated sequence on a single line."
   ]
  },
  {
   "cell_type": "code",
   "execution_count": 12,
   "metadata": {},
   "outputs": [],
   "source": [
    "# a%b :  Modulus operator, iInteger remainder after division of a by b.\n",
    "\n",
    "# Tips:\n",
    "#   First you will need to iterate over each number between 2000 and 3200 (both included).\n",
    "#   At each iteration, you should use the if statements to check if the number meet the criteria.\n",
    "#   If it meets the criteria, added to a list (create an empty list before the loop).\n",
    "#   Finally, print the numbers in a comma-separated sequence on a single line.\n",
    "#      For this use the join function.\n",
    "#   Before this, convert the list of ints into a list of string with the number (cast each element using int() function ).\n",
    "    "
   ]
  },
  {
   "cell_type": "markdown",
   "metadata": {},
   "source": [
    "## Identity and Membership Operators\n",
    "\n",
    "Like ``and``, ``or``, and ``not``, Python also contains prose-like operators to check for identity and membership.\n",
    "They are the following:\n",
    "\n",
    "| Operator      | Description                                       |\n",
    "|---------------|---------------------------------------------------|\n",
    "| ``a is b``    | True if ``a`` and ``b`` are identical objects     |\n",
    "| ``a is not b``| True if ``a`` and ``b`` are not identical objects |\n",
    "| ``a in b``    | True if ``a`` is a member of ``b``                |\n",
    "| ``a not in b``| True if ``a`` is not a member of ``b``            |\n"
   ]
  },
  {
   "cell_type": "code",
   "execution_count": 14,
   "metadata": {},
   "outputs": [
    {
     "name": "stdout",
     "output_type": "stream",
     "text": [
      "False\n"
     ]
    }
   ],
   "source": [
    "print(\"John\" == \"John Doe\")"
   ]
  },
  {
   "cell_type": "code",
   "execution_count": 16,
   "metadata": {},
   "outputs": [
    {
     "name": "stdout",
     "output_type": "stream",
     "text": [
      "True\n"
     ]
    }
   ],
   "source": [
    "print(\"John\" in \"John Doe\")"
   ]
  },
  {
   "cell_type": "code",
   "execution_count": 18,
   "metadata": {},
   "outputs": [
    {
     "name": "stdout",
     "output_type": "stream",
     "text": [
      "True\n"
     ]
    }
   ],
   "source": [
    "print(\"Doe\" in \"John Doe\")"
   ]
  },
  {
   "cell_type": "markdown",
   "metadata": {},
   "source": [
    "## The split function\n",
    "\n",
    "``str.split(sep=None, maxsplit=-1)``\n",
    "\n",
    "Return a list of the words in the string, using sep as the delimiter string. If maxsplit is given, at most maxsplit splits are done (thus, the list will have at most maxsplit+1 elements). If maxsplit is not specified or -1, then there is no limit on the number of splits (all possible splits are made).\n",
    "\n",
    "If sep is given, consecutive delimiters are not grouped together and are deemed to delimit empty strings (for example, '1,,2'.split(',') returns ['1', '', '2']). The sep argument may consist of multiple characters (for example, '1<>2<>3'.split('<>') returns ['1', '2', '3']). Splitting an empty string with a specified separator returns [''].\n",
    "\n",
    "If sep is not specified or is None, a different splitting algorithm is applied: runs of consecutive whitespace are regarded as a single separator, and the result will contain no empty strings at the start or end if the string has leading or trailing whitespace. Consequently, splitting an empty string or a string consisting of just whitespace with a None separator returns [].\n",
    "  "
   ]
  },
  {
   "cell_type": "code",
   "execution_count": 1,
   "metadata": {},
   "outputs": [
    {
     "data": {
      "text/plain": [
       "['1', '2', '3']"
      ]
     },
     "execution_count": 1,
     "metadata": {},
     "output_type": "execute_result"
    }
   ],
   "source": [
    "'1,2,3'.split(',')"
   ]
  },
  {
   "cell_type": "code",
   "execution_count": 2,
   "metadata": {},
   "outputs": [
    {
     "data": {
      "text/plain": [
       "['1', '2,3']"
      ]
     },
     "execution_count": 2,
     "metadata": {},
     "output_type": "execute_result"
    }
   ],
   "source": [
    "'1,2,3'.split(',', maxsplit=1)"
   ]
  },
  {
   "cell_type": "code",
   "execution_count": 3,
   "metadata": {},
   "outputs": [
    {
     "data": {
      "text/plain": [
       "['1', '2', '', '3', '']"
      ]
     },
     "execution_count": 3,
     "metadata": {},
     "output_type": "execute_result"
    }
   ],
   "source": [
    "'1,2,,3,'.split(',')"
   ]
  },
  {
   "cell_type": "markdown",
   "metadata": {},
   "source": [
    "## Exercise 2: Write a function that count the ocurrences of a given name in a list of Full names."
   ]
  },
  {
   "cell_type": "code",
   "execution_count": null,
   "metadata": {},
   "outputs": [],
   "source": [
    "# Lets first generate random Full names.\n",
    "# For this we are going to use the names package.\n",
    "\n",
    "!pip install names  # Install the name package."
   ]
  },
  {
   "cell_type": "code",
   "execution_count": null,
   "metadata": {},
   "outputs": [],
   "source": [
    "# Lets create a list with the Full names.\n",
    "\n",
    "#Import the names package\n",
    "import names\n",
    "\n",
    "# Import the random module to set the seed.\n",
    "import random \n",
    "\n",
    "random.seed(0)\n",
    "\n",
    "# Create a list with N=number_of_names random names\n",
    "number_of_names = 1000\n",
    "\n",
    "#Lets use list comprehensions. This is faster than the for loops.\n",
    "full_names = [names.get_full_name() for i in range(number_of_names)]\n",
    "\n",
    "# The full_names list is now available\n",
    "\n",
    "\n",
    "# Now we can continue with the exercise\n",
    "# Lets write the function that count the ocurrences of a given name in a list of full names\n",
    "def count_name_occurence(full_names_list, name_to_check):\n",
    "    # One way to do this is to iterate over each full name in the list (using a for loop).\n",
    "    #  Then, for each full name, we need to divide the string in two strings:\n",
    "    #     - one with the name and other with the last name\n",
    "    #  Then, if the name matchs, add 1 to a counter (initialized to 0 at the beggining).\n",
    "    pass # remove this once you write the code\n",
    "\n",
    "\n",
    "\n"
   ]
  },
  {
   "cell_type": "markdown",
   "metadata": {},
   "source": [
    "## Exercise 3: Write a function that count the number of names in a list of Full names that start with a certain string.\n",
    "E.g. names that start with John (like Johnathan)."
   ]
  },
  {
   "cell_type": "code",
   "execution_count": 31,
   "metadata": {},
   "outputs": [],
   "source": [
    "def count_name_occurence2(full_names_list, string_to_check):\n",
    "    # One way to do this is to iterate over each full name in the list (using a for loop).\n",
    "    #  Then, for each full name, we need to divide the string in two strings:\n",
    "    #     - one with the name and other with the last name\n",
    "    #  Then, if the name starts with the string_to_check to check, add 1 to a counter.\n",
    "    pass # remove this once you write the code "
   ]
  },
  {
   "cell_type": "markdown",
   "metadata": {},
   "source": [
    "## 2) Write a function that count the number of names in a list of Full names that start with a certain string, but is not equal to it.\n",
    "E.g. names that start with John (like Johnathan), excluding the names John."
   ]
  },
  {
   "cell_type": "code",
   "execution_count": 33,
   "metadata": {},
   "outputs": [],
   "source": [
    "def count_name_occurence3(full_names_list, string_to_check):\n",
    "    # One way to do this is to iterate over each full name in the list (using a for loop).\n",
    "    #  Then, for each full name, we need to divide the string in two strings:\n",
    "    #     - one with the name and other with the last name\n",
    "    #  Then, if the name starts with the string_to_check, but is not equal to the string, add 1 to a counter.\n",
    "    pass # remove this once you write the code "
   ]
  },
  {
   "cell_type": "markdown",
   "metadata": {},
   "source": [
    "## Exercise 4: Using the function create in exercise 2), create a dictionary with the counts of each name in the list. That is a dict with names as keys, and the name counts as values."
   ]
  },
  {
   "cell_type": "code",
   "execution_count": 35,
   "metadata": {},
   "outputs": [],
   "source": [
    "# Iterate over each element in the list of full names. Every time that you have a coincidence in the name, \n",
    "# increment the value in the dict by one.\n",
    "# If the name was not added to the dict, (used key in my_dict to check this), set the value to 1.\n"
   ]
  },
  {
   "cell_type": "markdown",
   "metadata": {},
   "source": [
    "## Exercise 5: Write a Python function to remove all even numbers from a list"
   ]
  },
  {
   "cell_type": "code",
   "execution_count": 5,
   "metadata": {},
   "outputs": [],
   "source": [
    "input_list=[1,2,3,4,5,6,7,8,9,10]\n",
    "def remove_even(input_list):\n",
    "    # Write code here\n",
    "    return input_list\n",
    "\n",
    "# expected output [1,3,5,7,9]"
   ]
  },
  {
   "cell_type": "markdown",
   "metadata": {},
   "source": [
    "# Numpy review\n",
    "\n",
    "## The Basics\n",
    "\n",
    "**NumPy’s main object is the homogeneous multidimensional array**. It is a table of elements (usually numbers), all of the same type, indexed by a tuple of positive integers. In NumPy, dimensions are called axes.\n",
    "\n",
    "**NumPy’s array class is called ndarray**. It is also known by the alias array. *Note that numpy.array is not the same as the Standard Python Library class array.array, which only handles one-dimensional arrays and offers less functionality.* \n",
    "\n",
    "The more important attributes of an ndarray object are:\n",
    "\n",
    "* **ndarray.ndim** : the number of axes (dimensions) of the array.\n",
    "* **ndarray.shape** : the dimensions of the array. This is a tuple of integers indicating the size of the array in each dimension. For a matrix with n rows and m columns, shape will be (n,m). The length of the shape tuple is therefore the number of axes, ndim.\n",
    "* **ndarray.size** : the total number of elements of the array. This is equal to the product of the elements of shape.\n",
    "* **ndarray.dtype** : an object describing the type of the elements in the array. One can create or specify dtype’s using standard Python types. Additionally NumPy provides types of its own. numpy.int32, numpy.int16, and numpy.float64 are some examples.\n",
    "* **ndarray.itemsize**: the size in bytes of each element of the array. For example, an array of elements of type float64 has itemsize 8 (=64/8), while one of type complex32 has itemsize 4 (=32/8). It is equivalent to ndarray.dtype.itemsize.\n",
    "* **ndarray.data** : the buffer containing the actual elements of the array. **Normally, we won’t need to use this attribute because we will access the elements in an array using indexing facilities.**\n",
    "\n",
    "\n",
    "## Array Creation\n",
    "\n",
    "There are several ways to create arrays.\n",
    "\n",
    "For example, you can create an array from a regular Python list or tuple using the array function. \n",
    "**The elements data type of the resulting array is deduced from the data type of the elements in the sequences.**\n",
    "\n"
   ]
  },
  {
   "cell_type": "code",
   "execution_count": 9,
   "metadata": {},
   "outputs": [
    {
     "data": {
      "text/plain": [
       "array([2, 3, 4])"
      ]
     },
     "execution_count": 9,
     "metadata": {},
     "output_type": "execute_result"
    }
   ],
   "source": [
    "import numpy as np\n",
    "\n",
    "list_of_integers = [2,3,4]\n",
    "my_array = np.array(list_of_integers)\n",
    "my_array"
   ]
  },
  {
   "cell_type": "code",
   "execution_count": 12,
   "metadata": {},
   "outputs": [
    {
     "data": {
      "text/plain": [
       "array([[1.5, 2. , 3. ],\n",
       "       [4. , 5. , 6. ]])"
      ]
     },
     "execution_count": 12,
     "metadata": {},
     "output_type": "execute_result"
    }
   ],
   "source": [
    "list_of_lists =  [ [1.5,2,3] , [4,5,6] ]\n",
    "my_2D_array = np.array(list_of_lists)\n",
    "my_2D_array"
   ]
  },
  {
   "cell_type": "markdown",
   "metadata": {},
   "source": [
    "## Array initialization\n",
    "\n",
    "Often, the elements of an array are originally unknown, but its size is known. Hence, NumPy offers several functions to create arrays with initial placeholder content. These minimize the necessity of growing arrays, an expensive operation.\n",
    "\n",
    "The function **zeros** creates an array full of zeros, the function **ones** creates an array full of ones, and the function **empty** creates an array whose initial content is random and depends on the state of the memory.\n",
    "Finally, the function **full** creates an array filled with given value. **By default, the dtype of the created array is float64.**\n"
   ]
  },
  {
   "cell_type": "code",
   "execution_count": 13,
   "metadata": {},
   "outputs": [
    {
     "data": {
      "text/plain": [
       "array([[0., 0., 0., 0.],\n",
       "       [0., 0., 0., 0.],\n",
       "       [0., 0., 0., 0.]])"
      ]
     },
     "execution_count": 13,
     "metadata": {},
     "output_type": "execute_result"
    }
   ],
   "source": [
    "np.zeros( (3,4) )"
   ]
  },
  {
   "cell_type": "code",
   "execution_count": 15,
   "metadata": {},
   "outputs": [
    {
     "data": {
      "text/plain": [
       "array([[[1, 1, 1, 1],\n",
       "        [1, 1, 1, 1],\n",
       "        [1, 1, 1, 1]],\n",
       "\n",
       "       [[1, 1, 1, 1],\n",
       "        [1, 1, 1, 1],\n",
       "        [1, 1, 1, 1]]], dtype=int16)"
      ]
     },
     "execution_count": 15,
     "metadata": {},
     "output_type": "execute_result"
    }
   ],
   "source": [
    "np.ones( (2,3,4), dtype=np.int16 ) # dtype can also be specified"
   ]
  },
  {
   "cell_type": "code",
   "execution_count": 18,
   "metadata": {},
   "outputs": [
    {
     "data": {
      "text/plain": [
       "array([[1.5, 2. , 3. ],\n",
       "       [4. , 5. , 6. ]])"
      ]
     },
     "execution_count": 18,
     "metadata": {},
     "output_type": "execute_result"
    }
   ],
   "source": [
    "np.empty( (2,3) )  # uninitialized, output may vary"
   ]
  },
  {
   "cell_type": "code",
   "execution_count": 19,
   "metadata": {},
   "outputs": [
    {
     "data": {
      "text/plain": [
       "array([[10, 10],\n",
       "       [10, 10]])"
      ]
     },
     "execution_count": 19,
     "metadata": {},
     "output_type": "execute_result"
    }
   ],
   "source": [
    "np.full((2, 2), 10)  # Array of 10s"
   ]
  },
  {
   "cell_type": "markdown",
   "metadata": {},
   "source": [
    "arange function\n",
    "\n",
    "To create sequences of numbers, NumPy provides a function analogous to range that returns arrays instead of lists.\n",
    "\n",
    "The calling arguments for this function are: arange([start, ]stop, [step, ]dtype=None), see the documentation for more details.\n",
    "\n",
    "This function can be called in different ways:\n",
    "\n",
    "* **np.arange(stop)** : returns a sequence from 0 to stop-1 , with an step of 1.\n",
    "* **np.arange(start,stop)** : returns a sequence from start to stop-1 , with an step of 1.\n",
    "* **np.arange(start, stop, step)** : : returns a sequence from start to stop-1 , with an step defined by the user.\n",
    "\n",
    "The dtype keyword can be aso used to specify the desired data type of sequence."
   ]
  },
  {
   "cell_type": "code",
   "execution_count": 21,
   "metadata": {},
   "outputs": [
    {
     "data": {
      "text/plain": [
       "array([0, 1, 2, 3, 4, 5, 6, 7, 8, 9])"
      ]
     },
     "execution_count": 21,
     "metadata": {},
     "output_type": "execute_result"
    }
   ],
   "source": [
    "np.arange( 10) # equivalent to np.arange(0,10) and np.arange(0,10,1)"
   ]
  },
  {
   "cell_type": "code",
   "execution_count": 22,
   "metadata": {},
   "outputs": [
    {
     "data": {
      "text/plain": [
       "array([10, 15, 20, 25])"
      ]
     },
     "execution_count": 22,
     "metadata": {},
     "output_type": "execute_result"
    }
   ],
   "source": [
    "np.arange( 10, 30, 5 ) # np.arange(start, stop, step) "
   ]
  },
  {
   "cell_type": "markdown",
   "metadata": {},
   "source": [
    "## Array operations\n",
    "\n",
    "**The operations are element-wise!**\n",
    "\n",
    "| Operator     | Name           | Description                                            |\n",
    "|--------------|----------------|--------------------------------------------------------|\n",
    "| ``a + b``    | Addition       | Sum of ``a`` and ``b``                                 |\n",
    "| ``a - b``    | Subtraction    | Difference of ``a`` and ``b``                          |\n",
    "| ``a * b``    | Multiplication | Product of ``a`` and ``b``                             |\n",
    "| ``a / b``    | True division  | Quotient of ``a`` and ``b``                            |\n",
    "| ``a // b``   | Floor division | Quotient of ``a`` and ``b``, removing fractional parts |\n",
    "| ``a % b``    | Modulus        | Integer remainder after division of ``a`` by ``b``     |\n",
    "| ``a ** b``   | Exponentiation | ``a`` raised to the power of ``b``                     |\n",
    "\n",
    "## Aggregations: min, max, sum, prod, mean, std, var, any, all\n",
    "\n",
    "We commonly need to compute statistics on a large amount of data. NumPy has fast built-in aggregation functions to compute the following statistics:\n",
    "\n",
    "* **min** : Return the minimum along a given axis\n",
    "* **argmin** : Returns the indices of the minimum values along an axis\n",
    "* **max** : Return the maximum along a given axis\n",
    "* **argmax** : Returns the indices of the maximum values along an axis\n",
    "* **sum** : Return the sum of the array elements over the given axis.\n",
    "* **cumsum** : Return the cumulative sum of the array elements over the given axis.\n",
    "* **prod** : Return the product of the array elements over the given axis.\n",
    "* **mean** : Returns the average of the array elements along given axis.\n",
    "* **std** : Returns the standard deviation of the array elements along given axis.\n",
    "* **var** : Returns the variance deviation of the array elements along given axis.\n",
    "* **any** : Test whether any array element along a given axis evaluates to True.\n",
    "* **all** : Test whether all array elements along a given axis evaluate to True.\n",
    "\n",
    "Many unary operations, such as computing the sum of all the elements in the array, are also implemented as methods of the ndarray class.\n",
    "\n",
    "## Indexing and slicing\n",
    "\n",
    "One-dimensional arrays can be indexed sliced and iterated over, much like lists and other Python sequences.\n"
   ]
  },
  {
   "cell_type": "code",
   "execution_count": 25,
   "metadata": {},
   "outputs": [],
   "source": [
    "my_1D_array = np.arange(10)**3\n",
    "my_1D_array[2] # Access the 3rd elementmy_1D_array = np.arange(10)**3\n",
    "my_1D_array\n",
    "\n",
    "my_1D_array[2] # Access the 3rd element\n",
    "\n",
    "my_1D_array[2:5] # Return a 1D view of the array from the 2nd to the 4th element.\n",
    "\n",
    "# equivalent to a[0:6:2] = -1000; from start to position 6, exclusive, set every 2nd element to -1000\n",
    "my_1D_array[:6:2] = -1000  \n",
    "my_1D_array\n",
    "\n",
    "my_1D_array[ : :-1]   # reversed\n",
    "pass # Suppress output"
   ]
  },
  {
   "cell_type": "markdown",
   "metadata": {},
   "source": [
    "## Boolean array indexing\n",
    "\n",
    "This advanced indexing occurs when indexing element is an array object of Boolean type, such as may be returned from comparison operators.\n",
    "\n",
    "If obj.ndim == x.ndim, x[bool_array] returns a 1-dimensional array filled with the elements of x corresponding to the True values of bool_array.\n",
    "If obj has True values at entries that are outside of the bounds of x (different shape), then an index error will be raised. If bool_array is smaller than x it is identical to filling it with False.\n",
    "\n",
    "**Better if you use the bools of the same shape for now! In the next workshop we will talk about broadcasting.**\n",
    "\n",
    "### Example\n",
    "\n",
    "A common use case for this is filtering for desired element values. For example one may wish to select all entries from an array which are not NaN:"
   ]
  },
  {
   "cell_type": "code",
   "execution_count": 31,
   "metadata": {},
   "outputs": [
    {
     "data": {
      "text/plain": [
       "array([False,  True,  True, False])"
      ]
     },
     "execution_count": 31,
     "metadata": {},
     "output_type": "execute_result"
    }
   ],
   "source": [
    "x = np.array([1., -1., -2., 3])\n",
    "my_bool_arary = (x < 0)\n",
    "my_bool_arary"
   ]
  },
  {
   "cell_type": "code",
   "execution_count": 29,
   "metadata": {},
   "outputs": [
    {
     "data": {
      "text/plain": [
       "array([ 1., 19., 18.,  3.])"
      ]
     },
     "execution_count": 29,
     "metadata": {},
     "output_type": "execute_result"
    }
   ],
   "source": [
    "x[my_bool_arary] += 20\n",
    "x"
   ]
  },
  {
   "cell_type": "markdown",
   "metadata": {},
   "source": [
    "## Exercise 6: write a function that compute the Euclidean norm of an array.\n",
    "\n",
    ", and the std, over the flattened array."
   ]
  },
  {
   "cell_type": "code",
   "execution_count": 33,
   "metadata": {},
   "outputs": [],
   "source": [
    "def my_norm(input_array):\n",
    "    # The norm is the square root of the sum of the square of every elements.\n",
    "    pass\n",
    "\n",
    "# test the function\n",
    "array_1 = np.arange(10)\n",
    "my_norm(array_1)"
   ]
  },
  {
   "cell_type": "markdown",
   "metadata": {},
   "source": [
    "## Exercise 7: write a function that compute the Euclidean norm of an array (flattened)."
   ]
  },
  {
   "cell_type": "code",
   "execution_count": 42,
   "metadata": {},
   "outputs": [],
   "source": [
    "def my_rmse(input_array1,input_array2):\n",
    "    # The norm is the root mean square error ever the flattened array.\n",
    "    pass\n",
    "\n",
    "\n",
    "# test the function\n",
    "array_1 = np.arange(10)\n",
    "array_2 = np.linspace(0,100,10)\n",
    "my_rmse(array_1,array_2)"
   ]
  },
  {
   "cell_type": "markdown",
   "metadata": {},
   "source": [
    "## Exercise 8: Now assume that you have two 2D arrays, the first dimension is time and you want to compute the rmse ever the time dimension (first dimension)."
   ]
  },
  {
   "cell_type": "code",
   "execution_count": 44,
   "metadata": {},
   "outputs": [],
   "source": [
    "def my_rmse_over_time(input_array1,input_array2):\n",
    "    # The norm is the root mean square error ever the flattened array.\n",
    "    pass\n",
    "\n",
    "# test the function\n",
    "array_1 = np.arange(10*4).reshape(4,10)\n",
    "array_2 = np.random.rand(4,10)*6\n",
    "my_rmse_over_time(array_1,array_2)\n"
   ]
  },
  {
   "cell_type": "code",
   "execution_count": null,
   "metadata": {},
   "outputs": [],
   "source": []
  }
 ],
 "metadata": {
  "kernelspec": {
   "display_name": "Python 3",
   "language": "python",
   "name": "python3"
  },
  "language_info": {
   "codemirror_mode": {
    "name": "ipython",
    "version": 3
   },
   "file_extension": ".py",
   "mimetype": "text/x-python",
   "name": "python",
   "nbconvert_exporter": "python",
   "pygments_lexer": "ipython3",
   "version": "3.8.2"
  }
 },
 "nbformat": 4,
 "nbformat_minor": 4
}
