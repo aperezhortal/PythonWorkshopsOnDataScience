{
 "cells": [
  {
   "cell_type": "markdown",
   "metadata": {},
   "source": [
    "# Credits\n",
    "<!--BOOK_INFORMATION-->\n",
    "**Almost all the content of this notebook** was taken from [Whirlwind Tour of Python](http://www.oreilly.com/programming/free/a-whirlwind-tour-of-python.csp) by Jake VanderPlas, and adapted for a 2 hours workshop. \n",
    "\n",
    "This book is a great python introduction and it is a highly recommended read for begginers as well as advanced users.\n",
    "The content is available for free [on GitHub](https://github.com/jakevdp/WhirlwindTourOfPython).\n",
    "*The text and code are released under the [CC0](https://github.com/jakevdp/WhirlwindTourOfPython/blob/master/LICENSE) license.*"
   ]
  },
  {
   "cell_type": "markdown",
   "metadata": {},
   "source": [
    "# Table Of Contents\n",
    "\n",
    "1. [A Quick Tour of Python Language Syntax](#PythonSyntax)\n",
    "1. [Basic Python Semantics: Variables and Objects](#VariablesAndObjects)\n",
    "1. [Built-In Data Structures](#DataStructures)\n",
    "1. [Basic Python Semantics: Operators](#Operators)\n",
    "1. [Control Flow](#ControlFlow)\n",
    "1. [Defining and Using Functions](#Functions)\n",
    "1. [Modules and Packages](#ModulesAndPackages)\n",
    "1. [Exercises](#Exercises)\n",
    "1. [Credits](#Credits)\n",
    "1. [License](#License)\n"
   ]
  },
  {
   "cell_type": "markdown",
   "metadata": {},
   "source": [
    "<a id='PythonSyntax'></a>\n",
    "# A Quick Tour of Python Language Syntax"
   ]
  },
  {
   "cell_type": "markdown",
   "metadata": {},
   "source": [
    "Python was originally developed as a teaching language, but its ease of use and clean syntax have led it to be embraced by beginners and experts alike.\n",
    "\n",
    "**Syntax refers to the structure of the language** (i.e., what constitutes a correctly-formed program).\n",
    "Consider the following code example:"
   ]
  },
  {
   "cell_type": "code",
   "execution_count": 1,
   "metadata": {},
   "outputs": [
    {
     "name": "stdout",
     "output_type": "stream",
     "text": [
      "lower: [0, 1, 2, 3, 4]\n",
      "upper: [5, 6, 7, 8, 9]\n"
     ]
    }
   ],
   "source": [
    "# set the midpoint\n",
    "midpoint = 3\n",
    "\n",
    "midpoint += 2  # shorthand for midpoint = midpoint + 2\n",
    "\n",
    "# make two empty lists\n",
    "lower = []; upper = []\n",
    "\n",
    "# split the numbers into lower and upper\n",
    "for i in range(10):\n",
    "    if (i < midpoint):\n",
    "        lower.append(i)\n",
    "    else:\n",
    "        upper.append(i)\n",
    "        \n",
    "print(\"lower:\", lower)\n",
    "print(\"upper:\", upper)"
   ]
  },
  {
   "cell_type": "markdown",
   "metadata": {},
   "source": [
    "This script is a bit silly, but it compactly illustrates several of the important aspects of Python syntax.\n",
    "Let's walk through it and discuss some of the syntactical features of Python"
   ]
  },
  {
   "cell_type": "markdown",
   "metadata": {},
   "source": [
    "## Comments Are Marked by ``#``\n",
    "The script starts with a comment:\n",
    "``` python\n",
    "# set the midpoint\n",
    "```\n",
    "Comments in Python are indicated by a pound sign (``#``), and anything on the line following the pound sign is ignored by the interpreter.\n",
    "This means, for example, that you can have stand-alone comments like the one just shown, as well as inline comments that follow a statement. For example:\n",
    "``` python\n",
    "midpoint += 2  # shorthand for midpoint = midpoint + 2\n",
    "```"
   ]
  },
  {
   "cell_type": "markdown",
   "metadata": {},
   "source": [
    "## End-of-Line Terminates a Statement\n",
    "The next line in the script is\n",
    "``` python\n",
    "midpoint = 5\n",
    "```\n",
    "This is an assignment operation, where we've created a variable named ``midpoint`` and assigned it the value ``5``.\n",
    "Notice that the end of this statement is simply marked by the end of the line.\n",
    "\n",
    "In Python, if you'd like a statement to continue to the next line, it is possible to use the \"``\\``\" marker to indicate this:"
   ]
  },
  {
   "cell_type": "code",
   "execution_count": 2,
   "metadata": {},
   "outputs": [],
   "source": [
    "x = 1 + 2 + 3 + 4 +\\\n",
    "    5 + 6 + 7 + 8"
   ]
  },
  {
   "cell_type": "markdown",
   "metadata": {},
   "source": [
    "It is also possible to continue expressions on the next line within parentheses, without using the \"``\\``\" marker:"
   ]
  },
  {
   "cell_type": "code",
   "execution_count": 3,
   "metadata": {},
   "outputs": [],
   "source": [
    "x = (1 + 2 + 3 + 4 +\n",
    "     5 + 6 + 7 + 8)"
   ]
  },
  {
   "cell_type": "markdown",
   "metadata": {},
   "source": [
    "Most Python style guides recommend the second version of line continuation (within parentheses) to the first (use of the \"``\\``\" marker)."
   ]
  },
  {
   "cell_type": "markdown",
   "metadata": {},
   "source": [
    "## Semicolon Can Optionally Terminate a Statement\n",
    "Sometimes it can be useful to put multiple statements on a single line.\n",
    "The next portion of the script is\n",
    "``` python\n",
    "lower = []; upper = []\n",
    "```\n",
    "This shows the example of how the semicolon (``;``) familiar in C can be used optionally in Python to put two statements on a single line.\n",
    "Functionally, this is entirely equivalent to writing\n",
    "``` python\n",
    "lower = []\n",
    "upper = []\n",
    "```\n",
    "**Using a semicolon to put multiple statements on a single line is generally discouraged by most Python style guides, though occasionally it proves convenient.**"
   ]
  },
  {
   "cell_type": "markdown",
   "metadata": {},
   "source": [
    "## Indentation: Whitespace Matters!\n",
    "Next, we get to the main block of code:\n",
    "``` Python\n",
    "for i in range(10):\n",
    "    if i < midpoint:\n",
    "        lower.append(i)\n",
    "    else:\n",
    "        upper.append(i)\n",
    "```\n",
    "This is a compound control-flow statement including a loop and a conditional – we'll look at these types of statements in a moment.\n",
    "For now, consider that this demonstrates what is perhaps the most controversial feature of Python's syntax: whitespace is meaningful!\n",
    "\n",
    "In programming languages, a *block* of code is a set of statements that should be treated as a unit.\n",
    "In Python, code blocks are denoted by *indentation*:\n",
    "``` python\n",
    "for i in range(100):\n",
    "    # indentation indicates code block\n",
    "    total += i\n",
    "```\n",
    "In Python, indented code blocks are always preceded by a colon (``:``) on the previous line."
   ]
  },
  {
   "cell_type": "markdown",
   "metadata": {},
   "source": [
    "The use of indentation helps to enforce the uniform, readable style that many find appealing in Python code.\n",
    "But it might be confusing to the uninitiated; for example, the following two snippets will produce different results:\n",
    "```python\n",
    ">>> if x < 4:         >>> if x < 4:\n",
    "...     y = x * 2     ...     y = x * 2\n",
    "...     print(x)      ... print(x)\n",
    "```\n",
    "In the snippet on the left, ``print(x)`` is in the indented block, and will be executed only if ``x`` is less than ``4``.\n",
    "In the snippet on the right ``print(x)`` is outside the block, and will be executed regardless of the value of ``x``!"
   ]
  },
  {
   "cell_type": "markdown",
   "metadata": {},
   "source": [
    "You should be aware that the **amount of whitespace** used for indenting code blocks is up to the user, as long as it is consistent throughout the script.\n",
    "By convention, most style guides recommend to indent code blocks by four spaces, and that is the convention we will follow in this report.\n",
    "Note that many text editors like Emacs and Vim contain Python modes that do four-space indentation automatically."
   ]
  },
  {
   "cell_type": "markdown",
   "metadata": {},
   "source": [
    "## Whitespace *Within* Lines Does Not Matter\n",
    "While the mantra of *meaningful whitespace* holds true for whitespace *before* lines (which indicate a code block), white space *within* lines of Python code does not matter.\n",
    "For example, all three of these expressions are equivalent:"
   ]
  },
  {
   "cell_type": "code",
   "execution_count": 4,
   "metadata": {},
   "outputs": [],
   "source": [
    "x=1+2\n",
    "x = 1 + 2\n",
    "x             =        1    +                2"
   ]
  },
  {
   "cell_type": "markdown",
   "metadata": {},
   "source": [
    "Abusing this flexibility can lead to issues with code readibility – in fact, abusing white space is often one of the primary means of intentionally obfuscating code (which some people do for sport).\n",
    "Using whitespace effectively can lead to much more readable code, \n",
    "especially in cases where operators follow each other – compare the following two expressions for exponentiating by a negative number:\n",
    "``` python\n",
    "x=10**-2\n",
    "```\n",
    "to\n",
    "``` python\n",
    "x = 10 ** -2\n",
    "```\n",
    "I find the second version with spaces much more easily readable at a single glance.\n",
    "**Most Python style guides recommend using a single space around binary operators, and no space around unary operators.**"
   ]
  },
  {
   "cell_type": "markdown",
   "metadata": {},
   "source": [
    "## Parentheses Are for Grouping or Calling\n",
    "\n",
    "In the previous code snippet, we see two uses of parentheses.\n",
    "First, they can be used in the typical way to group statements or mathematical operations:"
   ]
  },
  {
   "cell_type": "code",
   "execution_count": 5,
   "metadata": {},
   "outputs": [
    {
     "data": {
      "text/plain": [
       "14"
      ]
     },
     "execution_count": 5,
     "metadata": {},
     "output_type": "execute_result"
    }
   ],
   "source": [
    "2 * (3 + 4)"
   ]
  },
  {
   "cell_type": "markdown",
   "metadata": {},
   "source": [
    "They can also be used to indicate that a *function* is being called.\n",
    "In the next snippet, the ``print()`` function is used to display the contents of a variable (see the sidebar).\n",
    "The function call is indicated by a pair of opening and closing parentheses, with the *arguments* to the function contained within:"
   ]
  },
  {
   "cell_type": "code",
   "execution_count": 6,
   "metadata": {},
   "outputs": [
    {
     "name": "stdout",
     "output_type": "stream",
     "text": [
      "first value: 1\n"
     ]
    }
   ],
   "source": [
    "print('first value:', 1)"
   ]
  },
  {
   "cell_type": "code",
   "execution_count": 7,
   "metadata": {},
   "outputs": [
    {
     "name": "stdout",
     "output_type": "stream",
     "text": [
      "second value: 2\n"
     ]
    }
   ],
   "source": [
    "print('second value:', 2)"
   ]
  },
  {
   "cell_type": "markdown",
   "metadata": {},
   "source": [
    "## Aside: A Note on the ``print()`` Function\n",
    "\n",
    "Above we used the example of the ``print()`` function.\n",
    "The ``print()`` function is one piece that has changed between Python *2.x* and Python *3.x*. In Python 2, ``print`` behaved as a statement: that is, you could write\n",
    "``` python\n",
    "# Python 2 only!\n",
    ">> print \"first value:\", 1\n",
    "first value: 1\n",
    "```\n",
    "For various reasons, the language maintainers decided that in Python 3 ``print()`` should become a function, so we now write\n",
    "``` python\n",
    "# Python 3 only!\n",
    ">>> print(\"first value:\", 1)\n",
    "first value: 1\n",
    "```\n",
    "This is one of the many backward-incompatible constructs between Python 2 and 3.\n",
    "As of the writing of this book, it is common to find examples written in both versions of Python, and the presence of the ``print`` statement rather than the ``print()`` function is often one of the first signs that you're looking at Python 2 code."
   ]
  },
  {
   "cell_type": "markdown",
   "metadata": {},
   "source": [
    "## Python style guides\n",
    "\n",
    "Several times we've mentioned Python \"style guides\", which can help teams to write code in a consistent style.\n",
    "The most widely used style guide in Python is known as PEP8, and can be found at https://www.python.org/dev/peps/pep-0008/.\n",
    "As you begin to write more Python code, it would be useful to read through this!\n",
    "The style suggestions contain the wisdom of many Python gurus, and most suggestions go beyond simple pedantry: they are experience-based recommendations that can help avoid subtle mistakes and bugs in your code.\n",
    "\n",
    "Another style guide is the **Google style guide**, that can be found at https://github.com/google/styleguide/blob/gh-pages/pyguide.md."
   ]
  },
  {
   "cell_type": "markdown",
   "metadata": {},
   "source": [
    "<a id='VariablesAndObjects'></a>\n",
    "# Basic Python Semantics: Variables and Objects "
   ]
  },
  {
   "cell_type": "markdown",
   "metadata": {},
   "source": [
    "This section will begin to cover the basic semantics of the Python language.\n",
    "As opposed to the *syntax* covered in the previous section, the ***semantics* of a language involve the meaning of the statements.**\n",
    "As with our discussion of syntax, here we'll preview a few of the essential semantic constructions in Python to give you a better frame of reference for understanding the code in the following sections.\n",
    "\n",
    "This section will cover the semantics of *variables* and *objects*, which are the main ways you store, reference, and operate on data within a Python script."
   ]
  },
  {
   "cell_type": "markdown",
   "metadata": {},
   "source": [
    "## Python Variables Are Pointers\n",
    "\n",
    "\n",
    "* **What is a pointer?** A pointer is an object or variable that stores the memory address of another value located in the memory. A pointer references a location in memory where the variable of the object is stored.\n",
    " \n",
    "Assigning variables in Python is as easy as putting a variable name to the left of the equals (``=``) sign:\n",
    "\n",
    "```python\n",
    "# assign 4 to the variable x\n",
    "x = 4\n",
    "```\n",
    "\n",
    "This may seem straightforward, but if you have the wrong mental model of what this operation does, the way Python works may seem confusing.\n",
    "We'll briefly dig into that here.\n",
    "\n",
    "In many programming languages, variables are best thought of as containers or buckets into which you put data.\n",
    "So in C, for example, when you write\n",
    "\n",
    "```C\n",
    "// C code\n",
    "int x = 4;\n",
    "```\n",
    "\n",
    "you are essentially defining a \"memory bucket\" named ``x``, and putting the value ``4`` into it.\n",
    "**In Python, by contrast, variables are best thought of not as containers but as pointers.**\n",
    "So in Python, when you write\n",
    "\n",
    "```python\n",
    "x = 4\n",
    "```\n",
    "\n",
    "you are essentially defining a *pointer* named ``x`` that points to some other bucket containing the value ``4``.\n",
    "Note one consequence of this: because Python variables just point to various objects, there is no need to \"declare\" the variable, or even require the variable to always point to information of the same type!\n",
    "This is the sense in which people say Python is *dynamically-typed*: variable names can point to objects of any type.\n",
    "So in Python, you can do things like this:"
   ]
  },
  {
   "cell_type": "code",
   "execution_count": 8,
   "metadata": {},
   "outputs": [],
   "source": [
    "x = 1         # x is an integer\n",
    "x = 'hello'   # now x is a string\n",
    "x = [1, 2, 3] # now x is a list"
   ]
  },
  {
   "cell_type": "markdown",
   "metadata": {},
   "source": [
    "While users of statically-typed languages might miss the type-safety that comes with declarations like those found in C,\n",
    "\n",
    "```C\n",
    "int x = 4;\n",
    "```\n",
    "\n",
    "this dynamic typing is one of the pieces that makes Python so quick to write and easy to read.\n",
    "\n",
    "There is a consequence of this \"variable as pointer\" approach that you need to be aware of.\n",
    "If we have two variable names pointing to the same *mutable* object, then changing one will change the other as well!\n",
    "For example, let's create and modify a list:"
   ]
  },
  {
   "cell_type": "code",
   "execution_count": 9,
   "metadata": {},
   "outputs": [],
   "source": [
    "x = [1, 2, 3]\n",
    "y = x"
   ]
  },
  {
   "cell_type": "markdown",
   "metadata": {},
   "source": [
    "We've created two variables ``x`` and ``y`` which both point to the same object.\n",
    "Because of this, if we modify the list via one of its names, we'll see that the \"other\" list will be modified as well:"
   ]
  },
  {
   "cell_type": "code",
   "execution_count": 10,
   "metadata": {},
   "outputs": [
    {
     "name": "stdout",
     "output_type": "stream",
     "text": [
      "[1, 2, 3]\n"
     ]
    }
   ],
   "source": [
    "print(y)"
   ]
  },
  {
   "cell_type": "code",
   "execution_count": 11,
   "metadata": {},
   "outputs": [
    {
     "name": "stdout",
     "output_type": "stream",
     "text": [
      "[1, 2, 3, 4]\n"
     ]
    }
   ],
   "source": [
    "x.append(4) # append 4 to the list pointed to by x\n",
    "print(y) # y's list is modified as well!"
   ]
  },
  {
   "cell_type": "markdown",
   "metadata": {},
   "source": [
    "This behavior might seem confusing if you're wrongly thinking of variables as buckets that contain data.\n",
    "But if you're correctly thinking of variables as pointers to objects, then this behavior makes sense.\n",
    "\n",
    "Note also that if we use \"``=``\" to assign another value to ``x``, this will not affect the value of ``y`` – assignment is simply a change of what object the variable points to:"
   ]
  },
  {
   "cell_type": "code",
   "execution_count": 12,
   "metadata": {},
   "outputs": [
    {
     "name": "stdout",
     "output_type": "stream",
     "text": [
      "[1, 2, 3, 4]\n"
     ]
    }
   ],
   "source": [
    "x = 'something else'\n",
    "print(y)  # y is unchanged"
   ]
  },
  {
   "cell_type": "markdown",
   "metadata": {},
   "source": [
    "Again, this makes perfect sense if you think of ``x`` and ``y`` as pointers, and the \"``=``\" operator as an operation that changes what the name points to.\n",
    "\n",
    "You might wonder whether this pointer idea makes arithmetic operations in Python difficult to track, but Python is set up so that this is not an issue. Numbers, strings, and other *simple types* are immutable: you can't change their value – you can only change what values the variables point to.\n",
    "So, for example, it's perfectly safe to do operations like the following:"
   ]
  },
  {
   "cell_type": "code",
   "execution_count": 13,
   "metadata": {},
   "outputs": [
    {
     "name": "stdout",
     "output_type": "stream",
     "text": [
      "x = 15\n",
      "y = 10\n"
     ]
    }
   ],
   "source": [
    "x = 10\n",
    "y = x\n",
    "x += 5  # add 5 to x's value, and assign it to x\n",
    "print(\"x =\", x)\n",
    "print(\"y =\", y)"
   ]
  },
  {
   "cell_type": "markdown",
   "metadata": {},
   "source": [
    "When we call ``x += 5``, we are not modifying the value of the ``10`` object pointed to by ``x``; we are rather changing the variable ``x`` so that it points to a new integer object with value ``15``.\n",
    "For this reason, the value of ``y`` is not affected by the operation."
   ]
  },
  {
   "cell_type": "markdown",
   "metadata": {},
   "source": [
    "## Everything Is an Object!\n",
    "\n",
    "Python is an object-oriented programming language, and in Python everything is an object.\n",
    "\n",
    "* **What is an object?**: An object is an entity that contains data along with associated metadata and/or functionality. Python is an object-oriented programming language, and in Python everything is an **object**, which means every **entity** has some **metadata (called attributes)** and **associated functionality (called methods)**. These attributes and methods are accessed via the dot syntax. We will come back to this later.\n",
    "\n",
    "Let's flesh-out what this means. Earlier we saw that variables are simply pointers, and the variable names themselves have no attached type information.\n",
    "This leads some to claim erroneously that Python is a type-free language. But this is not the case!\n",
    "Consider the following:"
   ]
  },
  {
   "cell_type": "code",
   "execution_count": 14,
   "metadata": {},
   "outputs": [
    {
     "data": {
      "text/plain": [
       "int"
      ]
     },
     "execution_count": 14,
     "metadata": {},
     "output_type": "execute_result"
    }
   ],
   "source": [
    "x = 4\n",
    "type(x)"
   ]
  },
  {
   "cell_type": "code",
   "execution_count": 15,
   "metadata": {},
   "outputs": [
    {
     "data": {
      "text/plain": [
       "str"
      ]
     },
     "execution_count": 15,
     "metadata": {},
     "output_type": "execute_result"
    }
   ],
   "source": [
    "x = 'hello'\n",
    "type(x)"
   ]
  },
  {
   "cell_type": "code",
   "execution_count": 16,
   "metadata": {},
   "outputs": [
    {
     "data": {
      "text/plain": [
       "float"
      ]
     },
     "execution_count": 16,
     "metadata": {},
     "output_type": "execute_result"
    }
   ],
   "source": [
    "x = 3.14159\n",
    "type(x)"
   ]
  },
  {
   "cell_type": "markdown",
   "metadata": {},
   "source": [
    "Python has types; however, the types are linked not to the variable names but *to the objects themselves*.\n",
    "\n",
    "Before we explain that objects, and objects has some metadata (called attributes) and associated functionality (called methods). These attributes and methods are accessed via the dot syntax.\n",
    "\n",
    "For example, before we saw that lists have an ``append`` method, which adds an item to the list, and is accessed via the dot (\"``.``\") syntax:"
   ]
  },
  {
   "cell_type": "code",
   "execution_count": 17,
   "metadata": {},
   "outputs": [
    {
     "name": "stdout",
     "output_type": "stream",
     "text": [
      "[1, 2, 3, 100]\n"
     ]
    }
   ],
   "source": [
    "L = [1, 2, 3]\n",
    "L.append(100)\n",
    "print(L)"
   ]
  },
  {
   "cell_type": "markdown",
   "metadata": {},
   "source": [
    "While it might be expected for compound objects like lists to have attributes and methods, what is sometimes unexpected is that in Python even simple types have attached attributes and methods.\n",
    "For example, numerical types have a ``real`` and ``imag`` attribute that returns the real and imaginary part of the value, if viewed as a complex number:"
   ]
  },
  {
   "cell_type": "code",
   "execution_count": 18,
   "metadata": {},
   "outputs": [
    {
     "name": "stdout",
     "output_type": "stream",
     "text": [
      "4.5 + 0.0 i\n"
     ]
    }
   ],
   "source": [
    "x = 4.5\n",
    "print(x.real, \"+\", x.imag, 'i')"
   ]
  },
  {
   "cell_type": "markdown",
   "metadata": {},
   "source": [
    "Methods are like attributes, except they are functions that you can call using opening and closing parentheses.\n",
    "These functions are part of the object it self. For example, floating point numbers have a method called ``is_integer`` that checks whether the value is an integer:"
   ]
  },
  {
   "cell_type": "code",
   "execution_count": 19,
   "metadata": {},
   "outputs": [
    {
     "data": {
      "text/plain": [
       "False"
      ]
     },
     "execution_count": 19,
     "metadata": {},
     "output_type": "execute_result"
    }
   ],
   "source": [
    "x = 4.5\n",
    "x.is_integer()"
   ]
  },
  {
   "cell_type": "code",
   "execution_count": 20,
   "metadata": {},
   "outputs": [
    {
     "data": {
      "text/plain": [
       "True"
      ]
     },
     "execution_count": 20,
     "metadata": {},
     "output_type": "execute_result"
    }
   ],
   "source": [
    "x = 4.0\n",
    "x.is_integer()"
   ]
  },
  {
   "cell_type": "markdown",
   "metadata": {},
   "source": [
    "When we say that everything in Python is an object, we really mean that *everything* is an object – even the attributes and methods of objects are themselves objects with their own ``type`` information:"
   ]
  },
  {
   "cell_type": "code",
   "execution_count": 21,
   "metadata": {},
   "outputs": [
    {
     "data": {
      "text/plain": [
       "builtin_function_or_method"
      ]
     },
     "execution_count": 21,
     "metadata": {},
     "output_type": "execute_result"
    }
   ],
   "source": [
    "type(x.is_integer)"
   ]
  },
  {
   "cell_type": "markdown",
   "metadata": {},
   "source": [
    "We'll find that the everything-is-object design choice of Python allows for some very convenient language constructs."
   ]
  },
  {
   "cell_type": "markdown",
   "metadata": {},
   "source": [
    "<a id='DataStructures'></a>\n",
    "# Built-In Data Structures"
   ]
  },
  {
   "cell_type": "markdown",
   "metadata": {},
   "source": [
    "We have seen Python's simple types: ``int``, ``float``, ``complex``, ``bool``, ``str``, and so on.\n",
    "Python also has several built-in compound types, which act as containers for other types.\n",
    "These compound types are:\n",
    "\n",
    "| Type Name | Example                   |Description                            |\n",
    "|-----------|---------------------------|---------------------------------------|\n",
    "| ``list``  | ``[1, 2, 3]``             | Ordered collection                    |\n",
    "| ``tuple`` | ``(1, 2, 3)``             | Immutable ordered collection          |\n",
    "| ``dict``  | ``{'a':1, 'b':2, 'c':3}`` | Unordered (key,value) mapping         |\n",
    "| ``set``   | ``{1, 2, 3}``             | Unordered collection of unique values |\n",
    "\n",
    "As you can see, round, square, and curly brackets have distinct meanings when it comes to the type of collection produced.\n",
    "We'll take a quick tour of these data structures here."
   ]
  },
  {
   "cell_type": "markdown",
   "metadata": {},
   "source": [
    "## Lists\n",
    "Lists are the basic *ordered* and *mutable* data collection type in Python.\n",
    "* **What is a mutable object?**: An object that can change it's content.\n",
    "\n",
    "They can be defined with comma-separated values between square brackets; for example, here is a list of the first several prime numbers:"
   ]
  },
  {
   "cell_type": "code",
   "execution_count": 22,
   "metadata": {},
   "outputs": [],
   "source": [
    "L = [2, 3, 5, 7]\n",
    "L[0]=1 # Change first value of the list for a 1"
   ]
  },
  {
   "cell_type": "markdown",
   "metadata": {},
   "source": [
    "Lists have a number of useful properties and methods available to them.\n",
    "Here we'll take a quick look at some of the more common and useful ones:"
   ]
  },
  {
   "cell_type": "code",
   "execution_count": 23,
   "metadata": {},
   "outputs": [
    {
     "data": {
      "text/plain": [
       "4"
      ]
     },
     "execution_count": 23,
     "metadata": {},
     "output_type": "execute_result"
    }
   ],
   "source": [
    "# Length of a list\n",
    "len(L)"
   ]
  },
  {
   "cell_type": "code",
   "execution_count": 24,
   "metadata": {},
   "outputs": [
    {
     "data": {
      "text/plain": [
       "[1, 3, 5, 7, 11]"
      ]
     },
     "execution_count": 24,
     "metadata": {},
     "output_type": "execute_result"
    }
   ],
   "source": [
    "# Append a value to the end\n",
    "L.append(11)\n",
    "L"
   ]
  },
  {
   "cell_type": "code",
   "execution_count": 25,
   "metadata": {},
   "outputs": [
    {
     "data": {
      "text/plain": [
       "[1, 3, 5, 7, 11, 13, 17, 19]"
      ]
     },
     "execution_count": 25,
     "metadata": {},
     "output_type": "execute_result"
    }
   ],
   "source": [
    "# Addition concatenates lists\n",
    "L + [13, 17, 19]"
   ]
  },
  {
   "cell_type": "code",
   "execution_count": 26,
   "metadata": {},
   "outputs": [
    {
     "data": {
      "text/plain": [
       "[1, 2, 3, 4, 5, 6]"
      ]
     },
     "execution_count": 26,
     "metadata": {},
     "output_type": "execute_result"
    }
   ],
   "source": [
    "# sort() method sorts in-place\n",
    "L = [2, 5, 1, 6, 3, 4]\n",
    "L.sort()\n",
    "L"
   ]
  },
  {
   "cell_type": "markdown",
   "metadata": {},
   "source": [
    "In addition, there are many more built-in list methods; they are well-covered in Python's [online documentation](https://docs.python.org/3/tutorial/datastructures.html).\n",
    "\n",
    "While we've been demonstrating lists containing values of a single type, one of the powerful features of **Python's compound objects is that they can contain objects of *any* type, or even a mix of types**. For example:"
   ]
  },
  {
   "cell_type": "code",
   "execution_count": 27,
   "metadata": {},
   "outputs": [],
   "source": [
    "L = [1, 'two', 3.14, [0, 3, 5]]"
   ]
  },
  {
   "cell_type": "markdown",
   "metadata": {},
   "source": [
    "This flexibility is a consequence of Python's dynamic type system.\n",
    "Creating such a mixed sequence in a statically-typed language like C can be much more of a headache!\n",
    "We see that lists can even contain other lists as elements.\n",
    "Such type flexibility is an essential piece of what makes Python code relatively quick and easy to write.\n",
    "\n",
    "So far we've been considering manipulations of lists as a whole; another essential piece is the accessing of individual elements.\n",
    "This is done in Python via *indexing* and *slicing*, which we'll explore next."
   ]
  },
  {
   "cell_type": "markdown",
   "metadata": {},
   "source": [
    "### List indexing and slicing\n",
    "Python provides access to elements in compound types through *indexing* for single elements, and *slicing* for multiple elements.\n",
    "As we'll see, both are indicated by a square-bracket syntax.\n",
    "Suppose we return to our list of the first several primes:"
   ]
  },
  {
   "cell_type": "code",
   "execution_count": 28,
   "metadata": {},
   "outputs": [],
   "source": [
    "L = [2, 3, 5, 7, 11]"
   ]
  },
  {
   "cell_type": "markdown",
   "metadata": {},
   "source": [
    "Python uses *zero-based* indexing, so we can access the first and second element in using the following syntax:"
   ]
  },
  {
   "cell_type": "code",
   "execution_count": 29,
   "metadata": {},
   "outputs": [
    {
     "data": {
      "text/plain": [
       "2"
      ]
     },
     "execution_count": 29,
     "metadata": {},
     "output_type": "execute_result"
    }
   ],
   "source": [
    "L[0]"
   ]
  },
  {
   "cell_type": "code",
   "execution_count": 30,
   "metadata": {},
   "outputs": [
    {
     "data": {
      "text/plain": [
       "3"
      ]
     },
     "execution_count": 30,
     "metadata": {},
     "output_type": "execute_result"
    }
   ],
   "source": [
    "L[1]"
   ]
  },
  {
   "cell_type": "markdown",
   "metadata": {},
   "source": [
    "Elements at the end of the list can be accessed with negative numbers, starting from -1:"
   ]
  },
  {
   "cell_type": "code",
   "execution_count": 31,
   "metadata": {},
   "outputs": [
    {
     "data": {
      "text/plain": [
       "11"
      ]
     },
     "execution_count": 31,
     "metadata": {},
     "output_type": "execute_result"
    }
   ],
   "source": [
    "L[-1]"
   ]
  },
  {
   "cell_type": "code",
   "execution_count": 32,
   "metadata": {},
   "outputs": [
    {
     "data": {
      "text/plain": [
       "7"
      ]
     },
     "execution_count": 32,
     "metadata": {},
     "output_type": "execute_result"
    }
   ],
   "source": [
    "L[-2]"
   ]
  },
  {
   "cell_type": "markdown",
   "metadata": {},
   "source": [
    "You can visualize this indexing scheme this way:"
   ]
  },
  {
   "cell_type": "markdown",
   "metadata": {},
   "source": [
    "![List Indexing Figure](https://github.com/aperezhortal/PythonWorkshopsOnDataScience/raw/master/fig/list-indexing.png)"
   ]
  },
  {
   "cell_type": "markdown",
   "metadata": {},
   "source": [
    "Here values in the list are represented by large numbers in the squares; list indices are represented by small numbers above and below.\n",
    "In this case, ``L[2]`` returns ``5``, because that is the next value at index ``2``."
   ]
  },
  {
   "cell_type": "markdown",
   "metadata": {},
   "source": [
    "* **indexing**: Fetching a single value from the list**\n",
    "* **slicing**: accessing multiple values in sub-lists**\n",
    "\n",
    "It uses a colon to indicate the start point (inclusive) and end point (non-inclusive) of the sub-array.\n",
    "For example, to get the first three elements of the list, we can write:"
   ]
  },
  {
   "cell_type": "code",
   "execution_count": 33,
   "metadata": {},
   "outputs": [
    {
     "data": {
      "text/plain": [
       "[2, 3, 5]"
      ]
     },
     "execution_count": 33,
     "metadata": {},
     "output_type": "execute_result"
    }
   ],
   "source": [
    "L[0:3]"
   ]
  },
  {
   "cell_type": "markdown",
   "metadata": {},
   "source": [
    "Notice where ``0`` and ``3`` lie in the preceding diagram, and how the slice takes just the values between the indices.\n",
    "If we leave out the first index, ``0`` is assumed, so we can equivalently write:"
   ]
  },
  {
   "cell_type": "code",
   "execution_count": 34,
   "metadata": {},
   "outputs": [
    {
     "data": {
      "text/plain": [
       "[2, 3, 5]"
      ]
     },
     "execution_count": 34,
     "metadata": {},
     "output_type": "execute_result"
    }
   ],
   "source": [
    "L[:3]"
   ]
  },
  {
   "cell_type": "markdown",
   "metadata": {},
   "source": [
    "Similarly, if we leave out the last index, it defaults to the length of the list.\n",
    "Thus, the last three elements can be accessed as follows:"
   ]
  },
  {
   "cell_type": "code",
   "execution_count": 35,
   "metadata": {},
   "outputs": [
    {
     "data": {
      "text/plain": [
       "[5, 7, 11]"
      ]
     },
     "execution_count": 35,
     "metadata": {},
     "output_type": "execute_result"
    }
   ],
   "source": [
    "L[-3:]"
   ]
  },
  {
   "cell_type": "markdown",
   "metadata": {},
   "source": [
    "Finally, it is possible to specify a third integer that represents the step size; for example, to select every second element of the list, we can write:"
   ]
  },
  {
   "cell_type": "code",
   "execution_count": 36,
   "metadata": {},
   "outputs": [
    {
     "data": {
      "text/plain": [
       "[2, 5, 11]"
      ]
     },
     "execution_count": 36,
     "metadata": {},
     "output_type": "execute_result"
    }
   ],
   "source": [
    "L[::2]  # equivalent to L[0:len(L):2]"
   ]
  },
  {
   "cell_type": "markdown",
   "metadata": {},
   "source": [
    "A particularly useful version of this is to specify a negative step, which will reverse the array:"
   ]
  },
  {
   "cell_type": "code",
   "execution_count": 37,
   "metadata": {},
   "outputs": [
    {
     "data": {
      "text/plain": [
       "[11, 7, 5, 3, 2]"
      ]
     },
     "execution_count": 37,
     "metadata": {},
     "output_type": "execute_result"
    }
   ],
   "source": [
    "L[::-1]"
   ]
  },
  {
   "cell_type": "markdown",
   "metadata": {},
   "source": [
    "Both indexing and slicing can be used to set elements as well as access them.\n",
    "The syntax is as you would expect:"
   ]
  },
  {
   "cell_type": "code",
   "execution_count": 38,
   "metadata": {},
   "outputs": [
    {
     "name": "stdout",
     "output_type": "stream",
     "text": [
      "[100, 3, 5, 7, 11]\n"
     ]
    }
   ],
   "source": [
    "L[0] = 100\n",
    "print(L)"
   ]
  },
  {
   "cell_type": "code",
   "execution_count": 39,
   "metadata": {},
   "outputs": [
    {
     "name": "stdout",
     "output_type": "stream",
     "text": [
      "[100, 55, 56, 7, 11]\n"
     ]
    }
   ],
   "source": [
    "L[1:3] = [55, 56]\n",
    "print(L)"
   ]
  },
  {
   "cell_type": "markdown",
   "metadata": {},
   "source": [
    "A very similar slicing syntax is also used in many data science-oriented packages, including NumPy and Pandas (mentioned in the introduction).\n",
    "\n",
    "Now that we have seen Python lists and how to access elements in ordered compound types, let's take a look at the other three standard compound data types mentioned earlier."
   ]
  },
  {
   "cell_type": "markdown",
   "metadata": {},
   "source": [
    "## Tuples\n",
    "Tuples are in many ways similar to lists, but they are defined with parentheses rather than square brackets:"
   ]
  },
  {
   "cell_type": "code",
   "execution_count": 40,
   "metadata": {},
   "outputs": [],
   "source": [
    "t = (1, 2, 3)"
   ]
  },
  {
   "cell_type": "markdown",
   "metadata": {},
   "source": [
    "They can also be defined without any brackets at all:"
   ]
  },
  {
   "cell_type": "code",
   "execution_count": 41,
   "metadata": {},
   "outputs": [
    {
     "name": "stdout",
     "output_type": "stream",
     "text": [
      "(1, 2, 3)\n"
     ]
    }
   ],
   "source": [
    "t = 1, 2, 3\n",
    "print(t)"
   ]
  },
  {
   "cell_type": "markdown",
   "metadata": {},
   "source": [
    "Like the lists discussed before, tuples have a length, and individual elements can be extracted using square-bracket indexing:"
   ]
  },
  {
   "cell_type": "code",
   "execution_count": 42,
   "metadata": {},
   "outputs": [
    {
     "data": {
      "text/plain": [
       "3"
      ]
     },
     "execution_count": 42,
     "metadata": {},
     "output_type": "execute_result"
    }
   ],
   "source": [
    "len(t)"
   ]
  },
  {
   "cell_type": "code",
   "execution_count": 43,
   "metadata": {},
   "outputs": [
    {
     "data": {
      "text/plain": [
       "1"
      ]
     },
     "execution_count": 43,
     "metadata": {},
     "output_type": "execute_result"
    }
   ],
   "source": [
    "t[0]"
   ]
  },
  {
   "cell_type": "markdown",
   "metadata": {},
   "source": [
    "The main distinguishing feature of **tuples is that they are *immutable***: this means that **once they are created, their size and contents cannot be changed:**"
   ]
  },
  {
   "cell_type": "code",
   "execution_count": 44,
   "metadata": {},
   "outputs": [
    {
     "ename": "TypeError",
     "evalue": "'tuple' object does not support item assignment",
     "output_type": "error",
     "traceback": [
      "\u001b[0;31m---------------------------------------------------------------------------\u001b[0m",
      "\u001b[0;31mTypeError\u001b[0m                                 Traceback (most recent call last)",
      "\u001b[0;32m<ipython-input-44-87b0f225887f>\u001b[0m in \u001b[0;36m<module>\u001b[0;34m()\u001b[0m\n\u001b[0;32m----> 1\u001b[0;31m \u001b[0mt\u001b[0m\u001b[0;34m[\u001b[0m\u001b[0;36m1\u001b[0m\u001b[0;34m]\u001b[0m \u001b[0;34m=\u001b[0m \u001b[0;36m4\u001b[0m\u001b[0;34m\u001b[0m\u001b[0m\n\u001b[0m",
      "\u001b[0;31mTypeError\u001b[0m: 'tuple' object does not support item assignment"
     ]
    }
   ],
   "source": [
    "t[1] = 4"
   ]
  },
  {
   "cell_type": "code",
   "execution_count": 45,
   "metadata": {},
   "outputs": [
    {
     "ename": "AttributeError",
     "evalue": "'tuple' object has no attribute 'append'",
     "output_type": "error",
     "traceback": [
      "\u001b[0;31m---------------------------------------------------------------------------\u001b[0m",
      "\u001b[0;31mAttributeError\u001b[0m                            Traceback (most recent call last)",
      "\u001b[0;32m<ipython-input-45-ada7ed8a579e>\u001b[0m in \u001b[0;36m<module>\u001b[0;34m()\u001b[0m\n\u001b[0;32m----> 1\u001b[0;31m \u001b[0mt\u001b[0m\u001b[0;34m.\u001b[0m\u001b[0mappend\u001b[0m\u001b[0;34m(\u001b[0m\u001b[0;36m4\u001b[0m\u001b[0;34m)\u001b[0m\u001b[0;34m\u001b[0m\u001b[0m\n\u001b[0m",
      "\u001b[0;31mAttributeError\u001b[0m: 'tuple' object has no attribute 'append'"
     ]
    }
   ],
   "source": [
    "t.append(4)"
   ]
  },
  {
   "cell_type": "markdown",
   "metadata": {},
   "source": [
    "Tuples are often used in a Python program; a particularly common case is in functions that have multiple return values.\n",
    "For example, the ``as_integer_ratio()`` method of floating-point objects returns a numerator and a denominator; this dual return value comes in the form of a tuple:"
   ]
  },
  {
   "cell_type": "code",
   "execution_count": 46,
   "metadata": {},
   "outputs": [
    {
     "data": {
      "text/plain": [
       "(1, 8)"
      ]
     },
     "execution_count": 46,
     "metadata": {},
     "output_type": "execute_result"
    }
   ],
   "source": [
    "x = 0.125\n",
    "x.as_integer_ratio()"
   ]
  },
  {
   "cell_type": "markdown",
   "metadata": {},
   "source": [
    "These multiple return values can be individually assigned as follows:"
   ]
  },
  {
   "cell_type": "code",
   "execution_count": 47,
   "metadata": {},
   "outputs": [
    {
     "name": "stdout",
     "output_type": "stream",
     "text": [
      "0.125\n"
     ]
    }
   ],
   "source": [
    "numerator, denominator = x.as_integer_ratio()\n",
    "print(numerator / denominator)"
   ]
  },
  {
   "cell_type": "markdown",
   "metadata": {},
   "source": [
    "The indexing and slicing logic covered earlier for lists works for tuples as well, along with a host of other methods.\n",
    "Refer to the online [Python documentation](https://docs.python.org/3/tutorial/datastructures.html) for a more complete list of these."
   ]
  },
  {
   "cell_type": "markdown",
   "metadata": {},
   "source": [
    "## Dictionaries\n",
    "Dictionaries are extremely flexible mappings of keys to values, and form the basis of much of Python's internal implementation.\n",
    "They can be created via a comma-separated list of ``key:value`` pairs within curly braces:"
   ]
  },
  {
   "cell_type": "code",
   "execution_count": 48,
   "metadata": {},
   "outputs": [],
   "source": [
    "numbers = {'one':1, 'two':2, 'three':3}"
   ]
  },
  {
   "cell_type": "markdown",
   "metadata": {},
   "source": [
    "Items are accessed and set via the indexing syntax used for lists and tuples, except here the index is not a zero-based order but valid key in the dictionary:"
   ]
  },
  {
   "cell_type": "code",
   "execution_count": 49,
   "metadata": {},
   "outputs": [
    {
     "data": {
      "text/plain": [
       "2"
      ]
     },
     "execution_count": 49,
     "metadata": {},
     "output_type": "execute_result"
    }
   ],
   "source": [
    "# Access a value via the key\n",
    "numbers['two']"
   ]
  },
  {
   "cell_type": "markdown",
   "metadata": {},
   "source": [
    "New items can be added to the dictionary using indexing as well:"
   ]
  },
  {
   "cell_type": "code",
   "execution_count": 50,
   "metadata": {},
   "outputs": [
    {
     "name": "stdout",
     "output_type": "stream",
     "text": [
      "{'one': 1, 'two': 2, 'three': 3, 'ninety': 90}\n"
     ]
    }
   ],
   "source": [
    "# Set a new key:value pair\n",
    "numbers['ninety'] = 90\n",
    "print(numbers)"
   ]
  },
  {
   "cell_type": "markdown",
   "metadata": {},
   "source": [
    "Keep in mind that dictionaries do not maintain any sense of order for the input parameters; this is by design.\n",
    "This lack of ordering allows dictionaries to be implemented very efficiently, so that random element access is very fast, regardless of the size of the dictionary (if you're curious how this works, read about the concept of a *hash table*).\n",
    "The [python documentation](https://docs.python.org/3/library/stdtypes.html) has a complete list of the methods available for dictionaries."
   ]
  },
  {
   "cell_type": "markdown",
   "metadata": {},
   "source": [
    "## Sets\n",
    "\n",
    "The fourth basic collection is the set, which contains **unordered collections of unique items**.\n",
    "They are defined much like lists and tuples, except they use the curly brackets of dictionaries:"
   ]
  },
  {
   "cell_type": "code",
   "execution_count": 51,
   "metadata": {},
   "outputs": [],
   "source": [
    "primes = {2, 3, 5, 7}\n",
    "odds = {1, 3, 5, 7, 9}"
   ]
  },
  {
   "cell_type": "markdown",
   "metadata": {},
   "source": [
    "If you're familiar with the mathematics of sets, you'll be familiar with operations like the union, intersection, difference, symmetric difference, and others.\n",
    "Python's sets have all of these operations built-in, via methods or operators.\n",
    "For each, we'll show the two equivalent methods:"
   ]
  },
  {
   "cell_type": "code",
   "execution_count": 52,
   "metadata": {},
   "outputs": [
    {
     "data": {
      "text/plain": [
       "{1, 2, 3, 5, 7, 9}"
      ]
     },
     "execution_count": 52,
     "metadata": {},
     "output_type": "execute_result"
    }
   ],
   "source": [
    "# union: items appearing in either\n",
    "primes | odds      # with an operator\n",
    "primes.union(odds) # equivalently with a method"
   ]
  },
  {
   "cell_type": "code",
   "execution_count": 53,
   "metadata": {},
   "outputs": [
    {
     "data": {
      "text/plain": [
       "{3, 5, 7}"
      ]
     },
     "execution_count": 53,
     "metadata": {},
     "output_type": "execute_result"
    }
   ],
   "source": [
    "# intersection: items appearing in both\n",
    "primes & odds             # with an operator\n",
    "primes.intersection(odds) # equivalently with a method"
   ]
  },
  {
   "cell_type": "code",
   "execution_count": 54,
   "metadata": {},
   "outputs": [
    {
     "data": {
      "text/plain": [
       "{2}"
      ]
     },
     "execution_count": 54,
     "metadata": {},
     "output_type": "execute_result"
    }
   ],
   "source": [
    "# difference: items in primes but not in odds\n",
    "primes - odds           # with an operator\n",
    "primes.difference(odds) # equivalently with a method"
   ]
  },
  {
   "cell_type": "code",
   "execution_count": 55,
   "metadata": {},
   "outputs": [
    {
     "data": {
      "text/plain": [
       "{1, 2, 9}"
      ]
     },
     "execution_count": 55,
     "metadata": {},
     "output_type": "execute_result"
    }
   ],
   "source": [
    "# symmetric difference: items appearing in only one set\n",
    "primes ^ odds                     # with an operator\n",
    "primes.symmetric_difference(odds) # equivalently with a method"
   ]
  },
  {
   "cell_type": "markdown",
   "metadata": {},
   "source": [
    "Many more set methods and operations are available.\n",
    "You've probably already guessed what I'll say next: refer to Python's [online documentation](https://docs.python.org/3/library/stdtypes.html) for a complete reference."
   ]
  },
  {
   "cell_type": "markdown",
   "metadata": {},
   "source": [
    "## More Specialized Data Structures\n",
    "\n",
    "Python contains several other data structures that you might find useful; these can generally be found in the built-in ``collections`` module.\n",
    "The collections module is fully-documented in [Python's online documentation](https://docs.python.org/3/library/collections.html), and you can read more about the various objects available there.\n",
    "\n",
    "In particular, I've found the following very useful on occasion:\n",
    "\n",
    "- ``collections.namedtuple``: Like a tuple, but each value has a name\n",
    "- ``collections.defaultdict``: Like a dictionary, but unspecified keys have a user-specified default value\n",
    "- ``collections.OrderedDict``: Like a dictionary, but the order of keys is maintained\n",
    "\n",
    "Once you've seen the standard built-in collection types, the use of these extended functionalities is very intuitive, and I'd suggest [reading about their use](https://docs.python.org/3/library/collections.html)."
   ]
  },
  {
   "cell_type": "markdown",
   "metadata": {},
   "source": [
    "<a id='Operators'></a>\n",
    "# Basic Python Semantics: Operators"
   ]
  },
  {
   "cell_type": "markdown",
   "metadata": {},
   "source": [
    "In the previous section, we began to look at the semantics of Python variables and objects; here we'll dig into the semantics of the various *operators* included in the language.\n",
    "By the end of this section, you'll have the basic tools to begin comparing and operating on data in Python."
   ]
  },
  {
   "cell_type": "markdown",
   "metadata": {},
   "source": [
    "## Arithmetic Operations\n",
    "Python implements seven basic binary arithmetic operators, two of which can double as unary operators.\n",
    "They are summarized in the following table:\n",
    "\n",
    "| Operator     | Name           | Description                                            |\n",
    "|--------------|----------------|--------------------------------------------------------|\n",
    "| ``a + b``    | Addition       | Sum of ``a`` and ``b``                                 |\n",
    "| ``a - b``    | Subtraction    | Difference of ``a`` and ``b``                          |\n",
    "| ``a * b``    | Multiplication | Product of ``a`` and ``b``                             |\n",
    "| ``a / b``    | True division  | Quotient of ``a`` and ``b``                            |\n",
    "| ``a // b``   | Floor division | Quotient of ``a`` and ``b``, removing fractional parts |\n",
    "| ``a % b``    | Modulus        | Integer remainder after division of ``a`` by ``b``     |\n",
    "| ``a ** b``   | Exponentiation | ``a`` raised to the power of ``b``                     |\n",
    "| ``-a``       | Negation       | The negative of ``a``                                  |\n",
    "| ``+a``       | Unary plus     | ``a`` unchanged (rarely used)                          |\n",
    "\n",
    "These operators can be used and combined in intuitive ways, using standard parentheses to group operations.\n",
    "For example:"
   ]
  },
  {
   "cell_type": "code",
   "execution_count": 56,
   "metadata": {},
   "outputs": [
    {
     "data": {
      "text/plain": [
       "42.0"
      ]
     },
     "execution_count": 56,
     "metadata": {},
     "output_type": "execute_result"
    }
   ],
   "source": [
    "# addition, subtraction, multiplication\n",
    "(4 + 8) * (6.5 - 3)"
   ]
  },
  {
   "cell_type": "markdown",
   "metadata": {},
   "source": [
    "Floor division is true division with fractional parts truncated:"
   ]
  },
  {
   "cell_type": "code",
   "execution_count": 57,
   "metadata": {},
   "outputs": [
    {
     "name": "stdout",
     "output_type": "stream",
     "text": [
      "5.5\n"
     ]
    }
   ],
   "source": [
    "# True division\n",
    "print(11 / 2)"
   ]
  },
  {
   "cell_type": "code",
   "execution_count": 58,
   "metadata": {},
   "outputs": [
    {
     "name": "stdout",
     "output_type": "stream",
     "text": [
      "5\n"
     ]
    }
   ],
   "source": [
    "# Floor division\n",
    "print(11 // 2)"
   ]
  },
  {
   "cell_type": "markdown",
   "metadata": {},
   "source": [
    "The floor division operator was added in Python 3; **you should be aware if working in Python 2 that the standard division operator (``/``) acts like floor division for integers and like true division for floating-point numbers**.\n",
    "\n",
    "Finally, I'll mention an eighth arithmetic operator that was added in Python 3.5: the ``a @ b`` operator, which is meant to indicate the *matrix product* of ``a`` and ``b``, for use in various linear algebra packages."
   ]
  },
  {
   "cell_type": "markdown",
   "metadata": {},
   "source": [
    "## Bitwise Operations\n",
    "In addition to the standard numerical operations, Python includes operators to perform bitwise logical operations on integers.\n",
    "These are much less commonly used than the standard arithmetic operations, but it's useful to know that they exist.\n",
    "The six bitwise operators are summarized in the following table:\n",
    "\n",
    "| Operator     | Name            | Description                                 |\n",
    "|--------------|-----------------|---------------------------------------------|\n",
    "| ``a & b``    | Bitwise AND     | Bits defined in both ``a`` and ``b``        |\n",
    "| <code>a &#124; b</code>| Bitwise OR      | Bits defined in ``a`` or ``b`` or both      |\n",
    "| ``a ^ b``    | Bitwise XOR     | Bits defined in ``a`` or ``b`` but not both |\n",
    "| ``a << b``   | Bit shift left  | Shift bits of ``a`` left by ``b`` units     |\n",
    "| ``a >> b``   | Bit shift right | Shift bits of ``a`` right by ``b`` units    |\n",
    "| ``~a``       | Bitwise NOT     | Bitwise negation of ``a``                          |\n",
    "\n",
    "**These bitwise operators only make sense in terms of the binary representation of numbers!!!**, which you can see using the built-in ``bin`` function:"
   ]
  },
  {
   "cell_type": "code",
   "execution_count": 59,
   "metadata": {},
   "outputs": [
    {
     "data": {
      "text/plain": [
       "'0b1010'"
      ]
     },
     "execution_count": 59,
     "metadata": {},
     "output_type": "execute_result"
    }
   ],
   "source": [
    "bin(10)"
   ]
  },
  {
   "cell_type": "markdown",
   "metadata": {},
   "source": [
    "## Assignment Operations\n",
    "We've seen that variables can be assigned with the \"``=``\" operator, and the values stored for later use. For example:"
   ]
  },
  {
   "cell_type": "code",
   "execution_count": 60,
   "metadata": {},
   "outputs": [
    {
     "name": "stdout",
     "output_type": "stream",
     "text": [
      "24\n"
     ]
    }
   ],
   "source": [
    "a = 24\n",
    "print(a)"
   ]
  },
  {
   "cell_type": "markdown",
   "metadata": {},
   "source": [
    "We can use these variables in expressions with any of the operators mentioned earlier.\n",
    "For example, to add 2 to ``a`` we write:"
   ]
  },
  {
   "cell_type": "code",
   "execution_count": 61,
   "metadata": {},
   "outputs": [
    {
     "data": {
      "text/plain": [
       "26"
      ]
     },
     "execution_count": 61,
     "metadata": {},
     "output_type": "execute_result"
    }
   ],
   "source": [
    "a + 2"
   ]
  },
  {
   "cell_type": "markdown",
   "metadata": {},
   "source": [
    "We might want to update the variable ``a`` with this new value; in this case, we could combine the addition and the assignment and write ``a = a + 2``.\n",
    "Because this type of combined operation and assignment is so common, Python includes built-in update operators for all of the arithmetic operations:"
   ]
  },
  {
   "cell_type": "code",
   "execution_count": 62,
   "metadata": {},
   "outputs": [
    {
     "name": "stdout",
     "output_type": "stream",
     "text": [
      "26\n"
     ]
    }
   ],
   "source": [
    "a += 2  # equivalent to a = a + 2\n",
    "print(a)"
   ]
  },
  {
   "cell_type": "markdown",
   "metadata": {},
   "source": [
    "There is an augmented assignment operator corresponding to each of the binary operators listed earlier; in brief, they are:\n",
    "\n",
    "|||||\n",
    "|-|-|\n",
    "|``a += b``| ``a -= b``|``a *= b``| ``a /= b``|\n",
    "|``a //= b``| ``a %= b``|``a **= b``|``a &= b``|\n",
    "|<code>a &#124;= b</code>| ``a ^= b``|``a <<= b``| ``a >>= b``|\n",
    "\n",
    "Each one is equivalent to the corresponding operation followed by assignment: that is, for any operator \"``■``\", the expression ``a ■= b`` is equivalent to ``a = a ■ b``, with a slight catch.\n",
    "**For mutable objects like lists, arrays, or DataFrames, these augmented assignment operations are actually subtly different than their more verbose counterparts: they modify the contents of the original object rather than creating a new object to store the result.** We will see more about this in the next tutorial."
   ]
  },
  {
   "cell_type": "markdown",
   "metadata": {},
   "source": [
    "## Comparison Operations\n",
    "\n",
    "Another type of operation which can be very useful is comparison of different values.\n",
    "For this, Python implements standard comparison operators, which return Boolean values ``True`` and ``False``.\n",
    "The comparison operations are listed in the following table:\n",
    "\n",
    "| Operation | Description \n",
    "| ----- | -------- \n",
    "| ``a == b``| ``a`` equal to ``b``\n",
    "| ``a != b``| ``a`` not equal to ``b``\n",
    "| ``a < b`` | ``a`` less than ``b`` \n",
    "| ``a > b`` | ``a`` greater than ``b``\n",
    "| ``a <= b``| ``a`` less than or equal to ``b`` \n",
    "| ``a >= b`` | ``a`` greater than or equal to ``b`` \n",
    "\n",
    "These comparison operators can be combined with the arithmetic and bitwise operators to express a virtually limitless range of tests for the numbers.\n",
    "For example, we can check if a number is odd by checking that the modulus with 2 returns 1:"
   ]
  },
  {
   "cell_type": "code",
   "execution_count": 63,
   "metadata": {},
   "outputs": [
    {
     "data": {
      "text/plain": [
       "True"
      ]
     },
     "execution_count": 63,
     "metadata": {},
     "output_type": "execute_result"
    }
   ],
   "source": [
    "# 25 is odd\n",
    "25 % 2 == 1"
   ]
  },
  {
   "cell_type": "code",
   "execution_count": 64,
   "metadata": {},
   "outputs": [
    {
     "data": {
      "text/plain": [
       "False"
      ]
     },
     "execution_count": 64,
     "metadata": {},
     "output_type": "execute_result"
    }
   ],
   "source": [
    "# 66 is odd\n",
    "66 % 2 == 1"
   ]
  },
  {
   "cell_type": "markdown",
   "metadata": {},
   "source": [
    "We can string-together multiple comparisons to check more complicated relationships:"
   ]
  },
  {
   "cell_type": "code",
   "execution_count": 65,
   "metadata": {},
   "outputs": [
    {
     "data": {
      "text/plain": [
       "True"
      ]
     },
     "execution_count": 65,
     "metadata": {},
     "output_type": "execute_result"
    }
   ],
   "source": [
    "# check if a is between 15 and 30\n",
    "a = 25\n",
    "15 < a < 30"
   ]
  },
  {
   "cell_type": "markdown",
   "metadata": {},
   "source": [
    "And, just to make your head hurt a bit, take a look at this comparison:"
   ]
  },
  {
   "cell_type": "code",
   "execution_count": 66,
   "metadata": {},
   "outputs": [
    {
     "data": {
      "text/plain": [
       "True"
      ]
     },
     "execution_count": 66,
     "metadata": {},
     "output_type": "execute_result"
    }
   ],
   "source": [
    "-1 == ~0"
   ]
  },
  {
   "cell_type": "markdown",
   "metadata": {},
   "source": [
    "**Recall that ``~`` is the bit-flip operator, and evidently when you flip all the bits of zero you end up with -1.***\n",
    "If you're curious as to why this is, look up the *two's complement* integer encoding scheme, which is what Python uses to encode signed integers, and think about what happens when you start flipping all the bits of integers encoded this way."
   ]
  },
  {
   "cell_type": "markdown",
   "metadata": {},
   "source": [
    "## Boolean Operations\n",
    "When working with Boolean values, Python provides operators to combine the values using the standard concepts of \"and\", \"or\", and \"not\".\n",
    "Predictably, these operators are expressed using the words ``and``, ``or``, and ``not``:"
   ]
  },
  {
   "cell_type": "code",
   "execution_count": 67,
   "metadata": {},
   "outputs": [
    {
     "data": {
      "text/plain": [
       "True"
      ]
     },
     "execution_count": 67,
     "metadata": {},
     "output_type": "execute_result"
    }
   ],
   "source": [
    "x = 4\n",
    "(x < 6) and (x > 2)"
   ]
  },
  {
   "cell_type": "code",
   "execution_count": 68,
   "metadata": {},
   "outputs": [
    {
     "data": {
      "text/plain": [
       "True"
      ]
     },
     "execution_count": 68,
     "metadata": {},
     "output_type": "execute_result"
    }
   ],
   "source": [
    "(x > 10) or (x % 2 == 0)"
   ]
  },
  {
   "cell_type": "code",
   "execution_count": 69,
   "metadata": {},
   "outputs": [
    {
     "data": {
      "text/plain": [
       "False"
      ]
     },
     "execution_count": 69,
     "metadata": {},
     "output_type": "execute_result"
    }
   ],
   "source": [
    "not (x < 6)"
   ]
  },
  {
   "cell_type": "markdown",
   "metadata": {},
   "source": [
    "Boolean algebra aficionados might notice that the XOR operator is not included; this can of course be constructed in several ways from a compound statement of the other operators.\n",
    "Otherwise, a clever trick you can use for XOR of Boolean values is the following:"
   ]
  },
  {
   "cell_type": "code",
   "execution_count": 70,
   "metadata": {},
   "outputs": [
    {
     "data": {
      "text/plain": [
       "False"
      ]
     },
     "execution_count": 70,
     "metadata": {},
     "output_type": "execute_result"
    }
   ],
   "source": [
    "# (x > 1) xor (x < 10)\n",
    "(x > 1) != (x < 10)"
   ]
  },
  {
   "cell_type": "markdown",
   "metadata": {},
   "source": [
    "These sorts of Boolean operations will become extremely useful when we begin discussing *control flow statements* such as conditionals and loops.\n",
    "\n",
    "One sometimes confusing thing about the language is when to use Boolean operators (``and``, ``or``, ``not``), and when to use bitwise operations (``&``, ``|``, ``~``).\n",
    "The answer lies in their names: Boolean operators should be used when you want to compute *Boolean values (i.e., truth or falsehood) of entire statements*.\n",
    "Bitwise operations should be used when you want to *operate on individual bits or components of the objects in question*."
   ]
  },
  {
   "cell_type": "markdown",
   "metadata": {},
   "source": [
    "## Identity and Membership Operators\n",
    "\n",
    "Like ``and``, ``or``, and ``not``, Python also contains prose-like operators to check for identity and membership.\n",
    "They are the following:\n",
    "\n",
    "| Operator      | Description                                       |\n",
    "|---------------|---------------------------------------------------|\n",
    "| ``a is b``    | True if ``a`` and ``b`` are identical objects     |\n",
    "| ``a is not b``| True if ``a`` and ``b`` are not identical objects |\n",
    "| ``a in b``    | True if ``a`` is a member of ``b``                |\n",
    "| ``a not in b``| True if ``a`` is not a member of ``b``            |"
   ]
  },
  {
   "cell_type": "markdown",
   "metadata": {},
   "source": [
    "### Identity Operators: \"``is``\" and \"``is not``\"\n",
    "\n",
    "The identity operators, \"``is``\" and \"``is not``\" check for *object identity*.\n",
    "Object identity is different than equality, as we can see here:"
   ]
  },
  {
   "cell_type": "code",
   "execution_count": 71,
   "metadata": {},
   "outputs": [],
   "source": [
    "a = [1, 2, 3]\n",
    "b = [1, 2, 3]"
   ]
  },
  {
   "cell_type": "code",
   "execution_count": 72,
   "metadata": {},
   "outputs": [
    {
     "data": {
      "text/plain": [
       "True"
      ]
     },
     "execution_count": 72,
     "metadata": {},
     "output_type": "execute_result"
    }
   ],
   "source": [
    "a == b"
   ]
  },
  {
   "cell_type": "code",
   "execution_count": 73,
   "metadata": {},
   "outputs": [
    {
     "data": {
      "text/plain": [
       "False"
      ]
     },
     "execution_count": 73,
     "metadata": {},
     "output_type": "execute_result"
    }
   ],
   "source": [
    "a is b"
   ]
  },
  {
   "cell_type": "code",
   "execution_count": 74,
   "metadata": {},
   "outputs": [
    {
     "data": {
      "text/plain": [
       "True"
      ]
     },
     "execution_count": 74,
     "metadata": {},
     "output_type": "execute_result"
    }
   ],
   "source": [
    "a is not b"
   ]
  },
  {
   "cell_type": "markdown",
   "metadata": {},
   "source": [
    "What do identical objects look like? Here is an example:"
   ]
  },
  {
   "cell_type": "code",
   "execution_count": 75,
   "metadata": {},
   "outputs": [
    {
     "data": {
      "text/plain": [
       "True"
      ]
     },
     "execution_count": 75,
     "metadata": {},
     "output_type": "execute_result"
    }
   ],
   "source": [
    "a = [1, 2, 3]\n",
    "b = a\n",
    "a is b"
   ]
  },
  {
   "cell_type": "markdown",
   "metadata": {},
   "source": [
    "The difference between the two cases here is that in the first, ``a`` and ``b`` point to *different objects*, while in the second they point to the *same object*.\n",
    "As we saw in the previous section, Python variables are pointers. The \"``is``\" operator checks whether the two variables are pointing to the same container (object), rather than referring to what the container contains.\n",
    "With this in mind, in most cases that a beginner is tempted to use \"``is``\" what they really mean is ``==``."
   ]
  },
  {
   "cell_type": "markdown",
   "metadata": {},
   "source": [
    "### Membership operators\n",
    "Membership operators check for membership within compound objects.\n",
    "So, for example, we can write:"
   ]
  },
  {
   "cell_type": "code",
   "execution_count": 76,
   "metadata": {},
   "outputs": [
    {
     "data": {
      "text/plain": [
       "True"
      ]
     },
     "execution_count": 76,
     "metadata": {},
     "output_type": "execute_result"
    }
   ],
   "source": [
    "1 in [1, 2, 3]"
   ]
  },
  {
   "cell_type": "code",
   "execution_count": 77,
   "metadata": {},
   "outputs": [
    {
     "data": {
      "text/plain": [
       "False"
      ]
     },
     "execution_count": 77,
     "metadata": {},
     "output_type": "execute_result"
    }
   ],
   "source": [
    "2 not in [1, 2, 3]"
   ]
  },
  {
   "cell_type": "markdown",
   "metadata": {},
   "source": [
    "These membership operations are an example of what makes Python so easy to use compared to lower-level languages such as C.\n",
    "In C, membership would generally be determined by manually constructing a loop over the list and checking for equality of each value.\n",
    "In Python, you just type what you want to know, in a manner reminiscent of straightforward English prose."
   ]
  },
  {
   "cell_type": "markdown",
   "metadata": {},
   "source": [
    "<a id='ControlFlow'></a>\n",
    "# Control Flow"
   ]
  },
  {
   "cell_type": "markdown",
   "metadata": {},
   "source": [
    "*Control flow* is where the rubber really meets the road in programming.\n",
    "Without it, a program is simply a list of statements that are sequentially executed.\n",
    "With control flow, you can execute certain code blocks conditionally and/or repeatedly: these basic building blocks can be combined to create surprisingly sophisticated programs!\n",
    "\n",
    "Here we'll cover *conditional statements* (including \"``if``\", \"``elif``\", and \"``else``\"), *loop statements* (including \"``for``\" and \"``while``\" and the accompanying \"``break``\", \"``continue``\", and \"``pass``\")."
   ]
  },
  {
   "cell_type": "markdown",
   "metadata": {},
   "source": [
    "## Conditional Statements: ``if``-``elif``-``else``:\n",
    "Conditional statements, often referred to as *if-then* statements, allow the programmer to execute certain pieces of code depending on some Boolean condition.\n",
    "A basic example of a Python conditional statement is this:"
   ]
  },
  {
   "cell_type": "code",
   "execution_count": 78,
   "metadata": {},
   "outputs": [
    {
     "name": "stdout",
     "output_type": "stream",
     "text": [
      "-15 is negative\n"
     ]
    }
   ],
   "source": [
    "x = -15\n",
    "\n",
    "if x == 0:\n",
    "    print(x, \"is zero\")\n",
    "elif x > 0:\n",
    "    print(x, \"is positive\")\n",
    "elif x < 0:\n",
    "    print(x, \"is negative\")\n",
    "else:\n",
    "    print(x, \"is unlike anything I've ever seen...\")"
   ]
  },
  {
   "cell_type": "markdown",
   "metadata": {},
   "source": [
    "Note especially the use of colons (``:``) and whitespace to denote separate blocks of code.\n",
    "\n",
    "Python adopts the ``if`` and ``else`` often used in other languages; its more unique keyword is ``elif``, a contraction of \"else if\".\n",
    "In these conditional clauses, ``elif`` and ``else`` blocks are optional; additionally, you can optinally include as few or as many ``elif`` statements as you would like."
   ]
  },
  {
   "cell_type": "markdown",
   "metadata": {},
   "source": [
    "## ``for`` loops\n",
    "Loops in Python are a way to repeatedly execute some code statement.\n",
    "So, for example, if we'd like to print each of the items in a list, we can use a ``for`` loop:"
   ]
  },
  {
   "cell_type": "code",
   "execution_count": 79,
   "metadata": {},
   "outputs": [
    {
     "name": "stdout",
     "output_type": "stream",
     "text": [
      "2 3 5 7 "
     ]
    }
   ],
   "source": [
    "for N in [2, 3, 5, 7]:\n",
    "    print(N, end=' ') # print all on same line"
   ]
  },
  {
   "cell_type": "markdown",
   "metadata": {},
   "source": [
    "Notice the simplicity of the ``for`` loop: we specify the variable we want to use, the sequence we want to loop over, and use the \"``in``\" operator to link them together in an intuitive and readable way.\n",
    "More precisely, the object to the right of the \"``in``\" can be any Python *iterator*.\n",
    "An iterator can be thought of as a generalized sequence, and we'll discuss them in [Iterators](10-Iterators.ipynb).\n",
    "\n",
    "For example, one of the most commonly-used iterators in Python is the ``range`` object, which generates a sequence of numbers:"
   ]
  },
  {
   "cell_type": "code",
   "execution_count": 80,
   "metadata": {},
   "outputs": [
    {
     "name": "stdout",
     "output_type": "stream",
     "text": [
      "0 1 2 3 4 5 6 7 8 9 "
     ]
    }
   ],
   "source": [
    "for i in range(10):\n",
    "    print(i, end=' ')"
   ]
  },
  {
   "cell_type": "markdown",
   "metadata": {},
   "source": [
    "Note that the range starts at zero by default, and that by convention the top of the range is not included in the output.\n",
    "Range objects can also have more complicated values:"
   ]
  },
  {
   "cell_type": "code",
   "execution_count": 81,
   "metadata": {},
   "outputs": [
    {
     "data": {
      "text/plain": [
       "[5, 6, 7, 8, 9]"
      ]
     },
     "execution_count": 81,
     "metadata": {},
     "output_type": "execute_result"
    }
   ],
   "source": [
    "# range from 5 to 10\n",
    "list(range(5, 10))"
   ]
  },
  {
   "cell_type": "code",
   "execution_count": 82,
   "metadata": {},
   "outputs": [
    {
     "data": {
      "text/plain": [
       "[0, 2, 4, 6, 8]"
      ]
     },
     "execution_count": 82,
     "metadata": {},
     "output_type": "execute_result"
    }
   ],
   "source": [
    "# range from 0 to 10 by 2\n",
    "list(range(0, 10, 2))"
   ]
  },
  {
   "cell_type": "markdown",
   "metadata": {},
   "source": [
    "You might notice that the meaning of ``range`` arguments is very similar to the slicing syntax that we covered in [Lists](06-Built-in-Data-Structures.ipynb#Lists).\n",
    "\n",
    "Note that the behavior of ``range()`` is one of the differences between Python 2 and Python 3: in Python 2, ``range()`` produces a list, while in Python 3, ``range()`` produces an iterable object."
   ]
  },
  {
   "cell_type": "markdown",
   "metadata": {},
   "source": [
    "## ``while`` loops\n",
    "The other type of loop in Python is a ``while`` loop, which iterates until some condition is met:"
   ]
  },
  {
   "cell_type": "code",
   "execution_count": 83,
   "metadata": {},
   "outputs": [
    {
     "name": "stdout",
     "output_type": "stream",
     "text": [
      "0 1 2 3 4 5 6 7 8 9 "
     ]
    }
   ],
   "source": [
    "i = 0\n",
    "while i < 10:\n",
    "    print(i, end=' ')\n",
    "    i += 1"
   ]
  },
  {
   "cell_type": "markdown",
   "metadata": {},
   "source": [
    "The argument of the ``while`` loop is evaluated as a boolean statement, and the loop is executed until the statement evaluates to False."
   ]
  },
  {
   "cell_type": "markdown",
   "metadata": {},
   "source": [
    "## ``break`` and ``continue``: Fine-Tuning Your Loops\n",
    "There are two useful statements that can be used within loops to fine-tune how they are executed:\n",
    "\n",
    "- The ``break`` statement breaks-out of the loop entirely\n",
    "- The ``continue`` statement skips the remainder of the current loop, and goes to the next iteration\n",
    "\n",
    "These can be used in both ``for`` and ``while`` loops.\n",
    "\n",
    "Here is an example of using ``continue`` to print a string of odd numbers.\n",
    "In this case, the result could be accomplished just as well with an ``if-else`` statement, but sometimes the ``continue`` statement can be a more convenient way to express the idea you have in mind:"
   ]
  },
  {
   "cell_type": "code",
   "execution_count": 84,
   "metadata": {},
   "outputs": [
    {
     "name": "stdout",
     "output_type": "stream",
     "text": [
      "1 3 5 7 9 11 13 15 17 19 "
     ]
    }
   ],
   "source": [
    "for n in range(20):\n",
    "    # if the remainder of n / 2 is 0, skip the rest of the loop\n",
    "    if n % 2 == 0:\n",
    "        continue\n",
    "    print(n, end=' ')"
   ]
  },
  {
   "cell_type": "markdown",
   "metadata": {},
   "source": [
    "Here is an example of a ``break`` statement used for a less trivial task.\n",
    "This loop will fill a list with all Fibonacci numbers up to a certain value:"
   ]
  },
  {
   "cell_type": "code",
   "execution_count": 85,
   "metadata": {},
   "outputs": [
    {
     "name": "stdout",
     "output_type": "stream",
     "text": [
      "[1, 1, 2, 3, 5, 8, 13, 21, 34, 55, 89]\n"
     ]
    }
   ],
   "source": [
    "a, b = 0, 1\n",
    "amax = 100\n",
    "L = []\n",
    "\n",
    "while True:\n",
    "    (a, b) = (b, a + b)\n",
    "    if a > amax:\n",
    "        break\n",
    "    L.append(a)\n",
    "\n",
    "print(L)"
   ]
  },
  {
   "cell_type": "markdown",
   "metadata": {},
   "source": [
    "Notice that we use a ``while True`` loop, which will loop forever unless we have a break statement!"
   ]
  },
  {
   "cell_type": "markdown",
   "metadata": {},
   "source": [
    "## Loops with an ``else`` Block\n",
    "One rarely used pattern available in Python is the ``else`` statement as part of a ``for`` or ``while`` loop.\n",
    "We discussed the ``else`` block earlier: it executes if all the ``if`` and ``elif`` statements evaluate to ``False``.\n",
    "The loop-``else`` is perhaps one of the more confusingly-named statements in Python; I prefer to think of it as a ``nobreak`` statement: that is, the ``else`` block is executed only if the loop ends naturally, without encountering a ``break`` statement.\n",
    "\n",
    "As an example of where this might be useful, consider the following (non-optimized) implementation of the *Sieve of Eratosthenes*, a well-known algorithm for finding prime numbers:"
   ]
  },
  {
   "cell_type": "code",
   "execution_count": 86,
   "metadata": {},
   "outputs": [
    {
     "name": "stdout",
     "output_type": "stream",
     "text": [
      "[2, 3, 5, 7, 11, 13, 17, 19, 23, 29]\n"
     ]
    }
   ],
   "source": [
    "L = []\n",
    "nmax = 30\n",
    "\n",
    "for n in range(2, nmax):\n",
    "    for factor in L:\n",
    "        if n % factor == 0:\n",
    "            break\n",
    "    else: # no break\n",
    "        L.append(n)\n",
    "print(L)"
   ]
  },
  {
   "cell_type": "markdown",
   "metadata": {},
   "source": [
    "The ``else`` statement only executes if none of the factors divide the given number.\n",
    "The ``else`` statement works similarly with the ``while`` loop."
   ]
  },
  {
   "cell_type": "markdown",
   "metadata": {},
   "source": [
    "<a id='Functions'></a>\n",
    "# Defining and Using Functions"
   ]
  },
  {
   "cell_type": "markdown",
   "metadata": {},
   "source": [
    "So far, our scripts have been simple, single-use code blocks.\n",
    "One way to organize our Python code and to make it more readable and reusable is to factor-out useful pieces into reusable *functions*.\n",
    "Here we'll cover two ways of creating functions: the ``def`` statement, useful for any type of function, and the ``lambda`` statement, useful for creating short anonymous functions."
   ]
  },
  {
   "cell_type": "markdown",
   "metadata": {},
   "source": [
    "## Using Functions\n",
    "\n",
    "Functions are groups of code that have a name, and can be called using parentheses.\n",
    "We've seen functions before. For example, ``print`` in Python 3 is a function:"
   ]
  },
  {
   "cell_type": "code",
   "execution_count": 87,
   "metadata": {},
   "outputs": [
    {
     "name": "stdout",
     "output_type": "stream",
     "text": [
      "abc\n"
     ]
    }
   ],
   "source": [
    "print('abc')"
   ]
  },
  {
   "cell_type": "markdown",
   "metadata": {},
   "source": [
    "Here ``print`` is the function name, and ``'abc'`` is the function's *argument*.\n",
    "\n",
    "In addition to arguments, there are *keyword arguments* that are specified by name.\n",
    "One available keyword argument for the ``print()`` function (in Python 3) is ``sep``, which tells what character or characters should be used to separate multiple items:"
   ]
  },
  {
   "cell_type": "code",
   "execution_count": 88,
   "metadata": {},
   "outputs": [
    {
     "name": "stdout",
     "output_type": "stream",
     "text": [
      "1 2 3\n"
     ]
    }
   ],
   "source": [
    "print(1, 2, 3)"
   ]
  },
  {
   "cell_type": "code",
   "execution_count": 89,
   "metadata": {},
   "outputs": [
    {
     "name": "stdout",
     "output_type": "stream",
     "text": [
      "1--2--3\n"
     ]
    }
   ],
   "source": [
    "print(1, 2, 3, sep='--')"
   ]
  },
  {
   "cell_type": "markdown",
   "metadata": {},
   "source": [
    "When non-keyword arguments are used together with keyword arguments, the keyword arguments must come at the end."
   ]
  },
  {
   "cell_type": "markdown",
   "metadata": {},
   "source": [
    "## Defining Functions\n",
    "Functions become even more useful when we begin to define our own, organizing functionality to be used in multiple places.\n",
    "In Python, functions are defined with the ``def`` statement.\n",
    "For example, we can encapsulate a version of our Fibonacci sequence code from the previous section as follows:"
   ]
  },
  {
   "cell_type": "code",
   "execution_count": 90,
   "metadata": {},
   "outputs": [],
   "source": [
    "def fibonacci(N):\n",
    "    L = []\n",
    "    a, b = 0, 1\n",
    "    while len(L) < N:\n",
    "        a, b = b, a + b\n",
    "        L.append(a)\n",
    "    return L"
   ]
  },
  {
   "cell_type": "markdown",
   "metadata": {},
   "source": [
    "Now we have a function named ``fibonacci`` which takes a single argument ``N``, does something with this argument, and ``return``s a value; in this case, a list of the first ``N`` Fibonacci numbers:"
   ]
  },
  {
   "cell_type": "code",
   "execution_count": 91,
   "metadata": {},
   "outputs": [
    {
     "data": {
      "text/plain": [
       "[1, 1, 2, 3, 5, 8, 13, 21, 34, 55]"
      ]
     },
     "execution_count": 91,
     "metadata": {},
     "output_type": "execute_result"
    }
   ],
   "source": [
    "fibonacci(10)"
   ]
  },
  {
   "cell_type": "markdown",
   "metadata": {},
   "source": [
    "If you're familiar with strongly-typed languages like ``C``, you'll immediately notice that there is no type information associated with the function inputs or outputs.\n",
    "Python functions can return any Python object, simple or compound, which means constructs that may be difficult in other languages are straightforward in Python.\n",
    "\n",
    "For example, multiple return values are simply put in a tuple, which is indicated by commas:"
   ]
  },
  {
   "cell_type": "code",
   "execution_count": 92,
   "metadata": {},
   "outputs": [
    {
     "name": "stdout",
     "output_type": "stream",
     "text": [
      "3.0 4.0 (3-4j)\n"
     ]
    }
   ],
   "source": [
    "def real_imag_conj(val):\n",
    "    return val.real, val.imag, val.conjugate()\n",
    "\n",
    "r, i, c = real_imag_conj(3 + 4j)\n",
    "print(r, i, c)"
   ]
  },
  {
   "cell_type": "markdown",
   "metadata": {},
   "source": [
    "## Default Argument Values\n",
    "\n",
    "Often when defining a function, there are certain values that we want the function to use *most* of the time, but we'd also like to give the user some flexibility.\n",
    "In this case, we can use *default values* for arguments.\n",
    "Consider the ``fibonacci`` function from before.\n",
    "What if we would like the user to be able to play with the starting values?\n",
    "We could do that as follows:"
   ]
  },
  {
   "cell_type": "code",
   "execution_count": 93,
   "metadata": {},
   "outputs": [],
   "source": [
    "def fibonacci(N, a=0, b=1):\n",
    "    L = []\n",
    "    while len(L) < N:\n",
    "        a, b = b, a + b\n",
    "        L.append(a)\n",
    "    return L"
   ]
  },
  {
   "cell_type": "markdown",
   "metadata": {},
   "source": [
    "With a single argument, the result of the function call is identical to before:"
   ]
  },
  {
   "cell_type": "code",
   "execution_count": 94,
   "metadata": {},
   "outputs": [
    {
     "data": {
      "text/plain": [
       "[1, 1, 2, 3, 5, 8, 13, 21, 34, 55]"
      ]
     },
     "execution_count": 94,
     "metadata": {},
     "output_type": "execute_result"
    }
   ],
   "source": [
    "fibonacci(10)"
   ]
  },
  {
   "cell_type": "markdown",
   "metadata": {},
   "source": [
    "But now we can use the function to explore new things, such as the effect of new starting values:"
   ]
  },
  {
   "cell_type": "code",
   "execution_count": 95,
   "metadata": {},
   "outputs": [
    {
     "data": {
      "text/plain": [
       "[2, 2, 4, 6, 10, 16, 26, 42, 68, 110]"
      ]
     },
     "execution_count": 95,
     "metadata": {},
     "output_type": "execute_result"
    }
   ],
   "source": [
    "fibonacci(10, 0, 2)"
   ]
  },
  {
   "cell_type": "markdown",
   "metadata": {},
   "source": [
    "The values can also be specified by name if desired, in which case the order of the named values does not matter:"
   ]
  },
  {
   "cell_type": "code",
   "execution_count": 96,
   "metadata": {},
   "outputs": [
    {
     "data": {
      "text/plain": [
       "[3, 4, 7, 11, 18, 29, 47, 76, 123, 199]"
      ]
     },
     "execution_count": 96,
     "metadata": {},
     "output_type": "execute_result"
    }
   ],
   "source": [
    "fibonacci(10, b=3, a=1)"
   ]
  },
  {
   "cell_type": "markdown",
   "metadata": {},
   "source": [
    "## ``*args`` and ``**kwargs``: Flexible Arguments\n",
    "Sometimes you might wish to write a function in which you don't initially know how many arguments the user will pass.\n",
    "In this case, you can use the special form ``*args`` and ``**kwargs`` to catch all arguments that are passed.\n",
    "Here is an example:"
   ]
  },
  {
   "cell_type": "code",
   "execution_count": 97,
   "metadata": {},
   "outputs": [],
   "source": [
    "def catch_all(*args, **kwargs):\n",
    "    print(\"args =\", args)\n",
    "    print(\"kwargs = \", kwargs)"
   ]
  },
  {
   "cell_type": "code",
   "execution_count": 98,
   "metadata": {},
   "outputs": [
    {
     "name": "stdout",
     "output_type": "stream",
     "text": [
      "args = (1, 2, 3)\n",
      "kwargs =  {'a': 4, 'b': 5}\n"
     ]
    }
   ],
   "source": [
    "catch_all(1, 2, 3, a=4, b=5)"
   ]
  },
  {
   "cell_type": "code",
   "execution_count": 99,
   "metadata": {},
   "outputs": [
    {
     "name": "stdout",
     "output_type": "stream",
     "text": [
      "args = ('a',)\n",
      "kwargs =  {'keyword': 2}\n"
     ]
    }
   ],
   "source": [
    "catch_all('a', keyword=2)"
   ]
  },
  {
   "cell_type": "markdown",
   "metadata": {},
   "source": [
    "Here it is not the names ``args`` and ``kwargs`` that are important, but the ``*`` characters preceding them.\n",
    "``args`` and ``kwargs`` are just the variable names often used by convention, short for \"arguments\" and \"keyword arguments\".\n",
    "The operative difference is the asterisk characters: a single ``*`` before a variable means \"expand this as a sequence\", while a double ``**`` before a variable means \"expand this as a dictionary\".\n",
    "In fact, this syntax can be used not only with the function definition, but with the function call as well!"
   ]
  },
  {
   "cell_type": "code",
   "execution_count": 100,
   "metadata": {},
   "outputs": [
    {
     "name": "stdout",
     "output_type": "stream",
     "text": [
      "args = (1, 2, 3)\n",
      "kwargs =  {'pi': 3.14}\n"
     ]
    }
   ],
   "source": [
    "inputs = (1, 2, 3)\n",
    "keywords = {'pi': 3.14}\n",
    "\n",
    "catch_all(*inputs, **keywords)"
   ]
  },
  {
   "cell_type": "markdown",
   "metadata": {},
   "source": [
    "## Anonymous (``lambda``) Functions\n",
    "Earlier we quickly covered the most common way of defining functions, the ``def`` statement.\n",
    "You'll likely come across another way of defining short, one-off functions with the ``lambda`` statement.\n",
    "It looks something like this:"
   ]
  },
  {
   "cell_type": "code",
   "execution_count": 101,
   "metadata": {},
   "outputs": [
    {
     "data": {
      "text/plain": [
       "3"
      ]
     },
     "execution_count": 101,
     "metadata": {},
     "output_type": "execute_result"
    }
   ],
   "source": [
    "add = lambda x, y: x + y\n",
    "add(1, 2)"
   ]
  },
  {
   "cell_type": "markdown",
   "metadata": {},
   "source": [
    "This lambda function is roughly equivalent to"
   ]
  },
  {
   "cell_type": "code",
   "execution_count": 102,
   "metadata": {},
   "outputs": [],
   "source": [
    "def add(x, y):\n",
    "    return x + y"
   ]
  },
  {
   "cell_type": "markdown",
   "metadata": {},
   "source": [
    "So why would you ever want to use such a thing?\n",
    "Primarily, it comes down to the fact that *everything is an object* in Python, even functions themselves!\n",
    "That means that functions can be passed as arguments to functions.\n",
    "\n",
    "As an example of this, suppose we have some data stored in a list of dictionaries:"
   ]
  },
  {
   "cell_type": "code",
   "execution_count": 103,
   "metadata": {},
   "outputs": [],
   "source": [
    "data = [{'first':'Guido', 'last':'Van Rossum', 'YOB':1956},\n",
    "        {'first':'Grace', 'last':'Hopper',     'YOB':1906},\n",
    "        {'first':'Alan',  'last':'Turing',     'YOB':1912}]"
   ]
  },
  {
   "cell_type": "markdown",
   "metadata": {},
   "source": [
    "Now suppose we want to sort this data.\n",
    "Python has a ``sorted`` function that does this:"
   ]
  },
  {
   "cell_type": "code",
   "execution_count": 104,
   "metadata": {},
   "outputs": [
    {
     "data": {
      "text/plain": [
       "[1, 2, 3, 4, 5, 6]"
      ]
     },
     "execution_count": 104,
     "metadata": {},
     "output_type": "execute_result"
    }
   ],
   "source": [
    "sorted([2,4,3,5,1,6])"
   ]
  },
  {
   "cell_type": "markdown",
   "metadata": {},
   "source": [
    "But dictionaries are not orderable: we need a way to tell the function *how* to sort our data.\n",
    "We can do this by specifying the ``key`` function, a function which given an item returns the sorting key for that item:"
   ]
  },
  {
   "cell_type": "code",
   "execution_count": 105,
   "metadata": {},
   "outputs": [
    {
     "data": {
      "text/plain": [
       "[{'first': 'Alan', 'last': 'Turing', 'YOB': 1912},\n",
       " {'first': 'Grace', 'last': 'Hopper', 'YOB': 1906},\n",
       " {'first': 'Guido', 'last': 'Van Rossum', 'YOB': 1956}]"
      ]
     },
     "execution_count": 105,
     "metadata": {},
     "output_type": "execute_result"
    }
   ],
   "source": [
    "# sort alphabetically by first name\n",
    "sorted(data, key=lambda item: item['first'])"
   ]
  },
  {
   "cell_type": "code",
   "execution_count": 106,
   "metadata": {},
   "outputs": [
    {
     "data": {
      "text/plain": [
       "[{'first': 'Grace', 'last': 'Hopper', 'YOB': 1906},\n",
       " {'first': 'Alan', 'last': 'Turing', 'YOB': 1912},\n",
       " {'first': 'Guido', 'last': 'Van Rossum', 'YOB': 1956}]"
      ]
     },
     "execution_count": 106,
     "metadata": {},
     "output_type": "execute_result"
    }
   ],
   "source": [
    "# sort by year of birth\n",
    "sorted(data, key=lambda item: item['YOB'])"
   ]
  },
  {
   "cell_type": "markdown",
   "metadata": {},
   "source": [
    "While these key functions could certainly be created by the normal, ``def`` syntax, the ``lambda`` syntax is convenient for such short one-off functions like these."
   ]
  },
  {
   "cell_type": "markdown",
   "metadata": {},
   "source": [
    "<a id='ModulesAndPackages'></a>\n",
    "# Modules and Packages"
   ]
  },
  {
   "cell_type": "markdown",
   "metadata": {},
   "source": [
    "One feature of Python that makes it useful for a wide range of tasks is the fact that it comes \"batteries included\" – that is, the Python standard library contains useful tools for a wide range of tasks.\n",
    "On top of this, there is a broad ecosystem of third-party tools and packages that offer more specialized functionality.\n",
    "Here we'll take a look at importing standard library modules, tools for installing third-party modules, and a description of how you can make your own modules."
   ]
  },
  {
   "cell_type": "markdown",
   "metadata": {},
   "source": [
    "## Loading Modules: the ``import`` Statement\n",
    "\n",
    "For loading built-in and third-party modules, Python provides the ``import`` statement.\n",
    "There are a few ways to use the statement, which we will mention briefly here, from most recommended to least recommended."
   ]
  },
  {
   "cell_type": "markdown",
   "metadata": {},
   "source": [
    "### Explicit module import\n",
    "\n",
    "Explicit import of a module preserves the module's content in a namespace.\n",
    "The namespace is then used to refer to its contents with a \"``.``\" between them.\n",
    "For example, here we'll import the built-in ``math`` module and compute the cosine of pi:"
   ]
  },
  {
   "cell_type": "code",
   "execution_count": 107,
   "metadata": {},
   "outputs": [
    {
     "data": {
      "text/plain": [
       "-1.0"
      ]
     },
     "execution_count": 107,
     "metadata": {},
     "output_type": "execute_result"
    }
   ],
   "source": [
    "import math\n",
    "math.cos(math.pi)"
   ]
  },
  {
   "cell_type": "markdown",
   "metadata": {},
   "source": [
    "### Explicit module import by alias\n",
    "\n",
    "For longer module names, it's not convenient to use the full module name each time you access some element.\n",
    "For this reason, we'll commonly use the \"``import ... as ...``\" pattern to create a shorter alias for the namespace.\n",
    "For example, the NumPy (Numerical Python) package, a popular third-party package useful for data science, is by convention imported under the alias ``np``:"
   ]
  },
  {
   "cell_type": "code",
   "execution_count": 108,
   "metadata": {},
   "outputs": [
    {
     "data": {
      "text/plain": [
       "-1.0"
      ]
     },
     "execution_count": 108,
     "metadata": {},
     "output_type": "execute_result"
    }
   ],
   "source": [
    "import numpy as np\n",
    "np.cos(np.pi)"
   ]
  },
  {
   "cell_type": "markdown",
   "metadata": {},
   "source": [
    "### Explicit import of module contents\n",
    "\n",
    "Sometimes rather than importing the module namespace, you would just like to import a few particular items from the module.\n",
    "This can be done with the \"``from ... import ...``\" pattern.\n",
    "For example, we can import just the ``cos`` function and the ``pi`` constant from the ``math`` module:"
   ]
  },
  {
   "cell_type": "code",
   "execution_count": 109,
   "metadata": {},
   "outputs": [
    {
     "data": {
      "text/plain": [
       "-1.0"
      ]
     },
     "execution_count": 109,
     "metadata": {},
     "output_type": "execute_result"
    }
   ],
   "source": [
    "from math import cos, pi\n",
    "cos(pi)"
   ]
  },
  {
   "cell_type": "markdown",
   "metadata": {},
   "source": [
    "### Implicit import of module contents\n",
    "\n",
    "Finally, it is sometimes useful to import the entirety of the module contents into the local namespace.\n",
    "This can be done with the \"``from ... import *``\" pattern:"
   ]
  },
  {
   "cell_type": "code",
   "execution_count": 110,
   "metadata": {},
   "outputs": [
    {
     "data": {
      "text/plain": [
       "1.0"
      ]
     },
     "execution_count": 110,
     "metadata": {},
     "output_type": "execute_result"
    }
   ],
   "source": [
    "from math import *\n",
    "sin(pi) ** 2 + cos(pi) ** 2"
   ]
  },
  {
   "cell_type": "markdown",
   "metadata": {},
   "source": [
    "This pattern should be used sparingly, if at all.\n",
    "The problem is that such imports can sometimes overwrite function names that you do not intend to overwrite, and the implicitness of the statement makes it difficult to determine what has changed.\n",
    "\n",
    "For example, Python has a built-in ``sum`` function that can be used for various operations:"
   ]
  },
  {
   "cell_type": "code",
   "execution_count": 111,
   "metadata": {},
   "outputs": [
    {
     "name": "stdout",
     "output_type": "stream",
     "text": [
      "Help on built-in function sum in module builtins:\n",
      "\n",
      "sum(iterable, start=0, /)\n",
      "    Return the sum of a 'start' value (default: 0) plus an iterable of numbers\n",
      "    \n",
      "    When the iterable is empty, return the start value.\n",
      "    This function is intended specifically for use with numeric values and may\n",
      "    reject non-numeric types.\n",
      "\n"
     ]
    }
   ],
   "source": [
    "help(sum)"
   ]
  },
  {
   "cell_type": "markdown",
   "metadata": {},
   "source": [
    "We can use this to compute the sum of a sequence, starting with a certain value (here, we'll start with ``-1``):"
   ]
  },
  {
   "cell_type": "code",
   "execution_count": 112,
   "metadata": {},
   "outputs": [
    {
     "data": {
      "text/plain": [
       "9"
      ]
     },
     "execution_count": 112,
     "metadata": {},
     "output_type": "execute_result"
    }
   ],
   "source": [
    "sum(range(5), -1)"
   ]
  },
  {
   "cell_type": "markdown",
   "metadata": {},
   "source": [
    "Now observe what happens if we make the *exact same function call* after importing ``*`` from ``numpy``:"
   ]
  },
  {
   "cell_type": "code",
   "execution_count": 113,
   "metadata": {},
   "outputs": [],
   "source": [
    "from numpy import *"
   ]
  },
  {
   "cell_type": "code",
   "execution_count": 114,
   "metadata": {},
   "outputs": [
    {
     "data": {
      "text/plain": [
       "10"
      ]
     },
     "execution_count": 114,
     "metadata": {},
     "output_type": "execute_result"
    }
   ],
   "source": [
    "sum(range(5), -1)"
   ]
  },
  {
   "cell_type": "markdown",
   "metadata": {},
   "source": [
    "The result is off by one!\n",
    "The reason for this is that the ``import *`` statement *replaces* the built-in ``sum`` function with the ``numpy.sum`` function, which has a different call signature: in the former, we're summing ``range(5)`` starting at ``-1``; in the latter, we're summing ``range(5)`` along the last axis (indicated by ``-1``).\n",
    "This is the type of situation that may arise if care is not taken when using \"``import *``\" – for this reason, it is best to avoid this unless you know exactly what you are doing."
   ]
  },
  {
   "cell_type": "markdown",
   "metadata": {},
   "source": [
    "## Importing from Third-Party Modules\n",
    "\n",
    "One of the things that makes Python useful, especially within the world of data science, is its ecosystem of third-party modules.\n",
    "These can be imported just as the built-in modules, but first the modules must be installed on your system.\n",
    "The standard registry for such modules is the Python Package Index (*PyPI* for short), found on the Web at http://pypi.python.org/.\n",
    "For convenience, Python comes with a program called ``pip`` (a recursive acronym meaning \"pip installs packages\"), which will automatically fetch packages released and listed on PyPI (if you use Python version 2, ``pip`` must be installed separately).\n",
    "For example, if you'd like to install the ``supersmoother`` package that I wrote, all that is required is to type the following at the command line:\n",
    "```\n",
    "$ pip install supersmoother\n",
    "```\n",
    "The source code for the package will be automatically downloaded from the PyPI repository, and the package installed in the standard Python path (assuming you have permission to do so on the computer you're using).\n",
    "\n",
    "For more information about PyPI and the ``pip`` installer, refer to the documentation at http://pypi.python.org/."
   ]
  },
  {
   "cell_type": "markdown",
   "metadata": {},
   "source": [
    "<a id='Exercises'></a>\n",
    "# Exercises\n",
    "\n",
    "## 1) Write a function that returns a list with the first N prime numbers."
   ]
  },
  {
   "cell_type": "code",
   "execution_count": 115,
   "metadata": {},
   "outputs": [],
   "source": [
    "def compute_primes(N):\n",
    "    # Write code here\n",
    "    return prime_numbers"
   ]
  },
  {
   "cell_type": "markdown",
   "metadata": {},
   "source": [
    "## 2)  Write a function  for a two-player Rock-Paper-Scissors game.\n",
    "\n",
    "Function arguments: two strings (player 1 and player 2 inputs)\n",
    "Function return: None\n",
    "\n",
    "The function should print out a message of congratulations to the winner (player 1or 2).\n",
    "\n",
    "**Remember the rules:**\n",
    "* Rock beats scissors\n",
    "* Scissors beats paper    \n",
    "* Paper beats rock\n",
    "\n",
    "Exercise taken from: https://www.practicepython.org\n"
   ]
  },
  {
   "cell_type": "code",
   "execution_count": 116,
   "metadata": {},
   "outputs": [
    {
     "ename": "SyntaxError",
     "evalue": "unexpected EOF while parsing (<ipython-input-116-d25dac7328f9>, line 2)",
     "output_type": "error",
     "traceback": [
      "\u001b[0;36m  File \u001b[0;32m\"<ipython-input-116-d25dac7328f9>\"\u001b[0;36m, line \u001b[0;32m2\u001b[0m\n\u001b[0;31m    # Write code here\u001b[0m\n\u001b[0m                         ^\u001b[0m\n\u001b[0;31mSyntaxError\u001b[0m\u001b[0;31m:\u001b[0m unexpected EOF while parsing\n"
     ]
    }
   ],
   "source": [
    "def rock_paper_scissors(N):\n",
    "    # Write code here    "
   ]
  },
  {
   "cell_type": "markdown",
   "metadata": {},
   "source": [
    "## 3) Write a Python function to remove all even numbers from a list"
   ]
  },
  {
   "cell_type": "code",
   "execution_count": 117,
   "metadata": {},
   "outputs": [],
   "source": [
    "input_list=[1,2,3,4,5,6,7,8,9,10]\n",
    "def remove_even(input_list):\n",
    "    # Write code here\n",
    "    return input_list"
   ]
  },
  {
   "cell_type": "markdown",
   "metadata": {},
   "source": [
    "## 4) Write a function that every time that two numbers are repeated in a list of integers add a None object in between them. "
   ]
  },
  {
   "cell_type": "code",
   "execution_count": 118,
   "metadata": {},
   "outputs": [],
   "source": [
    "input_list=[1,2,3,4,5,6,6,7,8,9,10]\n",
    "def add_in_between(input_list):\n",
    "    # Write code here\n",
    "    return input_list\n"
   ]
  },
  {
   "cell_type": "markdown",
   "metadata": {},
   "source": [
    "## 5) The students's names, ids, age, and grades are distributed in the different dictionaries. \n",
    "### a) Print the total number of students\n",
    "### b) Print the total number of students for each alphabetical letter.\n",
    "### c) Store the students grades in a dictionaries that use the **student full name** as key.\n",
    "### d) Print the the average grades by age.\n",
    "\n",
    "The following dictionaries with data are available:\n",
    "* **id_by_name**: A dictionary that store each student id using the names as keys.\n",
    "* **ages_by_name**: A dictionary that store each student id using the names as keys.\n",
    "* **grades_by_id**: A dictionary that store each student id using the names as keys.\n",
    "\n",
    "The alphabet is stored in the module ascii_lowercase in the **string** package.\n",
    "https://docs.python.org/3/library/string.html"
   ]
  },
  {
   "cell_type": "code",
   "execution_count": 119,
   "metadata": {},
   "outputs": [
    {
     "name": "stdout",
     "output_type": "stream",
     "text": [
      "Loading dictionaries from https://raw.githubusercontent.com/aperezhortal/PythonWorkshopsOnDataScience/master/datasets/student_grades/\n",
      "* id_by_name loaded\n",
      "* ages_by_name loaded\n",
      "* grades_by_id loaded\n"
     ]
    }
   ],
   "source": [
    "# Lets first load the data from the repository\n",
    "\n",
    "# Snippet adapted from:\n",
    "# https://stackoverflow.com/questions/12965203/how-to-get-json-from-webpage-into-python-script\n",
    "\n",
    "#The urllib.request module defines functions and classes which help in opening URLs (mostly HTTP).\n",
    "import urllib.request\n",
    "\n",
    "import json #json file parser\n",
    "\n",
    "# We will only use the urljoin function that construct a full (“absolute”) URL \n",
    "# by combining a “base URL” (base) with another URL (url).\n",
    "\n",
    "my_dictionaries_names = [ \"id_by_name\", \"ages_by_name\", \"grades_by_id\"]\n",
    "repository_url=\"https://raw.githubusercontent.com/aperezhortal/PythonWorkshopsOnDataScience/master/datasets/student_grades/\"\n",
    "\n",
    "    \n",
    "# For testing: repository_url=\"http://127.0.0.1:8000/\"\n",
    "\n",
    "print(\"Loading dictionaries from \"+repository_url)\n",
    "for my_dict_name in my_dictionaries_names:    \n",
    "    \n",
    "    dict_url = repository_url + my_dict_name + \".json\"\n",
    "    \n",
    "    with urllib.request.urlopen(dict_url) as data_url:\n",
    "        \n",
    "        my_dict_instance = json.loads(data_url.read().decode())\n",
    "        exec(my_dict_name+\"=my_dict_instance\")\n",
    "        print(\"* \" + my_dict_name + \" loaded\")\n",
    "    \n",
    "# Now, write your code here:\n",
    "# The following dicts are available:\n",
    "#   id_by_name\n",
    "#   ages_by_name\n",
    "#   grades_by_id"
   ]
  },
  {
   "cell_type": "markdown",
   "metadata": {},
   "source": [
    "# Datsets used in this notebook\n"
   ]
  },
  {
   "cell_type": "markdown",
   "metadata": {},
   "source": [
    "# Students grades\n",
    "\n",
    "The students grades dataset was generated using the following script. Note that all the values are randomly selected."
   ]
  },
  {
   "cell_type": "code",
   "execution_count": 120,
   "metadata": {},
   "outputs": [
    {
     "name": "stdout",
     "output_type": "stream",
     "text": [
      "Requirement already satisfied: names in /storage/aperez/local/miniconda3/envs/python3.6/lib/python3.6/site-packages (0.3.0)\n"
     ]
    }
   ],
   "source": [
    "# Install a random name generator\n",
    "# The \"!\" mark indicates that it is a system command (jupyter notebook functionality)\n",
    "!pip install names "
   ]
  },
  {
   "cell_type": "code",
   "execution_count": 122,
   "metadata": {},
   "outputs": [],
   "source": [
    "#Import the names package\n",
    "import names\n",
    "\n",
    "# Create a list with N=number_of_names random names\n",
    "number_of_names = 1000\n",
    "\n",
    "#List comprehensions. This is faster than the for loops.\n",
    "students_names = [names.get_full_name() for i in range(number_of_names)]\n",
    "\n",
    "# Just in case that the names are repeated, remove them, and add the necesary names to the set.\n",
    "students_names = set(students_names)\n",
    "while len(students_names)<number_of_names:\n",
    "    students_names.add(names.get_full_name())\n",
    "    \n",
    "import random # Import the random number generator module\n",
    "id_by_name = dict()\n",
    "ages_by_name = dict()\n",
    "\n",
    "students_ids = [random.randint(22*1e6,23*1e6) for i in range(number_of_names)] #list comprehensions!\n",
    "\n",
    "# Create a dictionary with a random Ids for each student\n",
    "for full_name, id in zip(students_names, students_ids):\n",
    "    id_by_name[full_name] = id\n",
    "    ages_by_name[full_name] = random.randint(20,27) \n",
    "\n",
    "# Now we will create a dictionary with a random grades for each id \n",
    "\n",
    "# Also remember that dictionaries are unordered sets!, therefore the\n",
    "# order of the dictionary elements and the grades do not necesarily match. \n",
    "\n",
    "# Anyways, we will make sure of that by randomly permutting the ids list.\n",
    "\n",
    "random.shuffle(students_ids) # this function suffles in place! \n",
    "grades_by_id = dict()\n",
    "# Lets create a dictionary with the grades (from 10 to 100) for each student.\n",
    "for id in students_ids:\n",
    "    grades_by_id[id] = random.randint(10,100)\n",
    "\n",
    "# Now we have the 3 dictionaries:\n",
    "# id_by_name\n",
    "# ages_by_name\n",
    "# grades_by_id\n",
    "\n",
    "# Lets save this dictionaries as JSON files.\n",
    "# JSON (JavaScript Object Notation) is a lightweight data-interchange format.\n",
    "# It is easy for humans to read and write. It is easy for machines to parse and generate.\n",
    "import json\n",
    "\n",
    "my_dictionaries_names = [ \"id_by_name\", \"ages_by_name\", \"grades_by_id\"]\n",
    "\n",
    "for my_dict_name in my_dictionaries_names:    \n",
    "    with open(my_dict_name+'.json', 'w') as fp:\n",
    "        json.dump(globals()[my_dict_name], fp)\n",
    "\n",
    "# The globals() function returns a dictionary containing the variables \n",
    "# defined in the global namespace. \n",
    "# globals()[my_dict_name] access the dictionary by its variable name.\n",
    "\n",
    "# Note that all the dictionary keys are stored as strings, but the dict values keep their data type."
   ]
  },
  {
   "cell_type": "markdown",
   "metadata": {},
   "source": [
    "<a id='Credits'></a>\n",
    "# Credits\n",
    "\n",
    "<!--BOOK_INFORMATION-->\n",
    "**Almost all the content of this notebook** was taken from [Whirlwind Tour of Python](http://www.oreilly.com/programming/free/a-whirlwind-tour-of-python.csp) by Jake VanderPlas, and adapted for a 2 hours workshop. \n",
    "\n",
    "This book is a great python introduction and it is a highly recommended read for begginers as well as advanced users.\n",
    "The content is available for free [on GitHub](https://github.com/jakevdp/WhirlwindTourOfPython).\n",
    "*The text and code of the Whirlwind Tour of Python book are released under the [CC0](https://github.com/jakevdp/WhirlwindTourOfPython/blob/master/LICENSE) license.*\n",
    "\n",
    "CC Attribution: A Whirlwind Tour of Python by Jake VanderPlas (O’Reilly). Copyright 2016 O’Reilly Media, Inc., 978-1-491-96465-1\n",
    "\n",
    "<a id='License'></a>\n",
    "# License\n",
    "*This entire notebook and the datasets used are released under same conditions of the original Jake VanderPlas's work [CC0 License](https://github.com/jakevdp/WhirlwindTourOfPython/blob/master/LICENSE).*"
   ]
  }
 ],
 "metadata": {
  "anaconda-cloud": {},
  "kernelspec": {
   "display_name": "Python 3",
   "language": "python",
   "name": "python3"
  },
  "language_info": {
   "codemirror_mode": {
    "name": "ipython",
    "version": 3
   },
   "file_extension": ".py",
   "mimetype": "text/x-python",
   "name": "python",
   "nbconvert_exporter": "python",
   "pygments_lexer": "ipython3",
   "version": "3.8.2"
  }
 },
 "nbformat": 4,
 "nbformat_minor": 4
}
